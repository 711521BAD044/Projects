{
  "metadata": {
    "kernelspec": {
      "name": "python",
      "display_name": "Python (Pyodide)",
      "language": "python"
    },
    "language_info": {
      "codemirror_mode": {
        "name": "python",
        "version": 3
      },
      "file_extension": ".py",
      "mimetype": "text/x-python",
      "name": "python",
      "nbconvert_exporter": "python",
      "pygments_lexer": "ipython3",
      "version": "3.8"
    },
    "colab": {
      "name": "Workbook - Pandas Python Library for Beginners in Data Science.ipynb",
      "provenance": []
    }
  },
  "nbformat_minor": 4,
  "nbformat": 4,
  "cells": [
    {
      "cell_type": "markdown",
      "source": "# <center>Pandas Python Library for Beginners in Data Science\n#### <center>Instructor: Vinita Silaparasetty",
      "metadata": {
        "colab_type": "text",
        "id": "KCoGvh8BKdk6"
      }
    },
    {
      "cell_type": "markdown",
      "source": "### Import Libraries",
      "metadata": {
        "colab_type": "text",
        "id": "ld-AxEPgKdk8"
      }
    },
    {
      "cell_type": "code",
      "source": "import numpy as np\nimport pandas as pd              ",
      "metadata": {
        "colab": {},
        "colab_type": "code",
        "id": "ocAmpkPRKdk9",
        "trusted": true
      },
      "outputs": [],
      "execution_count": 3
    },
    {
      "cell_type": "markdown",
      "source": "# <center> Creating a Series",
      "metadata": {
        "colab_type": "text",
        "id": "2Ofz0_DyKdlD"
      }
    },
    {
      "cell_type": "markdown",
      "source": "<img src=\"https://github.com/VinitaSilaparasetty/Coursera-Pandas-for-Beginners/blob/master/Media/series.png?raw=true\" width=\"600\" height=\"600\">\n",
      "metadata": {
        "colab_type": "text",
        "id": "SbYyYRUSKdlE"
      }
    },
    {
      "cell_type": "markdown",
      "source": "### <center> Method 1: Using an Array",
      "metadata": {
        "colab_type": "text",
        "id": "3P5hT6izKdlE"
      }
    },
    {
      "cell_type": "code",
      "source": "s = ([1,np.nan,'Pandas libray'])\ns1 = pd.Series(s)\ns1",
      "metadata": {
        "colab": {},
        "colab_type": "code",
        "id": "tsb5Ea90KdlF",
        "trusted": true
      },
      "outputs": [
        {
          "execution_count": 40,
          "output_type": "execute_result",
          "data": {
            "text/plain": "0                1\n1              NaN\n2    Pandas libray\ndtype: object"
          },
          "metadata": {}
        }
      ],
      "execution_count": 40
    },
    {
      "cell_type": "markdown",
      "source": "## <center>🏆 Challenge",
      "metadata": {
        "colab_type": "text",
        "id": "6EgyYUF1KdlI"
      }
    },
    {
      "cell_type": "markdown",
      "source": "Create a Pandas Series, named s2, containing the following:\n\n* Integer = 2\n\n* Nan value\n\n* Character = b",
      "metadata": {
        "colab_type": "text",
        "id": "oQknrXEeKdlI"
      }
    },
    {
      "cell_type": "code",
      "source": "s2 = np.array([2,np.nan, 'b'])\ns2 = pd.Series(s2)\ns2",
      "metadata": {
        "colab": {},
        "colab_type": "code",
        "id": "4FA6SXTiKdlJ",
        "trusted": true
      },
      "outputs": [
        {
          "execution_count": 41,
          "output_type": "execute_result",
          "data": {
            "text/plain": "0      2\n1    nan\n2      b\ndtype: object"
          },
          "metadata": {}
        }
      ],
      "execution_count": 41
    },
    {
      "cell_type": "markdown",
      "source": "### <center> Method 2: Using a List",
      "metadata": {
        "colab_type": "text",
        "id": "uD33CcL2KdlM"
      }
    },
    {
      "cell_type": "code",
      "source": "list1 = ['animal', '2','animal']\ns3 = pd.Series(list1)\ns3",
      "metadata": {
        "colab": {},
        "colab_type": "code",
        "id": "WbmqTnqpKdlM",
        "trusted": true
      },
      "outputs": [
        {
          "execution_count": 42,
          "output_type": "execute_result",
          "data": {
            "text/plain": "0    animal\n1         2\n2    animal\ndtype: object"
          },
          "metadata": {}
        }
      ],
      "execution_count": 42
    },
    {
      "cell_type": "markdown",
      "source": "## <center>🏆 Challenge",
      "metadata": {
        "colab_type": "text",
        "id": "7gXdU6rWKdlS"
      }
    },
    {
      "cell_type": "markdown",
      "source": "Create a Pandas Series, named s4.\nUse a list, named list2, containing the following:\n\n* Integer = 3\n\n* Character = c\n\n* String = Numpy \n\nNote:'N' Must be capital",
      "metadata": {
        "colab_type": "text",
        "id": "GdViOvQ2KdlS"
      }
    },
    {
      "cell_type": "code",
      "source": "list2 = ['3', 'c','Numpy']\ns4 = pd.Series(list2)\ns4",
      "metadata": {
        "colab": {},
        "colab_type": "code",
        "id": "1Wj8jpxWKdlT",
        "trusted": true
      },
      "outputs": [
        {
          "execution_count": 43,
          "output_type": "execute_result",
          "data": {
            "text/plain": "0        3\n1        c\n2    Numpy\ndtype: object"
          },
          "metadata": {}
        }
      ],
      "execution_count": 43
    },
    {
      "cell_type": "markdown",
      "source": "### <center> Method 3: Using a Dictionary",
      "metadata": {
        "colab_type": "text",
        "id": "fcErTl3qKdlW"
      }
    },
    {
      "cell_type": "code",
      "source": "s5 = pd.Series(\n    {'A':1,\n    '3': 'Python',\n    })\ns5",
      "metadata": {
        "colab": {},
        "colab_type": "code",
        "id": "ThVGkJpdKdlX",
        "trusted": true
      },
      "outputs": [
        {
          "execution_count": 44,
          "output_type": "execute_result",
          "data": {
            "text/plain": "A         1\n3    Python\ndtype: object"
          },
          "metadata": {}
        }
      ],
      "execution_count": 44
    },
    {
      "cell_type": "markdown",
      "source": "## <center>🏆 Challenge",
      "metadata": {
        "colab_type": "text",
        "id": "VJJSuF2UKdla"
      }
    },
    {
      "cell_type": "markdown",
      "source": "Create a Pandas Series, named s6, containing the following:\n\n* 'Integer' = 3\n* 'B' = Boys\n",
      "metadata": {
        "colab_type": "text",
        "id": "qwY80G7xKdlb"
      }
    },
    {
      "cell_type": "code",
      "source": "s6 = pd.Series(\n    {'Integer':3,\n    'B':'Boys'\n    })\ns6",
      "metadata": {
        "colab": {},
        "colab_type": "code",
        "id": "6N4D3ni_Kdlb",
        "trusted": true
      },
      "outputs": [
        {
          "execution_count": 45,
          "output_type": "execute_result",
          "data": {
            "text/plain": "Integer       3\nB          Boys\ndtype: object"
          },
          "metadata": {}
        }
      ],
      "execution_count": 45
    },
    {
      "cell_type": "markdown",
      "source": "# <center> Creating Data Frames",
      "metadata": {
        "colab_type": "text",
        "id": "UvjvQy9nKdle"
      }
    },
    {
      "cell_type": "markdown",
      "source": "<img src=\"https://github.com/VinitaSilaparasetty/Coursera-Pandas-for-Beginners/blob/master/Media/dataframe.gif?raw=true\" width=\"600\" height=\"600\">",
      "metadata": {
        "colab_type": "text",
        "id": "OirhnVKZKdlf"
      }
    },
    {
      "cell_type": "markdown",
      "source": "### <center> Method 1: Passing a Numpy Array",
      "metadata": {
        "colab_type": "text",
        "id": "OYecM5C4Kdlh"
      }
    },
    {
      "cell_type": "code",
      "source": "df = pd.DataFrame(np.random.randn(6,4))\ndf",
      "metadata": {
        "colab": {},
        "colab_type": "code",
        "id": "siDIHrk5Kdlh",
        "trusted": true
      },
      "outputs": [
        {
          "execution_count": 46,
          "output_type": "execute_result",
          "data": {
            "text/plain": "          0         1         2         3\n0 -0.110666  0.117550 -1.763422  0.443832\n1  0.113389 -0.619056  0.927204 -1.149710\n2 -0.365052 -0.000806  0.023346  0.249942\n3  0.986310 -0.955658 -1.366442  0.748208\n4 -1.766873  0.641320 -1.404622  1.133749\n5 -0.774610 -1.204464  0.011301 -1.532434",
            "text/html": "<div>\n<style scoped>\n    .dataframe tbody tr th:only-of-type {\n        vertical-align: middle;\n    }\n\n    .dataframe tbody tr th {\n        vertical-align: top;\n    }\n\n    .dataframe thead th {\n        text-align: right;\n    }\n</style>\n<table border=\"1\" class=\"dataframe\">\n  <thead>\n    <tr style=\"text-align: right;\">\n      <th></th>\n      <th>0</th>\n      <th>1</th>\n      <th>2</th>\n      <th>3</th>\n    </tr>\n  </thead>\n  <tbody>\n    <tr>\n      <th>0</th>\n      <td>-0.110666</td>\n      <td>0.117550</td>\n      <td>-1.763422</td>\n      <td>0.443832</td>\n    </tr>\n    <tr>\n      <th>1</th>\n      <td>0.113389</td>\n      <td>-0.619056</td>\n      <td>0.927204</td>\n      <td>-1.149710</td>\n    </tr>\n    <tr>\n      <th>2</th>\n      <td>-0.365052</td>\n      <td>-0.000806</td>\n      <td>0.023346</td>\n      <td>0.249942</td>\n    </tr>\n    <tr>\n      <th>3</th>\n      <td>0.986310</td>\n      <td>-0.955658</td>\n      <td>-1.366442</td>\n      <td>0.748208</td>\n    </tr>\n    <tr>\n      <th>4</th>\n      <td>-1.766873</td>\n      <td>0.641320</td>\n      <td>-1.404622</td>\n      <td>1.133749</td>\n    </tr>\n    <tr>\n      <th>5</th>\n      <td>-0.774610</td>\n      <td>-1.204464</td>\n      <td>0.011301</td>\n      <td>-1.532434</td>\n    </tr>\n  </tbody>\n</table>\n</div>"
          },
          "metadata": {}
        }
      ],
      "execution_count": 46
    },
    {
      "cell_type": "markdown",
      "source": "## <center>🏆 Challenge",
      "metadata": {
        "colab_type": "text",
        "id": "IMz9JGVqKdlk"
      }
    },
    {
      "cell_type": "markdown",
      "source": "Create a data frame, named df1, which contains:\n\n* A randomly generated array with the dimensions 3x3.\n",
      "metadata": {
        "colab_type": "text",
        "id": "SpsBwi3eKdll"
      }
    },
    {
      "cell_type": "code",
      "source": "df1 = pd.DataFrame(np.random.randn(3,3))\ndf1",
      "metadata": {
        "colab": {},
        "colab_type": "code",
        "id": "gla4tyT7Kdlm",
        "trusted": true
      },
      "outputs": [
        {
          "execution_count": 47,
          "output_type": "execute_result",
          "data": {
            "text/plain": "          0         1         2\n0  1.415679 -2.776911  1.235307\n1  1.108909  1.314977 -0.414447\n2  0.376534  1.321780 -0.174145",
            "text/html": "<div>\n<style scoped>\n    .dataframe tbody tr th:only-of-type {\n        vertical-align: middle;\n    }\n\n    .dataframe tbody tr th {\n        vertical-align: top;\n    }\n\n    .dataframe thead th {\n        text-align: right;\n    }\n</style>\n<table border=\"1\" class=\"dataframe\">\n  <thead>\n    <tr style=\"text-align: right;\">\n      <th></th>\n      <th>0</th>\n      <th>1</th>\n      <th>2</th>\n    </tr>\n  </thead>\n  <tbody>\n    <tr>\n      <th>0</th>\n      <td>1.415679</td>\n      <td>-2.776911</td>\n      <td>1.235307</td>\n    </tr>\n    <tr>\n      <th>1</th>\n      <td>1.108909</td>\n      <td>1.314977</td>\n      <td>-0.414447</td>\n    </tr>\n    <tr>\n      <th>2</th>\n      <td>0.376534</td>\n      <td>1.321780</td>\n      <td>-0.174145</td>\n    </tr>\n  </tbody>\n</table>\n</div>"
          },
          "metadata": {}
        }
      ],
      "execution_count": 47
    },
    {
      "cell_type": "markdown",
      "source": "### <center> Method 2: Passing a Dictionary of Objects",
      "metadata": {
        "colab_type": "text",
        "id": "I1KbMG7rKdlq"
      }
    },
    {
      "cell_type": "code",
      "source": "df2 = pd.DataFrame({\n    'A':1,\n    'number':np.array([6]*3,dtype='int32'),\n})\ndf2",
      "metadata": {
        "colab": {},
        "colab_type": "code",
        "id": "dye9T8WMKdlq",
        "trusted": true
      },
      "outputs": [
        {
          "execution_count": 48,
          "output_type": "execute_result",
          "data": {
            "text/plain": "   A  number\n0  1       6\n1  1       6\n2  1       6",
            "text/html": "<div>\n<style scoped>\n    .dataframe tbody tr th:only-of-type {\n        vertical-align: middle;\n    }\n\n    .dataframe tbody tr th {\n        vertical-align: top;\n    }\n\n    .dataframe thead th {\n        text-align: right;\n    }\n</style>\n<table border=\"1\" class=\"dataframe\">\n  <thead>\n    <tr style=\"text-align: right;\">\n      <th></th>\n      <th>A</th>\n      <th>number</th>\n    </tr>\n  </thead>\n  <tbody>\n    <tr>\n      <th>0</th>\n      <td>1</td>\n      <td>6</td>\n    </tr>\n    <tr>\n      <th>1</th>\n      <td>1</td>\n      <td>6</td>\n    </tr>\n    <tr>\n      <th>2</th>\n      <td>1</td>\n      <td>6</td>\n    </tr>\n  </tbody>\n</table>\n</div>"
          },
          "metadata": {}
        }
      ],
      "execution_count": 48
    },
    {
      "cell_type": "markdown",
      "source": "## <center>🏆 Challenge",
      "metadata": {
        "colab_type": "text",
        "id": "o8Q8XGUZKdlt"
      }
    },
    {
      "cell_type": "markdown",
      "source": "Create a data frame, named df3, which contains:\n\n* 'E' = np.array([4] * 5,dtype='int32')\n\n* 'Day' = 2",
      "metadata": {
        "colab_type": "text",
        "id": "rKldfWrdKdlu"
      }
    },
    {
      "cell_type": "code",
      "source": "df3= pd.DataFrame({\n    'E':np.array([4]*5,dtype='int32'),\n    'Day':2,\n})\ndf3",
      "metadata": {
        "colab": {},
        "colab_type": "code",
        "id": "6Itupb7_Kdlu",
        "trusted": true
      },
      "outputs": [
        {
          "execution_count": 49,
          "output_type": "execute_result",
          "data": {
            "text/plain": "   E  Day\n0  4    2\n1  4    2\n2  4    2\n3  4    2\n4  4    2",
            "text/html": "<div>\n<style scoped>\n    .dataframe tbody tr th:only-of-type {\n        vertical-align: middle;\n    }\n\n    .dataframe tbody tr th {\n        vertical-align: top;\n    }\n\n    .dataframe thead th {\n        text-align: right;\n    }\n</style>\n<table border=\"1\" class=\"dataframe\">\n  <thead>\n    <tr style=\"text-align: right;\">\n      <th></th>\n      <th>E</th>\n      <th>Day</th>\n    </tr>\n  </thead>\n  <tbody>\n    <tr>\n      <th>0</th>\n      <td>4</td>\n      <td>2</td>\n    </tr>\n    <tr>\n      <th>1</th>\n      <td>4</td>\n      <td>2</td>\n    </tr>\n    <tr>\n      <th>2</th>\n      <td>4</td>\n      <td>2</td>\n    </tr>\n    <tr>\n      <th>3</th>\n      <td>4</td>\n      <td>2</td>\n    </tr>\n    <tr>\n      <th>4</th>\n      <td>4</td>\n      <td>2</td>\n    </tr>\n  </tbody>\n</table>\n</div>"
          },
          "metadata": {}
        }
      ],
      "execution_count": 49
    },
    {
      "cell_type": "markdown",
      "source": "--------",
      "metadata": {
        "colab_type": "text",
        "id": "3R3OkHq4Kdlx"
      }
    },
    {
      "cell_type": "markdown",
      "source": "## <center> Importing Files",
      "metadata": {
        "colab_type": "text",
        "id": "M5AaQ2rDKdly"
      }
    },
    {
      "cell_type": "markdown",
      "source": "### Import .csv files\n\nUse the file path: /home/rhyme/Desktop/Project/\n\n(Note: If you want to use this command for a file on your own system, be sure to use the correct file path.)",
      "metadata": {
        "colab_type": "text",
        "id": "jo9Gd6kqKdlz"
      }
    },
    {
      "cell_type": "code",
      "source": "df4 = pd.read_csv('/home/rhyme/Desktop/Project/practicedata.csv')\ndf4.head(3)",
      "metadata": {
        "colab": {},
        "colab_type": "code",
        "id": "SmwNmKeyKdlz"
      },
      "outputs": [
        {
          "data": {
            "text/html": [
              "<div>\n",
              "<style scoped>\n",
              "    .dataframe tbody tr th:only-of-type {\n",
              "        vertical-align: middle;\n",
              "    }\n",
              "\n",
              "    .dataframe tbody tr th {\n",
              "        vertical-align: top;\n",
              "    }\n",
              "\n",
              "    .dataframe thead th {\n",
              "        text-align: right;\n",
              "    }\n",
              "</style>\n",
              "<table border=\"1\" class=\"dataframe\">\n",
              "  <thead>\n",
              "    <tr style=\"text-align: right;\">\n",
              "      <th></th>\n",
              "      <th>A</th>\n",
              "      <th>B</th>\n",
              "      <th>C</th>\n",
              "      <th>D</th>\n",
              "    </tr>\n",
              "  </thead>\n",
              "  <tbody>\n",
              "    <tr>\n",
              "      <th>0</th>\n",
              "      <td>NaN</td>\n",
              "      <td>-1.604969</td>\n",
              "      <td>-0.106263</td>\n",
              "      <td>-1.002924</td>\n",
              "    </tr>\n",
              "    <tr>\n",
              "      <th>1</th>\n",
              "      <td>-0.404667</td>\n",
              "      <td>0.458565</td>\n",
              "      <td>-1.174912</td>\n",
              "      <td>NaN</td>\n",
              "    </tr>\n",
              "    <tr>\n",
              "      <th>2</th>\n",
              "      <td>0.440231</td>\n",
              "      <td>1.713480</td>\n",
              "      <td>0.162473</td>\n",
              "      <td>-1.632132</td>\n",
              "    </tr>\n",
              "  </tbody>\n",
              "</table>\n",
              "</div>"
            ],
            "text/plain": [
              "          A         B         C         D\n",
              "0       NaN -1.604969 -0.106263 -1.002924\n",
              "1 -0.404667  0.458565 -1.174912       NaN\n",
              "2  0.440231  1.713480  0.162473 -1.632132"
            ]
          },
          "execution_count": 21,
          "metadata": {},
          "output_type": "execute_result"
        }
      ],
      "execution_count": 21
    },
    {
      "cell_type": "markdown",
      "source": "-----------------",
      "metadata": {
        "colab_type": "text",
        "id": "uCGTYpgnKdl2"
      }
    },
    {
      "cell_type": "markdown",
      "source": "## <center>🏆 Challenge\n    \nImport the file practicedata.json in the dataframe df5.\n\nUse the file path: /home/rhyme/Desktop/Project/",
      "metadata": {
        "colab_type": "text",
        "id": "YnNKzbKEKdl2"
      }
    },
    {
      "cell_type": "code",
      "source": "df5 = pd.read_json('/home/rhyme/Desktop/Project/practicedata.json')\ndf5.head(3)",
      "metadata": {
        "colab": {},
        "colab_type": "code",
        "id": "oGc5QRJvKdl4"
      },
      "outputs": [
        {
          "data": {
            "text/html": [
              "<div>\n",
              "<style scoped>\n",
              "    .dataframe tbody tr th:only-of-type {\n",
              "        vertical-align: middle;\n",
              "    }\n",
              "\n",
              "    .dataframe tbody tr th {\n",
              "        vertical-align: top;\n",
              "    }\n",
              "\n",
              "    .dataframe thead th {\n",
              "        text-align: right;\n",
              "    }\n",
              "</style>\n",
              "<table border=\"1\" class=\"dataframe\">\n",
              "  <thead>\n",
              "    <tr style=\"text-align: right;\">\n",
              "      <th></th>\n",
              "      <th>A</th>\n",
              "      <th>B</th>\n",
              "      <th>C</th>\n",
              "      <th>D</th>\n",
              "    </tr>\n",
              "  </thead>\n",
              "  <tbody>\n",
              "    <tr>\n",
              "      <th>0</th>\n",
              "      <td>NaN</td>\n",
              "      <td>-1.604969</td>\n",
              "      <td>-0.106263</td>\n",
              "      <td>-1.002924</td>\n",
              "    </tr>\n",
              "    <tr>\n",
              "      <th>1</th>\n",
              "      <td>-0.404667</td>\n",
              "      <td>0.458565</td>\n",
              "      <td>-1.174912</td>\n",
              "      <td>NaN</td>\n",
              "    </tr>\n",
              "    <tr>\n",
              "      <th>2</th>\n",
              "      <td>0.440231</td>\n",
              "      <td>1.713480</td>\n",
              "      <td>0.162473</td>\n",
              "      <td>-1.632132</td>\n",
              "    </tr>\n",
              "  </tbody>\n",
              "</table>\n",
              "</div>"
            ],
            "text/plain": [
              "          A         B         C         D\n",
              "0       NaN -1.604969 -0.106263 -1.002924\n",
              "1 -0.404667  0.458565 -1.174912       NaN\n",
              "2  0.440231  1.713480  0.162473 -1.632132"
            ]
          },
          "execution_count": 23,
          "metadata": {},
          "output_type": "execute_result"
        }
      ],
      "execution_count": 23
    },
    {
      "cell_type": "markdown",
      "source": "## <center>🏆 Challenge\n    \nImport the file practicedata.json in the dataframe df5.\n\nUse the file path: /home/rhyme/Desktop/Project/",
      "metadata": {
        "colab_type": "text",
        "id": "YnNKzbKEKdl2"
      }
    },
    {
      "cell_type": "markdown",
      "source": "##### Importing Files from a url\n\nImport data from this github repo: \")\nhttps://raw.githubusercontent.com/VinitaSilaparasetty/Coursera-Pandas-for-Beginners/master/practicedata.csv",
      "metadata": {
        "colab_type": "text",
        "id": "JwEArSFUKdl7"
      }
    },
    {
      "cell_type": "code",
      "source": "df6 = pd.read_csv('https://raw.githubusercontent.com/VinitaSilaparasetty/Coursera-Pandas-for-Beginners/master/practicedata.csv')\ndf6.head(3)",
      "metadata": {
        "colab": {},
        "colab_type": "code",
        "id": "rmtoBqDvKdl8"
      },
      "outputs": [
        {
          "data": {
            "text/html": [
              "<div>\n",
              "<style scoped>\n",
              "    .dataframe tbody tr th:only-of-type {\n",
              "        vertical-align: middle;\n",
              "    }\n",
              "\n",
              "    .dataframe tbody tr th {\n",
              "        vertical-align: top;\n",
              "    }\n",
              "\n",
              "    .dataframe thead th {\n",
              "        text-align: right;\n",
              "    }\n",
              "</style>\n",
              "<table border=\"1\" class=\"dataframe\">\n",
              "  <thead>\n",
              "    <tr style=\"text-align: right;\">\n",
              "      <th></th>\n",
              "      <th>A</th>\n",
              "      <th>B</th>\n",
              "      <th>C</th>\n",
              "      <th>D</th>\n",
              "    </tr>\n",
              "  </thead>\n",
              "  <tbody>\n",
              "    <tr>\n",
              "      <th>0</th>\n",
              "      <td>NaN</td>\n",
              "      <td>-1.604969</td>\n",
              "      <td>-0.106263</td>\n",
              "      <td>-1.002924</td>\n",
              "    </tr>\n",
              "    <tr>\n",
              "      <th>1</th>\n",
              "      <td>-0.404667</td>\n",
              "      <td>0.458565</td>\n",
              "      <td>-1.174912</td>\n",
              "      <td>NaN</td>\n",
              "    </tr>\n",
              "    <tr>\n",
              "      <th>2</th>\n",
              "      <td>0.440231</td>\n",
              "      <td>1.713480</td>\n",
              "      <td>0.162473</td>\n",
              "      <td>-1.632132</td>\n",
              "    </tr>\n",
              "  </tbody>\n",
              "</table>\n",
              "</div>"
            ],
            "text/plain": [
              "          A         B         C         D\n",
              "0       NaN -1.604969 -0.106263 -1.002924\n",
              "1 -0.404667  0.458565 -1.174912       NaN\n",
              "2  0.440231  1.713480  0.162473 -1.632132"
            ]
          },
          "execution_count": 24,
          "metadata": {},
          "output_type": "execute_result"
        }
      ],
      "execution_count": 24
    },
    {
      "cell_type": "markdown",
      "source": "## <center>🏆 Challenge\n    \nCreate the data frame df7.\n\nThen import data from this github repo: https://raw.githubusercontent.com/VinitaSilaparasetty/Coursera-Pandas-for-Beginners/master/practicedata.json",
      "metadata": {
        "colab_type": "text",
        "id": "n27mTE_fKdl_"
      }
    },
    {
      "cell_type": "code",
      "source": "df7 =pd.read_json('https://raw.githubusercontent.com/VinitaSilaparasetty/Coursera-Pandas-for-Beginners/master/practicedata.json')\ndf7.head(3)",
      "metadata": {
        "colab": {},
        "colab_type": "code",
        "id": "AO_hwwLSKdmA"
      },
      "outputs": [
        {
          "data": {
            "text/html": [
              "<div>\n",
              "<style scoped>\n",
              "    .dataframe tbody tr th:only-of-type {\n",
              "        vertical-align: middle;\n",
              "    }\n",
              "\n",
              "    .dataframe tbody tr th {\n",
              "        vertical-align: top;\n",
              "    }\n",
              "\n",
              "    .dataframe thead th {\n",
              "        text-align: right;\n",
              "    }\n",
              "</style>\n",
              "<table border=\"1\" class=\"dataframe\">\n",
              "  <thead>\n",
              "    <tr style=\"text-align: right;\">\n",
              "      <th></th>\n",
              "      <th>A</th>\n",
              "      <th>B</th>\n",
              "      <th>C</th>\n",
              "      <th>D</th>\n",
              "    </tr>\n",
              "  </thead>\n",
              "  <tbody>\n",
              "    <tr>\n",
              "      <th>0</th>\n",
              "      <td>NaN</td>\n",
              "      <td>-1.604969</td>\n",
              "      <td>-0.106263</td>\n",
              "      <td>-1.002924</td>\n",
              "    </tr>\n",
              "    <tr>\n",
              "      <th>1</th>\n",
              "      <td>-0.404667</td>\n",
              "      <td>0.458565</td>\n",
              "      <td>-1.174912</td>\n",
              "      <td>NaN</td>\n",
              "    </tr>\n",
              "    <tr>\n",
              "      <th>2</th>\n",
              "      <td>0.440231</td>\n",
              "      <td>1.713480</td>\n",
              "      <td>0.162473</td>\n",
              "      <td>-1.632132</td>\n",
              "    </tr>\n",
              "  </tbody>\n",
              "</table>\n",
              "</div>"
            ],
            "text/plain": [
              "          A         B         C         D\n",
              "0       NaN -1.604969 -0.106263 -1.002924\n",
              "1 -0.404667  0.458565 -1.174912       NaN\n",
              "2  0.440231  1.713480  0.162473 -1.632132"
            ]
          },
          "execution_count": 27,
          "metadata": {},
          "output_type": "execute_result"
        }
      ],
      "execution_count": 27
    },
    {
      "cell_type": "markdown",
      "source": "##### Importing Files from a url\n\nImport data from this github repo: https://raw.githubusercontent.com/VinitaSilaparasetty/Coursera-Pandas-for-Beginners/master/practicedata.csv\")\n",
      "metadata": {
        "colab_type": "text",
        "id": "JwEArSFUKdl7"
      }
    },
    {
      "cell_type": "markdown",
      "source": "## <center> Export Files",
      "metadata": {
        "colab_type": "text",
        "id": "_EThdbK-KdmC"
      }
    },
    {
      "cell_type": "markdown",
      "source": "### Export .csv Files",
      "metadata": {
        "colab_type": "text",
        "id": "z0XsMHH5KdmD"
      }
    },
    {
      "cell_type": "code",
      "source": "df4.to_csv('/home/rhyme/Desktop/Project/practicedata2.csv')",
      "metadata": {
        "colab": {},
        "colab_type": "code",
        "id": "S8V4mCjZKdmD"
      },
      "outputs": [],
      "execution_count": 29
    },
    {
      "cell_type": "markdown",
      "source": "## <center>🏆 Challenge\n\nExport the data from df4 to 'practicedata2.json'\n\nUse the file path:/home/rhyme/Desktop/Project/",
      "metadata": {
        "colab_type": "text",
        "id": "dIfmNerUKdmF"
      }
    },
    {
      "cell_type": "code",
      "source": "df4.to_json('/home/rhyme/Desktop/Project/practicedata2.json')",
      "metadata": {
        "colab": {},
        "colab_type": "code",
        "id": "hAKKLJFdKdmG"
      },
      "outputs": [],
      "execution_count": 30
    },
    {
      "cell_type": "markdown",
      "source": "## <center>Data Summary\n    \nWe will be working with data frame df6 for this section. ",
      "metadata": {
        "colab_type": "text",
        "id": "FlkZR3qZKdmI"
      }
    },
    {
      "cell_type": "code",
      "source": "#first run this cell to create the data frame df6\ndf6 = pd.read_csv(\"https://raw.githubusercontent.com/VinitaSilaparasetty/Coursera-Pandas-for-Beginners/master/practicedata.csv\")\ndf6",
      "metadata": {
        "colab": {},
        "colab_type": "code",
        "id": "lKTohz7wKdmJ"
      },
      "outputs": [
        {
          "data": {
            "text/html": [
              "<div>\n",
              "<style scoped>\n",
              "    .dataframe tbody tr th:only-of-type {\n",
              "        vertical-align: middle;\n",
              "    }\n",
              "\n",
              "    .dataframe tbody tr th {\n",
              "        vertical-align: top;\n",
              "    }\n",
              "\n",
              "    .dataframe thead th {\n",
              "        text-align: right;\n",
              "    }\n",
              "</style>\n",
              "<table border=\"1\" class=\"dataframe\">\n",
              "  <thead>\n",
              "    <tr style=\"text-align: right;\">\n",
              "      <th></th>\n",
              "      <th>A</th>\n",
              "      <th>B</th>\n",
              "      <th>C</th>\n",
              "      <th>D</th>\n",
              "    </tr>\n",
              "  </thead>\n",
              "  <tbody>\n",
              "    <tr>\n",
              "      <th>0</th>\n",
              "      <td>NaN</td>\n",
              "      <td>-1.604969</td>\n",
              "      <td>-0.106263</td>\n",
              "      <td>-1.002924</td>\n",
              "    </tr>\n",
              "    <tr>\n",
              "      <th>1</th>\n",
              "      <td>-0.404667</td>\n",
              "      <td>0.458565</td>\n",
              "      <td>-1.174912</td>\n",
              "      <td>NaN</td>\n",
              "    </tr>\n",
              "    <tr>\n",
              "      <th>2</th>\n",
              "      <td>0.440231</td>\n",
              "      <td>1.713480</td>\n",
              "      <td>0.162473</td>\n",
              "      <td>-1.632132</td>\n",
              "    </tr>\n",
              "    <tr>\n",
              "      <th>3</th>\n",
              "      <td>0.081050</td>\n",
              "      <td>0.639851</td>\n",
              "      <td>0.844037</td>\n",
              "      <td>1.463154</td>\n",
              "    </tr>\n",
              "    <tr>\n",
              "      <th>4</th>\n",
              "      <td>-1.013616</td>\n",
              "      <td>-0.224553</td>\n",
              "      <td>1.786915</td>\n",
              "      <td>1.041241</td>\n",
              "    </tr>\n",
              "    <tr>\n",
              "      <th>5</th>\n",
              "      <td>-1.013616</td>\n",
              "      <td>-0.224553</td>\n",
              "      <td>1.786915</td>\n",
              "      <td>1.041241</td>\n",
              "    </tr>\n",
              "    <tr>\n",
              "      <th>6</th>\n",
              "      <td>-0.488965</td>\n",
              "      <td>0.946528</td>\n",
              "      <td>0.829525</td>\n",
              "      <td>-0.529912</td>\n",
              "    </tr>\n",
              "    <tr>\n",
              "      <th>7</th>\n",
              "      <td>-0.488965</td>\n",
              "      <td>0.946528</td>\n",
              "      <td>0.829525</td>\n",
              "      <td>-0.529912</td>\n",
              "    </tr>\n",
              "  </tbody>\n",
              "</table>\n",
              "</div>"
            ],
            "text/plain": [
              "          A         B         C         D\n",
              "0       NaN -1.604969 -0.106263 -1.002924\n",
              "1 -0.404667  0.458565 -1.174912       NaN\n",
              "2  0.440231  1.713480  0.162473 -1.632132\n",
              "3  0.081050  0.639851  0.844037  1.463154\n",
              "4 -1.013616 -0.224553  1.786915  1.041241\n",
              "5 -1.013616 -0.224553  1.786915  1.041241\n",
              "6 -0.488965  0.946528  0.829525 -0.529912\n",
              "7 -0.488965  0.946528  0.829525 -0.529912"
            ]
          },
          "execution_count": 31,
          "metadata": {},
          "output_type": "execute_result"
        }
      ],
      "execution_count": 31
    },
    {
      "cell_type": "markdown",
      "source": "### Quick Summary of Data",
      "metadata": {
        "colab_type": "text",
        "id": "DN6MB5lMKdmL"
      }
    },
    {
      "cell_type": "code",
      "source": "df6.info()",
      "metadata": {
        "colab": {},
        "colab_type": "code",
        "id": "mugbGs2uKdmM"
      },
      "outputs": [
        {
          "name": "stdout",
          "output_type": "stream",
          "text": [
            "<class 'pandas.core.frame.DataFrame'>\n",
            "RangeIndex: 8 entries, 0 to 7\n",
            "Data columns (total 4 columns):\n",
            " #   Column  Non-Null Count  Dtype  \n",
            "---  ------  --------------  -----  \n",
            " 0   A       7 non-null      float64\n",
            " 1   B       8 non-null      float64\n",
            " 2   C       8 non-null      float64\n",
            " 3   D       7 non-null      float64\n",
            "dtypes: float64(4)\n",
            "memory usage: 384.0 bytes\n"
          ]
        }
      ],
      "execution_count": 32
    },
    {
      "cell_type": "markdown",
      "source": "### Detailed Summary of Data",
      "metadata": {
        "colab_type": "text",
        "id": "3_jL7fU6KdmQ"
      }
    },
    {
      "cell_type": "code",
      "source": "df6.describe()",
      "metadata": {
        "colab": {},
        "colab_type": "code",
        "id": "GzgcphGkKdmQ"
      },
      "outputs": [
        {
          "data": {
            "text/html": [
              "<div>\n",
              "<style scoped>\n",
              "    .dataframe tbody tr th:only-of-type {\n",
              "        vertical-align: middle;\n",
              "    }\n",
              "\n",
              "    .dataframe tbody tr th {\n",
              "        vertical-align: top;\n",
              "    }\n",
              "\n",
              "    .dataframe thead th {\n",
              "        text-align: right;\n",
              "    }\n",
              "</style>\n",
              "<table border=\"1\" class=\"dataframe\">\n",
              "  <thead>\n",
              "    <tr style=\"text-align: right;\">\n",
              "      <th></th>\n",
              "      <th>A</th>\n",
              "      <th>B</th>\n",
              "      <th>C</th>\n",
              "      <th>D</th>\n",
              "    </tr>\n",
              "  </thead>\n",
              "  <tbody>\n",
              "    <tr>\n",
              "      <th>count</th>\n",
              "      <td>7.000000</td>\n",
              "      <td>8.000000</td>\n",
              "      <td>8.000000</td>\n",
              "      <td>7.000000</td>\n",
              "    </tr>\n",
              "    <tr>\n",
              "      <th>mean</th>\n",
              "      <td>-0.412650</td>\n",
              "      <td>0.331360</td>\n",
              "      <td>0.619777</td>\n",
              "      <td>-0.021321</td>\n",
              "    </tr>\n",
              "    <tr>\n",
              "      <th>std</th>\n",
              "      <td>0.533101</td>\n",
              "      <td>1.010369</td>\n",
              "      <td>0.987050</td>\n",
              "      <td>1.192849</td>\n",
              "    </tr>\n",
              "    <tr>\n",
              "      <th>min</th>\n",
              "      <td>-1.013616</td>\n",
              "      <td>-1.604969</td>\n",
              "      <td>-1.174912</td>\n",
              "      <td>-1.632132</td>\n",
              "    </tr>\n",
              "    <tr>\n",
              "      <th>25%</th>\n",
              "      <td>-0.751291</td>\n",
              "      <td>-0.224553</td>\n",
              "      <td>0.095289</td>\n",
              "      <td>-0.766418</td>\n",
              "    </tr>\n",
              "    <tr>\n",
              "      <th>50%</th>\n",
              "      <td>-0.488965</td>\n",
              "      <td>0.549208</td>\n",
              "      <td>0.829525</td>\n",
              "      <td>-0.529912</td>\n",
              "    </tr>\n",
              "    <tr>\n",
              "      <th>75%</th>\n",
              "      <td>-0.161808</td>\n",
              "      <td>0.946528</td>\n",
              "      <td>1.079757</td>\n",
              "      <td>1.041241</td>\n",
              "    </tr>\n",
              "    <tr>\n",
              "      <th>max</th>\n",
              "      <td>0.440231</td>\n",
              "      <td>1.713480</td>\n",
              "      <td>1.786915</td>\n",
              "      <td>1.463154</td>\n",
              "    </tr>\n",
              "  </tbody>\n",
              "</table>\n",
              "</div>"
            ],
            "text/plain": [
              "              A         B         C         D\n",
              "count  7.000000  8.000000  8.000000  7.000000\n",
              "mean  -0.412650  0.331360  0.619777 -0.021321\n",
              "std    0.533101  1.010369  0.987050  1.192849\n",
              "min   -1.013616 -1.604969 -1.174912 -1.632132\n",
              "25%   -0.751291 -0.224553  0.095289 -0.766418\n",
              "50%   -0.488965  0.549208  0.829525 -0.529912\n",
              "75%   -0.161808  0.946528  1.079757  1.041241\n",
              "max    0.440231  1.713480  1.786915  1.463154"
            ]
          },
          "execution_count": 33,
          "metadata": {},
          "output_type": "execute_result"
        }
      ],
      "execution_count": 33
    },
    {
      "cell_type": "markdown",
      "source": "## <center>View Columns",
      "metadata": {
        "colab_type": "text",
        "id": "CF4sggh4KdmU"
      }
    },
    {
      "cell_type": "code",
      "source": "df6.columns",
      "metadata": {
        "colab": {},
        "colab_type": "code",
        "id": "pgMfvaJxKdmU"
      },
      "outputs": [
        {
          "data": {
            "text/plain": [
              "Index(['A', 'B', 'C', 'D'], dtype='object')"
            ]
          },
          "execution_count": 34,
          "metadata": {},
          "output_type": "execute_result"
        }
      ],
      "execution_count": 34
    },
    {
      "cell_type": "markdown",
      "source": "## <center>🏆 Challenge\n    \nView the columns in df7.",
      "metadata": {
        "colab_type": "text",
        "id": "uAXDELuXKdmX"
      }
    },
    {
      "cell_type": "code",
      "source": "#first run this cell to create the data frame df7\ndf7 = pd.read_json(\"https://raw.githubusercontent.com/VinitaSilaparasetty/Coursera-Pandas-for-Beginners/master/practicedata.json\")\ndf7",
      "metadata": {
        "colab": {},
        "colab_type": "code",
        "id": "uE5qFaJtKdmX"
      },
      "outputs": [],
      "execution_count": null
    },
    {
      "cell_type": "code",
      "source": "df7.columns",
      "metadata": {
        "colab": {},
        "colab_type": "code",
        "id": "f11ZMpvZKdma"
      },
      "outputs": [
        {
          "data": {
            "text/plain": [
              "Index(['A', 'B', 'C', 'D'], dtype='object')"
            ]
          },
          "execution_count": 35,
          "metadata": {},
          "output_type": "execute_result"
        }
      ],
      "execution_count": 35
    },
    {
      "cell_type": "markdown",
      "source": "## <center>View Datatypes",
      "metadata": {
        "colab_type": "text",
        "id": "CHrYIhwHKdmg"
      }
    },
    {
      "cell_type": "code",
      "source": "df6.dtypes",
      "metadata": {
        "colab": {},
        "colab_type": "code",
        "id": "jAZnSb1pKdmg"
      },
      "outputs": [
        {
          "data": {
            "text/plain": [
              "A    float64\n",
              "B    float64\n",
              "C    float64\n",
              "D    float64\n",
              "dtype: object"
            ]
          },
          "execution_count": 37,
          "metadata": {},
          "output_type": "execute_result"
        }
      ],
      "execution_count": 37
    },
    {
      "cell_type": "markdown",
      "source": "## <center>🏆 Challenge\n    \nView the datatypes in df7",
      "metadata": {
        "colab_type": "text",
        "id": "6gAkSbTSKdml"
      }
    },
    {
      "cell_type": "code",
      "source": "df7.dtypes",
      "metadata": {
        "colab": {},
        "colab_type": "code",
        "id": "LxbDyFpEKdml",
        "trusted": true
      },
      "outputs": [],
      "execution_count": null
    },
    {
      "cell_type": "markdown",
      "source": "## <center>Handling Duplicates",
      "metadata": {
        "colab_type": "text",
        "id": "UQwb5eCOKdmn"
      }
    },
    {
      "cell_type": "markdown",
      "source": "### Detect Duplicate Rows",
      "metadata": {
        "colab_type": "text",
        "id": "1tMdWWs1Kdmo"
      }
    },
    {
      "cell_type": "code",
      "source": "df6.duplicated()",
      "metadata": {
        "colab": {},
        "colab_type": "code",
        "id": "j8V83rOeKdmp"
      },
      "outputs": [
        {
          "data": {
            "text/plain": [
              "0    False\n",
              "1    False\n",
              "2    False\n",
              "3    False\n",
              "4    False\n",
              "5     True\n",
              "6    False\n",
              "7     True\n",
              "dtype: bool"
            ]
          },
          "execution_count": 38,
          "metadata": {},
          "output_type": "execute_result"
        }
      ],
      "execution_count": 38
    },
    {
      "cell_type": "markdown",
      "source": "### Drop Duplicate Rows",
      "metadata": {
        "colab_type": "text",
        "id": "bRPgjo9fKdmr"
      }
    },
    {
      "cell_type": "code",
      "source": "df6.drop_duplicates()",
      "metadata": {
        "colab": {},
        "colab_type": "code",
        "id": "FWPMWXQQKdms"
      },
      "outputs": [
        {
          "data": {
            "text/html": [
              "<div>\n",
              "<style scoped>\n",
              "    .dataframe tbody tr th:only-of-type {\n",
              "        vertical-align: middle;\n",
              "    }\n",
              "\n",
              "    .dataframe tbody tr th {\n",
              "        vertical-align: top;\n",
              "    }\n",
              "\n",
              "    .dataframe thead th {\n",
              "        text-align: right;\n",
              "    }\n",
              "</style>\n",
              "<table border=\"1\" class=\"dataframe\">\n",
              "  <thead>\n",
              "    <tr style=\"text-align: right;\">\n",
              "      <th></th>\n",
              "      <th>A</th>\n",
              "      <th>B</th>\n",
              "      <th>C</th>\n",
              "      <th>D</th>\n",
              "    </tr>\n",
              "  </thead>\n",
              "  <tbody>\n",
              "    <tr>\n",
              "      <th>0</th>\n",
              "      <td>NaN</td>\n",
              "      <td>-1.604969</td>\n",
              "      <td>-0.106263</td>\n",
              "      <td>-1.002924</td>\n",
              "    </tr>\n",
              "    <tr>\n",
              "      <th>1</th>\n",
              "      <td>-0.404667</td>\n",
              "      <td>0.458565</td>\n",
              "      <td>-1.174912</td>\n",
              "      <td>NaN</td>\n",
              "    </tr>\n",
              "    <tr>\n",
              "      <th>2</th>\n",
              "      <td>0.440231</td>\n",
              "      <td>1.713480</td>\n",
              "      <td>0.162473</td>\n",
              "      <td>-1.632132</td>\n",
              "    </tr>\n",
              "    <tr>\n",
              "      <th>3</th>\n",
              "      <td>0.081050</td>\n",
              "      <td>0.639851</td>\n",
              "      <td>0.844037</td>\n",
              "      <td>1.463154</td>\n",
              "    </tr>\n",
              "    <tr>\n",
              "      <th>4</th>\n",
              "      <td>-1.013616</td>\n",
              "      <td>-0.224553</td>\n",
              "      <td>1.786915</td>\n",
              "      <td>1.041241</td>\n",
              "    </tr>\n",
              "    <tr>\n",
              "      <th>6</th>\n",
              "      <td>-0.488965</td>\n",
              "      <td>0.946528</td>\n",
              "      <td>0.829525</td>\n",
              "      <td>-0.529912</td>\n",
              "    </tr>\n",
              "  </tbody>\n",
              "</table>\n",
              "</div>"
            ],
            "text/plain": [
              "          A         B         C         D\n",
              "0       NaN -1.604969 -0.106263 -1.002924\n",
              "1 -0.404667  0.458565 -1.174912       NaN\n",
              "2  0.440231  1.713480  0.162473 -1.632132\n",
              "3  0.081050  0.639851  0.844037  1.463154\n",
              "4 -1.013616 -0.224553  1.786915  1.041241\n",
              "6 -0.488965  0.946528  0.829525 -0.529912"
            ]
          },
          "execution_count": 39,
          "metadata": {},
          "output_type": "execute_result"
        }
      ],
      "execution_count": 39
    },
    {
      "cell_type": "markdown",
      "source": "## <center>🏆 Challenge\n    \nDetect and drop duplicates in df7",
      "metadata": {
        "colab_type": "text",
        "id": "kFpZG62ZKdmv"
      }
    },
    {
      "cell_type": "code",
      "source": "#Detect duplicates\ndf7.duplicated()",
      "metadata": {
        "colab": {},
        "colab_type": "code",
        "id": "DhkddpPEKdmw"
      },
      "outputs": [
        {
          "data": {
            "text/plain": [
              "0    False\n",
              "1    False\n",
              "2    False\n",
              "3    False\n",
              "4    False\n",
              "5     True\n",
              "6    False\n",
              "7     True\n",
              "dtype: bool"
            ]
          },
          "execution_count": 40,
          "metadata": {},
          "output_type": "execute_result"
        }
      ],
      "execution_count": 40
    },
    {
      "cell_type": "code",
      "source": "#Drop duplicates\ndf7.drop_duplicates()\n",
      "metadata": {
        "colab": {},
        "colab_type": "code",
        "id": "IiCtmeqoKdmy"
      },
      "outputs": [
        {
          "data": {
            "text/html": [
              "<div>\n",
              "<style scoped>\n",
              "    .dataframe tbody tr th:only-of-type {\n",
              "        vertical-align: middle;\n",
              "    }\n",
              "\n",
              "    .dataframe tbody tr th {\n",
              "        vertical-align: top;\n",
              "    }\n",
              "\n",
              "    .dataframe thead th {\n",
              "        text-align: right;\n",
              "    }\n",
              "</style>\n",
              "<table border=\"1\" class=\"dataframe\">\n",
              "  <thead>\n",
              "    <tr style=\"text-align: right;\">\n",
              "      <th></th>\n",
              "      <th>A</th>\n",
              "      <th>B</th>\n",
              "      <th>C</th>\n",
              "      <th>D</th>\n",
              "    </tr>\n",
              "  </thead>\n",
              "  <tbody>\n",
              "    <tr>\n",
              "      <th>0</th>\n",
              "      <td>NaN</td>\n",
              "      <td>-1.604969</td>\n",
              "      <td>-0.106263</td>\n",
              "      <td>-1.002924</td>\n",
              "    </tr>\n",
              "    <tr>\n",
              "      <th>1</th>\n",
              "      <td>-0.404667</td>\n",
              "      <td>0.458565</td>\n",
              "      <td>-1.174912</td>\n",
              "      <td>NaN</td>\n",
              "    </tr>\n",
              "    <tr>\n",
              "      <th>2</th>\n",
              "      <td>0.440231</td>\n",
              "      <td>1.713480</td>\n",
              "      <td>0.162473</td>\n",
              "      <td>-1.632132</td>\n",
              "    </tr>\n",
              "    <tr>\n",
              "      <th>3</th>\n",
              "      <td>0.081050</td>\n",
              "      <td>0.639851</td>\n",
              "      <td>0.844037</td>\n",
              "      <td>1.463154</td>\n",
              "    </tr>\n",
              "    <tr>\n",
              "      <th>4</th>\n",
              "      <td>-1.013616</td>\n",
              "      <td>-0.224553</td>\n",
              "      <td>1.786915</td>\n",
              "      <td>1.041241</td>\n",
              "    </tr>\n",
              "    <tr>\n",
              "      <th>6</th>\n",
              "      <td>-0.488965</td>\n",
              "      <td>0.946528</td>\n",
              "      <td>0.829525</td>\n",
              "      <td>-0.529912</td>\n",
              "    </tr>\n",
              "  </tbody>\n",
              "</table>\n",
              "</div>"
            ],
            "text/plain": [
              "          A         B         C         D\n",
              "0       NaN -1.604969 -0.106263 -1.002924\n",
              "1 -0.404667  0.458565 -1.174912       NaN\n",
              "2  0.440231  1.713480  0.162473 -1.632132\n",
              "3  0.081050  0.639851  0.844037  1.463154\n",
              "4 -1.013616 -0.224553  1.786915  1.041241\n",
              "6 -0.488965  0.946528  0.829525 -0.529912"
            ]
          },
          "execution_count": 41,
          "metadata": {},
          "output_type": "execute_result"
        }
      ],
      "execution_count": 41
    },
    {
      "cell_type": "markdown",
      "source": "## <center>Handling Missing Values",
      "metadata": {
        "colab_type": "text",
        "id": "waWxSZcJKdm2"
      }
    },
    {
      "cell_type": "markdown",
      "source": "### Detect Missing Values",
      "metadata": {
        "colab_type": "text",
        "id": "6PDXv6FgKdm3"
      }
    },
    {
      "cell_type": "code",
      "source": "print(df6.isnull().sum())",
      "metadata": {
        "colab": {},
        "colab_type": "code",
        "id": "kzSahpp3Kdm3"
      },
      "outputs": [
        {
          "name": "stdout",
          "output_type": "stream",
          "text": [
            "A    1\n",
            "B    0\n",
            "C    0\n",
            "D    1\n",
            "dtype: int64\n"
          ]
        }
      ],
      "execution_count": 42
    },
    {
      "cell_type": "markdown",
      "source": "### Drop Missing Values",
      "metadata": {
        "colab_type": "text",
        "id": "7Mg3mhXoKdm8"
      }
    },
    {
      "cell_type": "code",
      "source": "df6.dropna()",
      "metadata": {
        "colab": {},
        "colab_type": "code",
        "id": "VbpeE7B_Kdm8"
      },
      "outputs": [
        {
          "data": {
            "text/html": [
              "<div>\n",
              "<style scoped>\n",
              "    .dataframe tbody tr th:only-of-type {\n",
              "        vertical-align: middle;\n",
              "    }\n",
              "\n",
              "    .dataframe tbody tr th {\n",
              "        vertical-align: top;\n",
              "    }\n",
              "\n",
              "    .dataframe thead th {\n",
              "        text-align: right;\n",
              "    }\n",
              "</style>\n",
              "<table border=\"1\" class=\"dataframe\">\n",
              "  <thead>\n",
              "    <tr style=\"text-align: right;\">\n",
              "      <th></th>\n",
              "      <th>A</th>\n",
              "      <th>B</th>\n",
              "      <th>C</th>\n",
              "      <th>D</th>\n",
              "    </tr>\n",
              "  </thead>\n",
              "  <tbody>\n",
              "    <tr>\n",
              "      <th>2</th>\n",
              "      <td>0.440231</td>\n",
              "      <td>1.713480</td>\n",
              "      <td>0.162473</td>\n",
              "      <td>-1.632132</td>\n",
              "    </tr>\n",
              "    <tr>\n",
              "      <th>3</th>\n",
              "      <td>0.081050</td>\n",
              "      <td>0.639851</td>\n",
              "      <td>0.844037</td>\n",
              "      <td>1.463154</td>\n",
              "    </tr>\n",
              "    <tr>\n",
              "      <th>4</th>\n",
              "      <td>-1.013616</td>\n",
              "      <td>-0.224553</td>\n",
              "      <td>1.786915</td>\n",
              "      <td>1.041241</td>\n",
              "    </tr>\n",
              "    <tr>\n",
              "      <th>5</th>\n",
              "      <td>-1.013616</td>\n",
              "      <td>-0.224553</td>\n",
              "      <td>1.786915</td>\n",
              "      <td>1.041241</td>\n",
              "    </tr>\n",
              "    <tr>\n",
              "      <th>6</th>\n",
              "      <td>-0.488965</td>\n",
              "      <td>0.946528</td>\n",
              "      <td>0.829525</td>\n",
              "      <td>-0.529912</td>\n",
              "    </tr>\n",
              "    <tr>\n",
              "      <th>7</th>\n",
              "      <td>-0.488965</td>\n",
              "      <td>0.946528</td>\n",
              "      <td>0.829525</td>\n",
              "      <td>-0.529912</td>\n",
              "    </tr>\n",
              "  </tbody>\n",
              "</table>\n",
              "</div>"
            ],
            "text/plain": [
              "          A         B         C         D\n",
              "2  0.440231  1.713480  0.162473 -1.632132\n",
              "3  0.081050  0.639851  0.844037  1.463154\n",
              "4 -1.013616 -0.224553  1.786915  1.041241\n",
              "5 -1.013616 -0.224553  1.786915  1.041241\n",
              "6 -0.488965  0.946528  0.829525 -0.529912\n",
              "7 -0.488965  0.946528  0.829525 -0.529912"
            ]
          },
          "execution_count": 43,
          "metadata": {},
          "output_type": "execute_result"
        }
      ],
      "execution_count": 43
    },
    {
      "cell_type": "markdown",
      "source": "## <center>🏆 Challenge\n    \nDetect and drop missing values in df7",
      "metadata": {
        "colab_type": "text",
        "id": "Z90VbmacKdm_"
      }
    },
    {
      "cell_type": "code",
      "source": "#Detect missing values\nprint(df7.isnull().sum())\n",
      "metadata": {
        "colab": {},
        "colab_type": "code",
        "id": "pf0zbKWaKdm_"
      },
      "outputs": [
        {
          "name": "stdout",
          "output_type": "stream",
          "text": [
            "A    1\n",
            "B    0\n",
            "C    0\n",
            "D    1\n",
            "dtype: int64\n"
          ]
        }
      ],
      "execution_count": 44
    },
    {
      "cell_type": "code",
      "source": "#Drop missing values\ndf7.dropna()",
      "metadata": {
        "colab": {},
        "colab_type": "code",
        "id": "ThXXX8vZKdnE"
      },
      "outputs": [
        {
          "data": {
            "text/html": [
              "<div>\n",
              "<style scoped>\n",
              "    .dataframe tbody tr th:only-of-type {\n",
              "        vertical-align: middle;\n",
              "    }\n",
              "\n",
              "    .dataframe tbody tr th {\n",
              "        vertical-align: top;\n",
              "    }\n",
              "\n",
              "    .dataframe thead th {\n",
              "        text-align: right;\n",
              "    }\n",
              "</style>\n",
              "<table border=\"1\" class=\"dataframe\">\n",
              "  <thead>\n",
              "    <tr style=\"text-align: right;\">\n",
              "      <th></th>\n",
              "      <th>A</th>\n",
              "      <th>B</th>\n",
              "      <th>C</th>\n",
              "      <th>D</th>\n",
              "    </tr>\n",
              "  </thead>\n",
              "  <tbody>\n",
              "    <tr>\n",
              "      <th>2</th>\n",
              "      <td>0.440231</td>\n",
              "      <td>1.713480</td>\n",
              "      <td>0.162473</td>\n",
              "      <td>-1.632132</td>\n",
              "    </tr>\n",
              "    <tr>\n",
              "      <th>3</th>\n",
              "      <td>0.081050</td>\n",
              "      <td>0.639851</td>\n",
              "      <td>0.844037</td>\n",
              "      <td>1.463154</td>\n",
              "    </tr>\n",
              "    <tr>\n",
              "      <th>4</th>\n",
              "      <td>-1.013616</td>\n",
              "      <td>-0.224553</td>\n",
              "      <td>1.786915</td>\n",
              "      <td>1.041241</td>\n",
              "    </tr>\n",
              "    <tr>\n",
              "      <th>5</th>\n",
              "      <td>-1.013616</td>\n",
              "      <td>-0.224553</td>\n",
              "      <td>1.786915</td>\n",
              "      <td>1.041241</td>\n",
              "    </tr>\n",
              "    <tr>\n",
              "      <th>6</th>\n",
              "      <td>-0.488965</td>\n",
              "      <td>0.946528</td>\n",
              "      <td>0.829525</td>\n",
              "      <td>-0.529912</td>\n",
              "    </tr>\n",
              "    <tr>\n",
              "      <th>7</th>\n",
              "      <td>-0.488965</td>\n",
              "      <td>0.946528</td>\n",
              "      <td>0.829525</td>\n",
              "      <td>-0.529912</td>\n",
              "    </tr>\n",
              "  </tbody>\n",
              "</table>\n",
              "</div>"
            ],
            "text/plain": [
              "          A         B         C         D\n",
              "2  0.440231  1.713480  0.162473 -1.632132\n",
              "3  0.081050  0.639851  0.844037  1.463154\n",
              "4 -1.013616 -0.224553  1.786915  1.041241\n",
              "5 -1.013616 -0.224553  1.786915  1.041241\n",
              "6 -0.488965  0.946528  0.829525 -0.529912\n",
              "7 -0.488965  0.946528  0.829525 -0.529912"
            ]
          },
          "execution_count": 45,
          "metadata": {},
          "output_type": "execute_result"
        }
      ],
      "execution_count": 45
    },
    {
      "cell_type": "markdown",
      "source": "## <center>Numeric Operations",
      "metadata": {
        "colab_type": "text",
        "id": "2lw-Kat8KdnH"
      }
    },
    {
      "cell_type": "markdown",
      "source": "We will work with the data frame df8.",
      "metadata": {
        "colab_type": "text",
        "id": "APfPwd9oKdnI"
      }
    },
    {
      "cell_type": "code",
      "source": "#first run this cell to create the dataframe df8\ndf8 = pd.DataFrame(np.random.randn(6,4))\ndf8",
      "metadata": {
        "colab": {},
        "colab_type": "code",
        "id": "KDKVwxrGKdnJ",
        "trusted": true
      },
      "outputs": [
        {
          "execution_count": 7,
          "output_type": "execute_result",
          "data": {
            "text/plain": "          0         1         2         3\n0 -0.953968  0.518073 -0.536308 -0.085191\n1 -1.219519 -1.052261 -0.920048 -0.715182\n2 -0.601180 -0.409705 -1.147205  0.327114\n3 -1.238907 -0.143273 -0.531145 -0.430973\n4 -1.410919 -1.085923  0.167026  1.121532\n5  0.303743 -0.347554 -0.077652 -0.034495",
            "text/html": "<div>\n<style scoped>\n    .dataframe tbody tr th:only-of-type {\n        vertical-align: middle;\n    }\n\n    .dataframe tbody tr th {\n        vertical-align: top;\n    }\n\n    .dataframe thead th {\n        text-align: right;\n    }\n</style>\n<table border=\"1\" class=\"dataframe\">\n  <thead>\n    <tr style=\"text-align: right;\">\n      <th></th>\n      <th>0</th>\n      <th>1</th>\n      <th>2</th>\n      <th>3</th>\n    </tr>\n  </thead>\n  <tbody>\n    <tr>\n      <th>0</th>\n      <td>-0.953968</td>\n      <td>0.518073</td>\n      <td>-0.536308</td>\n      <td>-0.085191</td>\n    </tr>\n    <tr>\n      <th>1</th>\n      <td>-1.219519</td>\n      <td>-1.052261</td>\n      <td>-0.920048</td>\n      <td>-0.715182</td>\n    </tr>\n    <tr>\n      <th>2</th>\n      <td>-0.601180</td>\n      <td>-0.409705</td>\n      <td>-1.147205</td>\n      <td>0.327114</td>\n    </tr>\n    <tr>\n      <th>3</th>\n      <td>-1.238907</td>\n      <td>-0.143273</td>\n      <td>-0.531145</td>\n      <td>-0.430973</td>\n    </tr>\n    <tr>\n      <th>4</th>\n      <td>-1.410919</td>\n      <td>-1.085923</td>\n      <td>0.167026</td>\n      <td>1.121532</td>\n    </tr>\n    <tr>\n      <th>5</th>\n      <td>0.303743</td>\n      <td>-0.347554</td>\n      <td>-0.077652</td>\n      <td>-0.034495</td>\n    </tr>\n  </tbody>\n</table>\n</div>"
          },
          "metadata": {}
        }
      ],
      "execution_count": 7
    },
    {
      "cell_type": "markdown",
      "source": "### Calculate the Mean:",
      "metadata": {
        "colab_type": "text",
        "id": "jN8IqnIFKdnQ"
      }
    },
    {
      "cell_type": "code",
      "source": "df8.mean()",
      "metadata": {
        "colab": {},
        "colab_type": "code",
        "id": "m9w25pqIKdnQ",
        "trusted": true
      },
      "outputs": [
        {
          "execution_count": 8,
          "output_type": "execute_result",
          "data": {
            "text/plain": "0   -0.853458\n1   -0.420107\n2   -0.507555\n3    0.030468\ndtype: float64"
          },
          "metadata": {}
        }
      ],
      "execution_count": 8
    },
    {
      "cell_type": "markdown",
      "source": "## <center>🏆 Challenge\n    \nCalculate the mean of df9",
      "metadata": {
        "colab_type": "text",
        "id": "0qDYbVY5KdnU"
      }
    },
    {
      "cell_type": "code",
      "source": "#first run this cell to create df9\ndf9 = pd.DataFrame(np.random.randn(3,4))\ndf9",
      "metadata": {
        "colab": {},
        "colab_type": "code",
        "id": "GVYUWElgKdnU",
        "trusted": true
      },
      "outputs": [
        {
          "execution_count": 9,
          "output_type": "execute_result",
          "data": {
            "text/plain": "          0         1         2         3\n0  0.693603  1.764259 -0.304227 -0.145562\n1  0.214256 -1.471664  0.566239 -1.255935\n2 -0.310746 -0.665669 -0.259013 -0.638777",
            "text/html": "<div>\n<style scoped>\n    .dataframe tbody tr th:only-of-type {\n        vertical-align: middle;\n    }\n\n    .dataframe tbody tr th {\n        vertical-align: top;\n    }\n\n    .dataframe thead th {\n        text-align: right;\n    }\n</style>\n<table border=\"1\" class=\"dataframe\">\n  <thead>\n    <tr style=\"text-align: right;\">\n      <th></th>\n      <th>0</th>\n      <th>1</th>\n      <th>2</th>\n      <th>3</th>\n    </tr>\n  </thead>\n  <tbody>\n    <tr>\n      <th>0</th>\n      <td>0.693603</td>\n      <td>1.764259</td>\n      <td>-0.304227</td>\n      <td>-0.145562</td>\n    </tr>\n    <tr>\n      <th>1</th>\n      <td>0.214256</td>\n      <td>-1.471664</td>\n      <td>0.566239</td>\n      <td>-1.255935</td>\n    </tr>\n    <tr>\n      <th>2</th>\n      <td>-0.310746</td>\n      <td>-0.665669</td>\n      <td>-0.259013</td>\n      <td>-0.638777</td>\n    </tr>\n  </tbody>\n</table>\n</div>"
          },
          "metadata": {}
        }
      ],
      "execution_count": 9
    },
    {
      "cell_type": "code",
      "source": "df9.mean()",
      "metadata": {
        "colab": {},
        "colab_type": "code",
        "id": "ec14cNcXKdnY",
        "trusted": true
      },
      "outputs": [
        {
          "execution_count": 10,
          "output_type": "execute_result",
          "data": {
            "text/plain": "0    0.199037\n1   -0.124358\n2    0.001000\n3   -0.680091\ndtype: float64"
          },
          "metadata": {}
        }
      ],
      "execution_count": 10
    },
    {
      "cell_type": "markdown",
      "source": "### Calculate the Cumulative Sum:",
      "metadata": {
        "colab_type": "text",
        "id": "_rYXEpNYKdne"
      }
    },
    {
      "cell_type": "code",
      "source": "df8.apply(np.cumsum)",
      "metadata": {
        "colab": {},
        "colab_type": "code",
        "id": "R9U6KznGKdne",
        "trusted": true
      },
      "outputs": [
        {
          "execution_count": 11,
          "output_type": "execute_result",
          "data": {
            "text/plain": "          0         1         2         3\n0 -0.953968  0.518073 -0.536308 -0.085191\n1 -2.173487 -0.534188 -1.456356 -0.800373\n2 -2.774667 -0.943893 -2.603561 -0.473259\n3 -4.013574 -1.087166 -3.134706 -0.904232\n4 -5.424493 -2.173089 -2.967680  0.217300\n5 -5.120750 -2.520643 -3.045332  0.182805",
            "text/html": "<div>\n<style scoped>\n    .dataframe tbody tr th:only-of-type {\n        vertical-align: middle;\n    }\n\n    .dataframe tbody tr th {\n        vertical-align: top;\n    }\n\n    .dataframe thead th {\n        text-align: right;\n    }\n</style>\n<table border=\"1\" class=\"dataframe\">\n  <thead>\n    <tr style=\"text-align: right;\">\n      <th></th>\n      <th>0</th>\n      <th>1</th>\n      <th>2</th>\n      <th>3</th>\n    </tr>\n  </thead>\n  <tbody>\n    <tr>\n      <th>0</th>\n      <td>-0.953968</td>\n      <td>0.518073</td>\n      <td>-0.536308</td>\n      <td>-0.085191</td>\n    </tr>\n    <tr>\n      <th>1</th>\n      <td>-2.173487</td>\n      <td>-0.534188</td>\n      <td>-1.456356</td>\n      <td>-0.800373</td>\n    </tr>\n    <tr>\n      <th>2</th>\n      <td>-2.774667</td>\n      <td>-0.943893</td>\n      <td>-2.603561</td>\n      <td>-0.473259</td>\n    </tr>\n    <tr>\n      <th>3</th>\n      <td>-4.013574</td>\n      <td>-1.087166</td>\n      <td>-3.134706</td>\n      <td>-0.904232</td>\n    </tr>\n    <tr>\n      <th>4</th>\n      <td>-5.424493</td>\n      <td>-2.173089</td>\n      <td>-2.967680</td>\n      <td>0.217300</td>\n    </tr>\n    <tr>\n      <th>5</th>\n      <td>-5.120750</td>\n      <td>-2.520643</td>\n      <td>-3.045332</td>\n      <td>0.182805</td>\n    </tr>\n  </tbody>\n</table>\n</div>"
          },
          "metadata": {}
        }
      ],
      "execution_count": 11
    },
    {
      "cell_type": "markdown",
      "source": "## <center>🏆 Challenge\n    \nCalculate the cumulative sum of df9",
      "metadata": {
        "colab_type": "text",
        "id": "b_9vijDuKdni"
      }
    },
    {
      "cell_type": "code",
      "source": "df9.apply(np.cumsum)",
      "metadata": {
        "colab": {},
        "colab_type": "code",
        "id": "iJtQ-KA7Kdnj",
        "trusted": true
      },
      "outputs": [
        {
          "execution_count": 12,
          "output_type": "execute_result",
          "data": {
            "text/plain": "          0         1         2         3\n0  0.693603  1.764259 -0.304227 -0.145562\n1  0.907859  0.292595  0.262012 -1.401497\n2  0.597112 -0.373074  0.003000 -2.040274",
            "text/html": "<div>\n<style scoped>\n    .dataframe tbody tr th:only-of-type {\n        vertical-align: middle;\n    }\n\n    .dataframe tbody tr th {\n        vertical-align: top;\n    }\n\n    .dataframe thead th {\n        text-align: right;\n    }\n</style>\n<table border=\"1\" class=\"dataframe\">\n  <thead>\n    <tr style=\"text-align: right;\">\n      <th></th>\n      <th>0</th>\n      <th>1</th>\n      <th>2</th>\n      <th>3</th>\n    </tr>\n  </thead>\n  <tbody>\n    <tr>\n      <th>0</th>\n      <td>0.693603</td>\n      <td>1.764259</td>\n      <td>-0.304227</td>\n      <td>-0.145562</td>\n    </tr>\n    <tr>\n      <th>1</th>\n      <td>0.907859</td>\n      <td>0.292595</td>\n      <td>0.262012</td>\n      <td>-1.401497</td>\n    </tr>\n    <tr>\n      <th>2</th>\n      <td>0.597112</td>\n      <td>-0.373074</td>\n      <td>0.003000</td>\n      <td>-2.040274</td>\n    </tr>\n  </tbody>\n</table>\n</div>"
          },
          "metadata": {}
        }
      ],
      "execution_count": 12
    },
    {
      "cell_type": "markdown",
      "source": "### Find the Maximum Value:",
      "metadata": {
        "colab_type": "text",
        "id": "fw0DQQRJKdnn"
      }
    },
    {
      "cell_type": "code",
      "source": "df8.max()",
      "metadata": {
        "colab": {},
        "colab_type": "code",
        "id": "zgSyqD3lKdno",
        "trusted": true
      },
      "outputs": [
        {
          "execution_count": 14,
          "output_type": "execute_result",
          "data": {
            "text/plain": "0    0.303743\n1    0.518073\n2    0.167026\n3    1.121532\ndtype: float64"
          },
          "metadata": {}
        }
      ],
      "execution_count": 14
    },
    {
      "cell_type": "markdown",
      "source": "## <center>🏆 Challenge\n\nFind the maximum value of df9",
      "metadata": {
        "colab_type": "text",
        "id": "oO0jaTlKKdns"
      }
    },
    {
      "cell_type": "code",
      "source": "df9.max()",
      "metadata": {
        "colab": {},
        "colab_type": "code",
        "id": "_tk9IvRoKdns",
        "trusted": true
      },
      "outputs": [
        {
          "execution_count": 15,
          "output_type": "execute_result",
          "data": {
            "text/plain": "0    0.693603\n1    1.764259\n2    0.566239\n3   -0.145562\ndtype: float64"
          },
          "metadata": {}
        }
      ],
      "execution_count": 15
    },
    {
      "cell_type": "markdown",
      "source": "### Find the Minimum Value:",
      "metadata": {
        "colab_type": "text",
        "id": "KiQuHnRiKdnw"
      }
    },
    {
      "cell_type": "code",
      "source": "df8.min()",
      "metadata": {
        "colab": {},
        "colab_type": "code",
        "id": "oj64lvwKKdnx",
        "trusted": true
      },
      "outputs": [
        {
          "execution_count": 16,
          "output_type": "execute_result",
          "data": {
            "text/plain": "0   -1.410919\n1   -1.085923\n2   -1.147205\n3   -0.715182\ndtype: float64"
          },
          "metadata": {}
        }
      ],
      "execution_count": 16
    },
    {
      "cell_type": "markdown",
      "source": "## <center>🏆 Challenge\n\nFind the minimum value of df9",
      "metadata": {
        "colab_type": "text",
        "id": "f5rFdhtuKdn2"
      }
    },
    {
      "cell_type": "code",
      "source": "df9.min()",
      "metadata": {
        "colab": {},
        "colab_type": "code",
        "id": "IP_VMNRMKdn2",
        "trusted": true
      },
      "outputs": [
        {
          "execution_count": 17,
          "output_type": "execute_result",
          "data": {
            "text/plain": "0   -0.310746\n1   -1.471664\n2   -0.304227\n3   -1.255935\ndtype: float64"
          },
          "metadata": {}
        }
      ],
      "execution_count": 17
    },
    {
      "cell_type": "markdown",
      "source": "## <center>String Manipulation",
      "metadata": {
        "colab_type": "text",
        "id": "AmoK6uvfKdoD"
      }
    },
    {
      "cell_type": "markdown",
      "source": "We will work with the series s7 for this section.",
      "metadata": {
        "colab_type": "text",
        "id": "PcpGu3l9KdoE"
      }
    },
    {
      "cell_type": "code",
      "source": "#first run this cell to create series s7\ns7 = np.array(['animal','bird',' Pandas Library  '] )\ns7= pd.Series(s7)\ns7",
      "metadata": {
        "colab": {},
        "colab_type": "code",
        "id": "87p9smW1KdoH",
        "trusted": true
      },
      "outputs": [
        {
          "execution_count": 18,
          "output_type": "execute_result",
          "data": {
            "text/plain": "0               animal\n1                 bird\n2     Pandas Library  \ndtype: object"
          },
          "metadata": {}
        }
      ],
      "execution_count": 18
    },
    {
      "cell_type": "markdown",
      "source": "### Convert to Lower Case",
      "metadata": {
        "colab_type": "text",
        "id": "sXWxAHHSKdoK"
      }
    },
    {
      "cell_type": "code",
      "source": "s7.str.lower()",
      "metadata": {
        "colab": {},
        "colab_type": "code",
        "id": "RfLs4tqYKdoL",
        "trusted": true
      },
      "outputs": [
        {
          "execution_count": 21,
          "output_type": "execute_result",
          "data": {
            "text/plain": "0               animal\n1                 bird\n2     pandas library  \ndtype: object"
          },
          "metadata": {}
        }
      ],
      "execution_count": 21
    },
    {
      "cell_type": "markdown",
      "source": "## <center>🏆 Challenge\n\nConvert the strings in s8 to lower case.",
      "metadata": {
        "colab_type": "text",
        "id": "4UiBFht5KdoO"
      }
    },
    {
      "cell_type": "code",
      "source": "s8 = np.array(['cat','dog', 'Python Programming'])\ns8 = pd.Series(s8)\ns8",
      "metadata": {
        "colab": {},
        "colab_type": "code",
        "id": "cdW2k0hsYO8v",
        "trusted": true
      },
      "outputs": [
        {
          "execution_count": 22,
          "output_type": "execute_result",
          "data": {
            "text/plain": "0                   cat\n1                   dog\n2    Python Programming\ndtype: object"
          },
          "metadata": {}
        }
      ],
      "execution_count": 22
    },
    {
      "cell_type": "code",
      "source": "s8.str.lower()",
      "metadata": {
        "trusted": true
      },
      "outputs": [
        {
          "execution_count": 23,
          "output_type": "execute_result",
          "data": {
            "text/plain": "0                   cat\n1                   dog\n2    python programming\ndtype: object"
          },
          "metadata": {}
        }
      ],
      "execution_count": 23
    },
    {
      "cell_type": "markdown",
      "source": "---------------",
      "metadata": {
        "colab_type": "text",
        "id": "lUWneFcJKdoZ"
      }
    },
    {
      "cell_type": "markdown",
      "source": "### Convert to Upper Case",
      "metadata": {
        "colab_type": "text",
        "id": "Are8Zvx6Kdob"
      }
    },
    {
      "cell_type": "code",
      "source": "s7.str.upper()",
      "metadata": {
        "colab": {},
        "colab_type": "code",
        "id": "MX5fwebiKdob",
        "trusted": true
      },
      "outputs": [
        {
          "execution_count": 24,
          "output_type": "execute_result",
          "data": {
            "text/plain": "0               ANIMAL\n1                 BIRD\n2     PANDAS LIBRARY  \ndtype: object"
          },
          "metadata": {}
        }
      ],
      "execution_count": 24
    },
    {
      "cell_type": "markdown",
      "source": "## <center>🏆 Challenge\n\nConvert the strings in s8 to upper case.",
      "metadata": {
        "colab_type": "text",
        "id": "wgYhsRWPKdoe"
      }
    },
    {
      "cell_type": "code",
      "source": "s8.str.upper()",
      "metadata": {
        "colab": {},
        "colab_type": "code",
        "id": "37--BEZoKdof",
        "trusted": true
      },
      "outputs": [
        {
          "execution_count": 25,
          "output_type": "execute_result",
          "data": {
            "text/plain": "0                   CAT\n1                   DOG\n2    PYTHON PROGRAMMING\ndtype: object"
          },
          "metadata": {}
        }
      ],
      "execution_count": 25
    },
    {
      "cell_type": "markdown",
      "source": "### Swap Capitalization",
      "metadata": {
        "colab_type": "text",
        "id": "puSkl35fKdoh"
      }
    },
    {
      "cell_type": "code",
      "source": "s7.str.swapcase()",
      "metadata": {
        "colab": {},
        "colab_type": "code",
        "id": "kyd4YBoRKdoi",
        "trusted": true
      },
      "outputs": [
        {
          "execution_count": 26,
          "output_type": "execute_result",
          "data": {
            "text/plain": "0               ANIMAL\n1                 BIRD\n2     pANDAS lIBRARY  \ndtype: object"
          },
          "metadata": {}
        }
      ],
      "execution_count": 26
    },
    {
      "cell_type": "markdown",
      "source": "## <center>🏆 Challenge\n\nSwap the capitalization of the strings in s8.",
      "metadata": {
        "colab_type": "text",
        "id": "DDhJZURPKdok"
      }
    },
    {
      "cell_type": "code",
      "source": "s8.str.swapcase()",
      "metadata": {
        "colab": {},
        "colab_type": "code",
        "id": "n9_siA8rKdol",
        "trusted": true
      },
      "outputs": [
        {
          "execution_count": 27,
          "output_type": "execute_result",
          "data": {
            "text/plain": "0                   CAT\n1                   DOG\n2    pYTHON pROGRAMMING\ndtype: object"
          },
          "metadata": {}
        }
      ],
      "execution_count": 27
    },
    {
      "cell_type": "markdown",
      "source": "### Find Length of String",
      "metadata": {
        "colab_type": "text",
        "id": "2UrRMXFvKdop"
      }
    },
    {
      "cell_type": "code",
      "source": "s7.str.len()",
      "metadata": {
        "colab": {},
        "colab_type": "code",
        "id": "WszLyCdvKdop",
        "trusted": true
      },
      "outputs": [
        {
          "execution_count": 28,
          "output_type": "execute_result",
          "data": {
            "text/plain": "0     6\n1     4\n2    17\ndtype: int64"
          },
          "metadata": {}
        }
      ],
      "execution_count": 28
    },
    {
      "cell_type": "markdown",
      "source": "## <center>🏆 Challenge\n\nFind the length of the strings in s8.",
      "metadata": {
        "colab_type": "text",
        "id": "u1TkmYy9Kdot"
      }
    },
    {
      "cell_type": "code",
      "source": "s8.str.len()",
      "metadata": {
        "colab": {},
        "colab_type": "code",
        "id": "ko-Xm2FNKdot",
        "trusted": true
      },
      "outputs": [
        {
          "execution_count": 29,
          "output_type": "execute_result",
          "data": {
            "text/plain": "0     3\n1     3\n2    18\ndtype: int64"
          },
          "metadata": {}
        }
      ],
      "execution_count": 29
    },
    {
      "cell_type": "markdown",
      "source": "-------------",
      "metadata": {
        "colab_type": "text",
        "id": "gerhV7EdKdow"
      }
    },
    {
      "cell_type": "markdown",
      "source": "### Split String",
      "metadata": {
        "colab_type": "text",
        "id": "VwSh2vTUKdow"
      }
    },
    {
      "cell_type": "code",
      "source": "s7.str.split()",
      "metadata": {
        "colab": {},
        "colab_type": "code",
        "id": "1jm-W4v5Kdox",
        "trusted": true
      },
      "outputs": [
        {
          "execution_count": 30,
          "output_type": "execute_result",
          "data": {
            "text/plain": "0             [animal]\n1               [bird]\n2    [Pandas, Library]\ndtype: object"
          },
          "metadata": {}
        }
      ],
      "execution_count": 30
    },
    {
      "cell_type": "markdown",
      "source": "## <center>🏆 Challenge\n\nFind the length of the strings in s8.",
      "metadata": {
        "colab_type": "text",
        "id": "Jte4lCpMKdoy"
      }
    },
    {
      "cell_type": "code",
      "source": "#first run this cell to create the series s8\ns8 = np.array(['cat','dog',' Python Programming  '] )\ns8= pd.Series(s8)\ns8",
      "metadata": {
        "colab": {},
        "colab_type": "code",
        "id": "hf53ABmTKdoy",
        "trusted": true
      },
      "outputs": [
        {
          "execution_count": 31,
          "output_type": "execute_result",
          "data": {
            "text/plain": "0                      cat\n1                      dog\n2     Python Programming  \ndtype: object"
          },
          "metadata": {}
        }
      ],
      "execution_count": 31
    },
    {
      "cell_type": "code",
      "source": "s8.str.split()",
      "metadata": {
        "colab": {},
        "colab_type": "code",
        "id": "8XohGUPUKdo0",
        "trusted": true
      },
      "outputs": [
        {
          "execution_count": 32,
          "output_type": "execute_result",
          "data": {
            "text/plain": "0                    [cat]\n1                    [dog]\n2    [Python, Programming]\ndtype: object"
          },
          "metadata": {}
        }
      ],
      "execution_count": 32
    },
    {
      "cell_type": "markdown",
      "source": "### Detect Unique Values",
      "metadata": {
        "colab_type": "text",
        "id": "uWIEeHQRKdo1"
      }
    },
    {
      "cell_type": "code",
      "source": "s7.unique()",
      "metadata": {
        "colab": {},
        "colab_type": "code",
        "id": "Q84Ypw9SKdo1",
        "trusted": true
      },
      "outputs": [
        {
          "execution_count": 33,
          "output_type": "execute_result",
          "data": {
            "text/plain": "array(['animal', 'bird', ' Pandas Library  '], dtype=object)"
          },
          "metadata": {}
        }
      ],
      "execution_count": 33
    },
    {
      "cell_type": "markdown",
      "source": "## <center>🏆 Challenge\n\nDetect unique values in s8.",
      "metadata": {
        "colab_type": "text",
        "id": "NjmgQuqYKdo3"
      }
    },
    {
      "cell_type": "code",
      "source": "s8.unique()",
      "metadata": {
        "colab": {},
        "colab_type": "code",
        "id": "_YMFeHshKdo4",
        "trusted": true
      },
      "outputs": [
        {
          "execution_count": 34,
          "output_type": "execute_result",
          "data": {
            "text/plain": "array(['cat', 'dog', ' Python Programming  '], dtype=object)"
          },
          "metadata": {}
        }
      ],
      "execution_count": 34
    },
    {
      "cell_type": "markdown",
      "source": "### Repeat String",
      "metadata": {
        "colab_type": "text",
        "id": "jcj97YkjKdo5"
      }
    },
    {
      "cell_type": "markdown",
      "source": "We will work with the series s7 for this section.",
      "metadata": {
        "colab_type": "text",
        "id": "Ez78XAVnKdo5"
      }
    },
    {
      "cell_type": "code",
      "source": "#first run this cell to create series s7\ns7 = np.array(['animal','bird',' Pandas Library  '] )\ns7= pd.Series(s7)\ns7",
      "metadata": {
        "colab": {},
        "colab_type": "code",
        "id": "3xyw_CgyKdo6",
        "trusted": true
      },
      "outputs": [
        {
          "execution_count": 35,
          "output_type": "execute_result",
          "data": {
            "text/plain": "0               animal\n1                 bird\n2     Pandas Library  \ndtype: object"
          },
          "metadata": {}
        }
      ],
      "execution_count": 35
    },
    {
      "cell_type": "code",
      "source": "repeat_list=[2,3,2]\ns7.str.repeat(repeat_list)",
      "metadata": {
        "colab": {},
        "colab_type": "code",
        "id": "1TSLCYyJKdo-",
        "trusted": true
      },
      "outputs": [
        {
          "execution_count": 37,
          "output_type": "execute_result",
          "data": {
            "text/plain": "0                          animalanimal\n1                          birdbirdbird\n2     Pandas Library   Pandas Library  \ndtype: object"
          },
          "metadata": {}
        }
      ],
      "execution_count": 37
    },
    {
      "cell_type": "markdown",
      "source": "## <center>🏆 Challenge\n\nRepeat the values in s8 in the order [1,2,3]",
      "metadata": {
        "colab_type": "text",
        "id": "pZZLkc1GKdpA"
      }
    },
    {
      "cell_type": "code",
      "source": "s8 = np.array(['cat','dog','Python Programming'])\ns8 =pd.Series(s8)\ns8",
      "metadata": {
        "colab": {},
        "colab_type": "code",
        "id": "esXF9hAdKdpB",
        "trusted": true
      },
      "outputs": [
        {
          "execution_count": 38,
          "output_type": "execute_result",
          "data": {
            "text/plain": "0                   cat\n1                   dog\n2    Python Programming\ndtype: object"
          },
          "metadata": {}
        }
      ],
      "execution_count": 38
    },
    {
      "cell_type": "code",
      "source": "repeat_list=[1,2,3]\ns8.str.repeat(repeat_list)",
      "metadata": {
        "colab": {},
        "colab_type": "code",
        "id": "f_YvQJsEKdpO",
        "trusted": true
      },
      "outputs": [
        {
          "execution_count": 39,
          "output_type": "execute_result",
          "data": {
            "text/plain": "0                                                  cat\n1                                               dogdog\n2    Python ProgrammingPython ProgrammingPython Pro...\ndtype: object"
          },
          "metadata": {}
        }
      ],
      "execution_count": 39
    }
  ]
}