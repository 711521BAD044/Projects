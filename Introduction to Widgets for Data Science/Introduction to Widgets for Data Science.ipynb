{
  "cells": [
    {
      "cell_type": "code",
      "execution_count": 1,
      "metadata": {
        "id": "_5DCfuF047GN"
      },
      "outputs": [],
      "source": [
        "import matplotlib.pyplot as plt\n",
        "import seaborn as sns\n",
        "import numpy as np\n",
        "import pandas as pd\n",
        "%matplotlib inline"
      ]
    },
    {
      "cell_type": "code",
      "execution_count": 2,
      "metadata": {
        "id": "Bujtw4DF6Gw1"
      },
      "outputs": [],
      "source": [
        "import warnings\n",
        "warnings.filterwarnings('ignore')"
      ]
    },
    {
      "cell_type": "code",
      "execution_count": 3,
      "metadata": {
        "id": "X37HCAuQ6G_F"
      },
      "outputs": [],
      "source": [
        "import ipywidgets as widgets"
      ]
    },
    {
      "cell_type": "code",
      "execution_count": 4,
      "metadata": {
        "id": "EiZXFQdy6HLK"
      },
      "outputs": [],
      "source": [
        "from ipywidgets import interact, interactive, fixed, interact_manual, VBox, HBox"
      ]
    },
    {
      "cell_type": "code",
      "execution_count": 5,
      "metadata": {
        "id": "3EWm6Eqk6HPM"
      },
      "outputs": [],
      "source": [
        "from IPython.display import display"
      ]
    },
    {
      "cell_type": "code",
      "execution_count": 6,
      "metadata": {
        "id": "94qLQFNi6Hdi",
        "colab": {
          "base_uri": "https://localhost:8080/",
          "height": 49,
          "referenced_widgets": [
            "18a0a81fd96d45be8a3a3da0c2a846b5",
            "70e2284f35ca4813be0f63dabd619289",
            "96732bc8adfa43f59aecd8eaf9bab26c"
          ]
        },
        "outputId": "c380a2ac-8c7c-4fd7-c479-213423c03e84"
      },
      "outputs": [
        {
          "output_type": "display_data",
          "data": {
            "text/plain": [
              "IntSlider(value=7, description='Slider', max=10)"
            ],
            "application/vnd.jupyter.widget-view+json": {
              "version_major": 2,
              "version_minor": 0,
              "model_id": "18a0a81fd96d45be8a3a3da0c2a846b5"
            }
          },
          "metadata": {}
        }
      ],
      "source": [
        "widgets.IntSlider(value=7, min=0, max=10, step=1, description='Slider')"
      ]
    },
    {
      "cell_type": "code",
      "execution_count": 7,
      "metadata": {
        "id": "qFLMeRkq7P9Z",
        "colab": {
          "base_uri": "https://localhost:8080/",
          "height": 221,
          "referenced_widgets": [
            "e5989cccf95841c5950d96ccadf8aeac",
            "307c9bcfe6af4b92b7da34bc13e03d8e",
            "0ff6622f92d349439cf5bfd48f972036"
          ]
        },
        "outputId": "3b0ad4dd-0c81-408e-da7c-d48857c20c21"
      },
      "outputs": [
        {
          "output_type": "display_data",
          "data": {
            "text/plain": [
              "FloatSlider(value=7.3, description='Float: ', max=10.0, orientation='vertical')"
            ],
            "application/vnd.jupyter.widget-view+json": {
              "version_major": 2,
              "version_minor": 0,
              "model_id": "e5989cccf95841c5950d96ccadf8aeac"
            }
          },
          "metadata": {}
        }
      ],
      "source": [
        "widgets.FloatSlider(value=7.3, min=0, max=10, step=0.1, description='Float: ',\n",
        "                    orientation='Vertical')"
      ]
    },
    {
      "cell_type": "code",
      "execution_count": 8,
      "metadata": {
        "id": "lrUNP6kf7QAV"
      },
      "outputs": [],
      "source": [
        "F_slider = widgets.FloatSlider(value=7.3, min=0, max=10, step=0.1, description='Float: ',\n",
        "                    orientation='Vertical')"
      ]
    },
    {
      "cell_type": "code",
      "execution_count": 9,
      "metadata": {
        "id": "2yMHXFGK7QCf",
        "colab": {
          "base_uri": "https://localhost:8080/"
        },
        "outputId": "ca1a650d-d38b-4384-a1f1-57d4f75bb816"
      },
      "outputs": [
        {
          "output_type": "execute_result",
          "data": {
            "text/plain": [
              "['_dom_classes',\n",
              " '_model_module',\n",
              " '_model_module_version',\n",
              " '_model_name',\n",
              " '_view_count',\n",
              " '_view_module',\n",
              " '_view_module_version',\n",
              " '_view_name',\n",
              " 'continuous_update',\n",
              " 'description',\n",
              " 'description_tooltip',\n",
              " 'disabled',\n",
              " 'layout',\n",
              " 'max',\n",
              " 'min',\n",
              " 'orientation',\n",
              " 'readout',\n",
              " 'readout_format',\n",
              " 'step',\n",
              " 'style',\n",
              " 'value']"
            ]
          },
          "metadata": {},
          "execution_count": 9
        }
      ],
      "source": [
        "F_slider.keys"
      ]
    },
    {
      "cell_type": "code",
      "execution_count": 10,
      "metadata": {
        "id": "uqW-lT6H7QFG",
        "colab": {
          "base_uri": "https://localhost:8080/",
          "height": 49,
          "referenced_widgets": [
            "9f83bfd349134c9085528314828e675d",
            "23e5324c8512484197172cdf9095c6d9",
            "31dff57cfcc94b5db9bfc6a24dcc62a1"
          ]
        },
        "outputId": "69be217d-0b78-4028-e4ec-f59ce1aff394"
      },
      "outputs": [
        {
          "output_type": "display_data",
          "data": {
            "text/plain": [
              "FloatLogSlider(value=7.3, description='Float Log: ', max=10.0, step=0.2)"
            ],
            "application/vnd.jupyter.widget-view+json": {
              "version_major": 2,
              "version_minor": 0,
              "model_id": "9f83bfd349134c9085528314828e675d"
            }
          },
          "metadata": {}
        }
      ],
      "source": [
        "widgets.FloatLogSlider(value=7.3,base=10, min=0, max=10, step=0.2,\n",
        "                       description='Float Log: ',)"
      ]
    },
    {
      "cell_type": "code",
      "execution_count": 11,
      "metadata": {
        "id": "BRttgGom7QIh",
        "colab": {
          "base_uri": "https://localhost:8080/",
          "height": 49,
          "referenced_widgets": [
            "ea90d086f2de4ac888c8b3d75d6456e0",
            "545c9578f92f4ca39a38bab042818fa0",
            "a228f03b72e64ff0ab877b04bbf1ded3"
          ]
        },
        "outputId": "5fdabe4c-a2f0-45c3-85d1-58bbd93a821a"
      },
      "outputs": [
        {
          "output_type": "display_data",
          "data": {
            "text/plain": [
              "IntRangeSlider(value=(5, 7), description='Range: ', max=15)"
            ],
            "application/vnd.jupyter.widget-view+json": {
              "version_major": 2,
              "version_minor": 0,
              "model_id": "ea90d086f2de4ac888c8b3d75d6456e0"
            }
          },
          "metadata": {}
        }
      ],
      "source": [
        "widgets.IntRangeSlider(value=[5,7], min=0, max=15, step=1, description='Range: ',\n",
        "                    orientation='horizontal')"
      ]
    },
    {
      "cell_type": "code",
      "execution_count": 12,
      "metadata": {
        "id": "eUICB2CXAryI",
        "colab": {
          "base_uri": "https://localhost:8080/",
          "height": 221,
          "referenced_widgets": [
            "bc114a2e5b744f748ccbfb06518e1daa",
            "312c297b9e094062aa1be737e7aa63f2",
            "0af2eec243a14aad8042a1063ae21fa8"
          ]
        },
        "outputId": "5e9c3631-e45c-44de-d5ed-8a6a38ebab9f"
      },
      "outputs": [
        {
          "output_type": "display_data",
          "data": {
            "text/plain": [
              "IntProgress(value=7, description='Progress: ', max=10, orientation='vertical')"
            ],
            "application/vnd.jupyter.widget-view+json": {
              "version_major": 2,
              "version_minor": 0,
              "model_id": "bc114a2e5b744f748ccbfb06518e1daa"
            }
          },
          "metadata": {}
        }
      ],
      "source": [
        "widgets.IntProgress(value=7, min=0, max=10, step=0.1, description='Progress: ',\n",
        "                    orientation='Vertical')"
      ]
    },
    {
      "cell_type": "code",
      "execution_count": 13,
      "metadata": {
        "id": "Iz6Id9KkAr5l",
        "colab": {
          "base_uri": "https://localhost:8080/",
          "height": 49,
          "referenced_widgets": [
            "2de18f75be2945689dc2c6c167858c84",
            "492acc6977f744b8a187c5d1543f80d9",
            "4587aafeab2c45b998818d1372b1c429"
          ]
        },
        "outputId": "37f5706f-beee-493b-92cb-2b2d6b93458a"
      },
      "outputs": [
        {
          "output_type": "display_data",
          "data": {
            "text/plain": [
              "ToggleButton(value=False, description='Play')"
            ],
            "application/vnd.jupyter.widget-view+json": {
              "version_major": 2,
              "version_minor": 0,
              "model_id": "2de18f75be2945689dc2c6c167858c84"
            }
          },
          "metadata": {}
        }
      ],
      "source": [
        "widgets.ToggleButton(description='Play')"
      ]
    },
    {
      "cell_type": "code",
      "execution_count": 14,
      "metadata": {
        "id": "NVy74xttAr84",
        "colab": {
          "base_uri": "https://localhost:8080/",
          "height": 49,
          "referenced_widgets": [
            "c0947056330d44efbf3dc3bc7aa4369d",
            "d4c2742577f3456fa251507e8406598c",
            "a12cf1a85ed748c2bdc7370895e65289"
          ]
        },
        "outputId": "c2163340-0a42-4cdd-a440-1e192a90aae4"
      },
      "outputs": [
        {
          "output_type": "display_data",
          "data": {
            "text/plain": [
              "Checkbox(value=True, description='Check:')"
            ],
            "application/vnd.jupyter.widget-view+json": {
              "version_major": 2,
              "version_minor": 0,
              "model_id": "c0947056330d44efbf3dc3bc7aa4369d"
            }
          },
          "metadata": {}
        }
      ],
      "source": [
        "widgets.Checkbox(value=True, description='Check:')"
      ]
    },
    {
      "cell_type": "code",
      "execution_count": 15,
      "metadata": {
        "id": "Cp_tKAYwAsAG",
        "colab": {
          "base_uri": "https://localhost:8080/",
          "height": 95,
          "referenced_widgets": [
            "43aa3d887ea644d1b564fcdc709e8e01",
            "e5cab6e690e7478ca759035101ecfa8a",
            "98e09f26127b44a79efb7b6211d6a40e"
          ]
        },
        "outputId": "9e43fcb8-3c6c-49b2-c78f-e0eb7ac1b96a"
      },
      "outputs": [
        {
          "output_type": "display_data",
          "data": {
            "text/plain": [
              "RadioButtons(description='Select Games', options=('Cricket', 'Baseball', 'Football'), value='Cricket')"
            ],
            "application/vnd.jupyter.widget-view+json": {
              "version_major": 2,
              "version_minor": 0,
              "model_id": "43aa3d887ea644d1b564fcdc709e8e01"
            }
          },
          "metadata": {}
        }
      ],
      "source": [
        "widgets.RadioButtons(options=['Cricket', 'Baseball', 'Football'], description='Select Games', disabled=False)"
      ]
    },
    {
      "cell_type": "code",
      "execution_count": 16,
      "metadata": {
        "id": "PHI8ebTbAsDx",
        "colab": {
          "base_uri": "https://localhost:8080/",
          "height": 111,
          "referenced_widgets": [
            "bc73b739785b42208191cb144bd26fdd",
            "c99f39776dd34e558dc328ef5a02082a",
            "8ef9ba80ebb34b57b1bff7c0c818c49e"
          ]
        },
        "outputId": "f29dde22-74f3-49cc-bf50-066e573ba9d6"
      },
      "outputs": [
        {
          "output_type": "display_data",
          "data": {
            "text/plain": [
              "Select(description='Select:', index=1, options=('Vegetable', 'Fruits', 'Sweet Dish'), value='Fruits')"
            ],
            "application/vnd.jupyter.widget-view+json": {
              "version_major": 2,
              "version_minor": 0,
              "model_id": "bc73b739785b42208191cb144bd26fdd"
            }
          },
          "metadata": {}
        }
      ],
      "source": [
        "widgets.Select(options=['Vegetable','Fruits','Sweet Dish'], value='Fruits', description='Select:')"
      ]
    },
    {
      "cell_type": "code",
      "execution_count": 17,
      "metadata": {
        "id": "ONdCmdhiDD4t",
        "colab": {
          "base_uri": "https://localhost:8080/",
          "height": 49,
          "referenced_widgets": [
            "8dd23499ae074054b5256845a038d356",
            "dc0827738219408d92fa89bb285fa8ea",
            "f98caf307d2346a38cbc1d81754a2fe7"
          ]
        },
        "outputId": "1fd34c73-1701-4448-b9ab-cd0d4ea9f695"
      },
      "outputs": [
        {
          "output_type": "display_data",
          "data": {
            "text/plain": [
              "BoundedIntText(value=1, description='Text')"
            ],
            "application/vnd.jupyter.widget-view+json": {
              "version_major": 2,
              "version_minor": 0,
              "model_id": "8dd23499ae074054b5256845a038d356"
            }
          },
          "metadata": {}
        }
      ],
      "source": [
        "widgets.BoundedIntText(value=1, description='Text', disabled=False)"
      ]
    },
    {
      "cell_type": "code",
      "execution_count": 18,
      "metadata": {
        "id": "zo4pSxFdDEAR",
        "colab": {
          "base_uri": "https://localhost:8080/",
          "height": 49,
          "referenced_widgets": [
            "e109d270cf104638adb82282c6fa996c",
            "a6dc264e5b184c88a85aaf246200e4f3",
            "087eeedf162f488fb80d5cb2988389b3"
          ]
        },
        "outputId": "0a83acbb-9314-461c-c32d-4b927b86e6d0"
      },
      "outputs": [
        {
          "output_type": "display_data",
          "data": {
            "text/plain": [
              "IntText(value=1, description='Text')"
            ],
            "application/vnd.jupyter.widget-view+json": {
              "version_major": 2,
              "version_minor": 0,
              "model_id": "e109d270cf104638adb82282c6fa996c"
            }
          },
          "metadata": {}
        }
      ],
      "source": [
        "widgets.IntText(value=1, description='Text', disabled=False)"
      ]
    },
    {
      "cell_type": "code",
      "execution_count": 19,
      "metadata": {
        "id": "hRZ9QcKaDECV",
        "colab": {
          "base_uri": "https://localhost:8080/",
          "height": 49,
          "referenced_widgets": [
            "db493b383e13419db0222385c9f407f8",
            "c6ef8b0a4060435c8eeabb62be67d1e9",
            "d0d39b422e9c4948b181a39b227759a2"
          ]
        },
        "outputId": "043932e8-3664-4266-b56b-22fa04cbcdde"
      },
      "outputs": [
        {
          "output_type": "display_data",
          "data": {
            "text/plain": [
              "FloatText(value=3.2, description='Text Float', step=0.1)"
            ],
            "application/vnd.jupyter.widget-view+json": {
              "version_major": 2,
              "version_minor": 0,
              "model_id": "db493b383e13419db0222385c9f407f8"
            }
          },
          "metadata": {}
        }
      ],
      "source": [
        "widgets.FloatText(value=3.2, step=0.1, description='Text Float', disabled=False)"
      ]
    },
    {
      "cell_type": "code",
      "execution_count": 20,
      "metadata": {
        "id": "bXyIQ4tgDEE2",
        "colab": {
          "base_uri": "https://localhost:8080/",
          "height": 49,
          "referenced_widgets": [
            "b43fbc528dc34a81bead264c203ac5ae",
            "2c026af036a440a894b243a202eb780a",
            "593c847dec0b43139f94bd068221a31f"
          ]
        },
        "outputId": "cbdf6640-3687-468b-8e42-9aac3f382b9e"
      },
      "outputs": [
        {
          "output_type": "display_data",
          "data": {
            "text/plain": [
              "Combobox(value='', description='Combo Box', options=('1', '2', 'Three'), placeholder='Choose one:')"
            ],
            "application/vnd.jupyter.widget-view+json": {
              "version_major": 2,
              "version_minor": 0,
              "model_id": "b43fbc528dc34a81bead264c203ac5ae"
            }
          },
          "metadata": {}
        }
      ],
      "source": [
        "widgets.Combobox(placeholder='Choose one:', options=['1','2','Three'],\n",
        "                 description='Combo Box', ensure_options=True, disabled=False)"
      ]
    },
    {
      "cell_type": "code",
      "execution_count": 21,
      "metadata": {
        "id": "s_dd1f7iDEGz",
        "colab": {
          "base_uri": "https://localhost:8080/",
          "height": 49,
          "referenced_widgets": [
            "fa788ab6072a42f6a22e3281b26fdbc0",
            "5418063c327c4f0eac7d0c53f26a563b",
            "0f2e71e1b1564bb79d269c07f9259f6b"
          ]
        },
        "outputId": "cb6d6f3e-2cca-4f0b-c1b3-031e23c572f3"
      },
      "outputs": [
        {
          "output_type": "display_data",
          "data": {
            "text/plain": [
              "Text(value='Hello World', description='Text', placeholder='Type Something')"
            ],
            "application/vnd.jupyter.widget-view+json": {
              "version_major": 2,
              "version_minor": 0,
              "model_id": "fa788ab6072a42f6a22e3281b26fdbc0"
            }
          },
          "metadata": {}
        }
      ],
      "source": [
        "widgets.Text(value='Hello World', placeholder='Type Something',\n",
        "             description='Text', disabled=False)"
      ]
    },
    {
      "cell_type": "code",
      "execution_count": 22,
      "metadata": {
        "id": "3rYAiGlVDEJf",
        "colab": {
          "base_uri": "https://localhost:8080/",
          "height": 49,
          "referenced_widgets": [
            "4aa840e3ea5d430fa0223538c98e1105",
            "b6610e1750764fdc9a4cc25fb47772a0",
            "1122f98ae5da4280b1c390782ec894d3"
          ]
        },
        "outputId": "3f4b8492-c763-4880-d638-6f117d7fd104"
      },
      "outputs": [
        {
          "output_type": "display_data",
          "data": {
            "text/plain": [
              "SelectionSlider(description='I like ...', index=1, options=('Baseball', 'Cricket', 'Basketball'), value='Crick…"
            ],
            "application/vnd.jupyter.widget-view+json": {
              "version_major": 2,
              "version_minor": 0,
              "model_id": "4aa840e3ea5d430fa0223538c98e1105"
            }
          },
          "metadata": {}
        }
      ],
      "source": [
        "widgets.SelectionSlider(options=['Baseball','Cricket','Basketball'], value='Cricket',\n",
        "                        description='I like ...', diabled=False, readout=True)"
      ]
    },
    {
      "cell_type": "code",
      "execution_count": 23,
      "metadata": {
        "id": "_7mnenOxDELS"
      },
      "outputs": [],
      "source": [
        "Buttons = widgets.ToggleButtons(options=['Small', 'Medium',' Large'],\n",
        "                                description='Size', disabled=False)"
      ]
    },
    {
      "cell_type": "code",
      "execution_count": 24,
      "metadata": {
        "id": "paGagAsRDENp",
        "colab": {
          "base_uri": "https://localhost:8080/",
          "height": 50,
          "referenced_widgets": [
            "a3ce2cad11aa4af2a88da99a0644ae68",
            "bfcb4dd0a48f48409926c38ad4a41c5b",
            "f6ac4cbd868d49ca8beef12682b9b4c4"
          ]
        },
        "outputId": "61a6a2a8-1b51-4856-acef-df930ed96ce2"
      },
      "outputs": [
        {
          "output_type": "display_data",
          "data": {
            "text/plain": [
              "ToggleButtons(description='Size', options=('Small', 'Medium', ' Large'), value='Small')"
            ],
            "application/vnd.jupyter.widget-view+json": {
              "version_major": 2,
              "version_minor": 0,
              "model_id": "a3ce2cad11aa4af2a88da99a0644ae68"
            }
          },
          "metadata": {}
        }
      ],
      "source": [
        "Buttons"
      ]
    },
    {
      "cell_type": "code",
      "execution_count": 25,
      "metadata": {
        "id": "kL5nMBYcDEQs",
        "colab": {
          "base_uri": "https://localhost:8080/",
          "height": 49,
          "referenced_widgets": [
            "c81a4fae467743ceade7132c288a369e",
            "295e70de6ed14f459f88a04d06213f13",
            "cc062240458b40a788ee4142d3ea336a"
          ]
        },
        "outputId": "77a3117c-278a-4b71-c70e-af7c664449a5"
      },
      "outputs": [
        {
          "output_type": "display_data",
          "data": {
            "text/plain": [
              "ColorPicker(value='#efefef', concise=True, description='Color')"
            ],
            "application/vnd.jupyter.widget-view+json": {
              "version_major": 2,
              "version_minor": 0,
              "model_id": "c81a4fae467743ceade7132c288a369e"
            }
          },
          "metadata": {}
        }
      ],
      "source": [
        "col_picker = widgets.ColorPicker(concise=True, description='Color', value='#efefef')\n",
        "col_picker"
      ]
    },
    {
      "cell_type": "code",
      "execution_count": 26,
      "metadata": {
        "id": "-lMDu63EDESp",
        "colab": {
          "base_uri": "https://localhost:8080/",
          "height": 49,
          "referenced_widgets": [
            "9871075bfba54fc7881cf34d84fbbbc7",
            "3c5e8f057c434e5089fe70abafdead92",
            "94b0e49aaa1b45d880b335c7c2268696"
          ]
        },
        "outputId": "c19af194-4e64-4497-e9aa-9896e7918993"
      },
      "outputs": [
        {
          "output_type": "display_data",
          "data": {
            "text/plain": [
              "DatePicker(value=None, description='Pick a date')"
            ],
            "application/vnd.jupyter.widget-view+json": {
              "version_major": 2,
              "version_minor": 0,
              "model_id": "9871075bfba54fc7881cf34d84fbbbc7"
            }
          },
          "metadata": {}
        }
      ],
      "source": [
        "date = widgets.DatePicker(description='Pick a date', disabled=False)\n",
        "date"
      ]
    },
    {
      "cell_type": "code",
      "execution_count": 27,
      "metadata": {
        "id": "SUwV-JqWLO_p"
      },
      "outputs": [],
      "source": [
        "def func1(x):\n",
        "  return 5*x"
      ]
    },
    {
      "cell_type": "code",
      "execution_count": 28,
      "metadata": {
        "id": "0dWU7rY_LPFt",
        "colab": {
          "base_uri": "https://localhost:8080/",
          "height": 153,
          "referenced_widgets": [
            "14cede3af4244b519ec8943d52644283",
            "841c2fa5a5d64ad78e5469fdfea22699",
            "5fa9cb7cbd9141d0aa305596b4247823",
            "089ef3b43b8f4c44aa325df9766f3404",
            "de6ccca58ab542aa9437c97c1dd7cccf",
            "f8b356d1bb2b4941975c0873055202bd",
            "59de36734f5b47ab9d1d42943ef25f48"
          ]
        },
        "outputId": "3dfb5254-e418-4fc9-ed4c-fefb363b5197"
      },
      "outputs": [
        {
          "output_type": "display_data",
          "data": {
            "text/plain": [
              "interactive(children=(IntSlider(value=7, description='x', max=21, min=-7), Output()), _dom_classes=('widget-in…"
            ],
            "application/vnd.jupyter.widget-view+json": {
              "version_major": 2,
              "version_minor": 0,
              "model_id": "14cede3af4244b519ec8943d52644283"
            }
          },
          "metadata": {}
        },
        {
          "output_type": "execute_result",
          "data": {
            "text/plain": [
              "<function __main__.func1(x)>"
            ],
            "text/html": [
              "<div style=\"max-width:800px; border: 1px solid var(--colab-border-color);\"><style>\n",
              "      pre.function-repr-contents {\n",
              "        overflow-x: auto;\n",
              "        padding: 8px 12px;\n",
              "        max-height: 500px;\n",
              "      }\n",
              "\n",
              "      pre.function-repr-contents.function-repr-contents-collapsed {\n",
              "        cursor: pointer;\n",
              "        max-height: 100px;\n",
              "      }\n",
              "    </style>\n",
              "    <pre style=\"white-space: initial; background:\n",
              "         var(--colab-secondary-surface-color); padding: 8px 12px;\n",
              "         border-bottom: 1px solid var(--colab-border-color);\"><b>func1</b><br/>def func1(x)</pre><pre class=\"function-repr-contents function-repr-contents-collapsed\" style=\"\"><a class=\"filepath\" style=\"display:none\" href=\"#\">/content/&lt;ipython-input-27-ad614c89a1aa&gt;</a>&lt;no docstring&gt;</pre></div>"
            ]
          },
          "metadata": {},
          "execution_count": 28
        }
      ],
      "source": [
        "interact(func1, x=7)"
      ]
    },
    {
      "cell_type": "code",
      "execution_count": 29,
      "metadata": {
        "id": "ImovXX9JLPHZ",
        "colab": {
          "base_uri": "https://localhost:8080/",
          "height": 154,
          "referenced_widgets": [
            "114e470104bb4e6193823e3a2b460b78",
            "a91abd1df69d4efa90521315ff137426",
            "065d060c612b4e4ebfa8df270a74e57c",
            "4fb368a41b114ec582fb9443dedfd455",
            "6a2d3071a6e94d78bd9e90a25d754add",
            "b139d62ccc32496184ff0f679d5f3e63",
            "126d4cdeb49b4439b94669faa0335a1d"
          ]
        },
        "outputId": "63580bbe-a983-44c4-c2d8-a1d0ad673fa8"
      },
      "outputs": [
        {
          "output_type": "display_data",
          "data": {
            "text/plain": [
              "interactive(children=(Text(value='Hello', description='x'), Output()), _dom_classes=('widget-interact',))"
            ],
            "application/vnd.jupyter.widget-view+json": {
              "version_major": 2,
              "version_minor": 0,
              "model_id": "114e470104bb4e6193823e3a2b460b78"
            }
          },
          "metadata": {}
        },
        {
          "output_type": "execute_result",
          "data": {
            "text/plain": [
              "<function __main__.func1(x)>"
            ],
            "text/html": [
              "<div style=\"max-width:800px; border: 1px solid var(--colab-border-color);\"><style>\n",
              "      pre.function-repr-contents {\n",
              "        overflow-x: auto;\n",
              "        padding: 8px 12px;\n",
              "        max-height: 500px;\n",
              "      }\n",
              "\n",
              "      pre.function-repr-contents.function-repr-contents-collapsed {\n",
              "        cursor: pointer;\n",
              "        max-height: 100px;\n",
              "      }\n",
              "    </style>\n",
              "    <pre style=\"white-space: initial; background:\n",
              "         var(--colab-secondary-surface-color); padding: 8px 12px;\n",
              "         border-bottom: 1px solid var(--colab-border-color);\"><b>func1</b><br/>def func1(x)</pre><pre class=\"function-repr-contents function-repr-contents-collapsed\" style=\"\"><a class=\"filepath\" style=\"display:none\" href=\"#\">/content/&lt;ipython-input-27-ad614c89a1aa&gt;</a>&lt;no docstring&gt;</pre></div>"
            ]
          },
          "metadata": {},
          "execution_count": 29
        }
      ],
      "source": [
        "interact(func1, x='Hello')"
      ]
    },
    {
      "cell_type": "code",
      "execution_count": 30,
      "metadata": {
        "id": "6wEPL1ajLPIu",
        "colab": {
          "base_uri": "https://localhost:8080/",
          "height": 154,
          "referenced_widgets": [
            "cfecc44bbff44764b708fef9388e4f53",
            "565cea229ca74ca289ee086038299edb",
            "fad706fca98a4fb4ad39a3380585d7ba",
            "2cfd05b3e7bb4da18a0e9c920fa0f319",
            "d2ee38927b854d4cbd2aaa519627e12d",
            "e28b21a6a8fc4a19a23d24aad76ac333",
            "e7251ed9333c4c5f9dd43a27d631e9b9"
          ]
        },
        "outputId": "794a5e36-6457-4f5d-812a-d20a7a6bd316"
      },
      "outputs": [
        {
          "output_type": "display_data",
          "data": {
            "text/plain": [
              "interactive(children=(Dropdown(description='x', options=('Good', 'Bad'), value='Good'), Output()), _dom_classe…"
            ],
            "application/vnd.jupyter.widget-view+json": {
              "version_major": 2,
              "version_minor": 0,
              "model_id": "cfecc44bbff44764b708fef9388e4f53"
            }
          },
          "metadata": {}
        },
        {
          "output_type": "execute_result",
          "data": {
            "text/plain": [
              "<function __main__.func1(x)>"
            ],
            "text/html": [
              "<div style=\"max-width:800px; border: 1px solid var(--colab-border-color);\"><style>\n",
              "      pre.function-repr-contents {\n",
              "        overflow-x: auto;\n",
              "        padding: 8px 12px;\n",
              "        max-height: 500px;\n",
              "      }\n",
              "\n",
              "      pre.function-repr-contents.function-repr-contents-collapsed {\n",
              "        cursor: pointer;\n",
              "        max-height: 100px;\n",
              "      }\n",
              "    </style>\n",
              "    <pre style=\"white-space: initial; background:\n",
              "         var(--colab-secondary-surface-color); padding: 8px 12px;\n",
              "         border-bottom: 1px solid var(--colab-border-color);\"><b>func1</b><br/>def func1(x)</pre><pre class=\"function-repr-contents function-repr-contents-collapsed\" style=\"\"><a class=\"filepath\" style=\"display:none\" href=\"#\">/content/&lt;ipython-input-27-ad614c89a1aa&gt;</a>&lt;no docstring&gt;</pre></div>"
            ]
          },
          "metadata": {},
          "execution_count": 30
        }
      ],
      "source": [
        "interact(func1, x=['Good','Bad'])"
      ]
    },
    {
      "cell_type": "code",
      "execution_count": 31,
      "metadata": {
        "id": "z2p590ErNeqe",
        "colab": {
          "base_uri": "https://localhost:8080/",
          "height": 153,
          "referenced_widgets": [
            "8886c466fb0646dbb834c7ba8621fb9a",
            "4c50509be8b94d958d1156f68600f50a",
            "701beffb6660472eb000a1bf64f8b2af",
            "a06988c1170c4bcd8760d7198efddb4b",
            "adf5cfc29a1b4606b25d99b8625c885b",
            "582420968e304adb9d740fe0a5e8001a",
            "e18e8f3e1ca04aee85f4cd28c2166c14"
          ]
        },
        "outputId": "5ea86a07-c5ca-489c-c214-62a9c748e950"
      },
      "outputs": [
        {
          "output_type": "display_data",
          "data": {
            "text/plain": [
              "interactive(children=(Dropdown(description='x', options=(('first', 100), ('second', 200)), value=100), Output(…"
            ],
            "application/vnd.jupyter.widget-view+json": {
              "version_major": 2,
              "version_minor": 0,
              "model_id": "8886c466fb0646dbb834c7ba8621fb9a"
            }
          },
          "metadata": {}
        },
        {
          "output_type": "execute_result",
          "data": {
            "text/plain": [
              "<function __main__.func1(x)>"
            ],
            "text/html": [
              "<div style=\"max-width:800px; border: 1px solid var(--colab-border-color);\"><style>\n",
              "      pre.function-repr-contents {\n",
              "        overflow-x: auto;\n",
              "        padding: 8px 12px;\n",
              "        max-height: 500px;\n",
              "      }\n",
              "\n",
              "      pre.function-repr-contents.function-repr-contents-collapsed {\n",
              "        cursor: pointer;\n",
              "        max-height: 100px;\n",
              "      }\n",
              "    </style>\n",
              "    <pre style=\"white-space: initial; background:\n",
              "         var(--colab-secondary-surface-color); padding: 8px 12px;\n",
              "         border-bottom: 1px solid var(--colab-border-color);\"><b>func1</b><br/>def func1(x)</pre><pre class=\"function-repr-contents function-repr-contents-collapsed\" style=\"\"><a class=\"filepath\" style=\"display:none\" href=\"#\">/content/&lt;ipython-input-27-ad614c89a1aa&gt;</a>&lt;no docstring&gt;</pre></div>"
            ]
          },
          "metadata": {},
          "execution_count": 31
        }
      ],
      "source": [
        "interact(func1, x=[('first', 100), ('second', 200)])"
      ]
    },
    {
      "cell_type": "code",
      "execution_count": 32,
      "metadata": {
        "id": "As_PsDRYNe6G"
      },
      "outputs": [],
      "source": [
        "def func2(a,b,c):\n",
        "  display((a+b)*c)"
      ]
    },
    {
      "cell_type": "code",
      "execution_count": 33,
      "metadata": {
        "id": "Qh0RYBCFNe7n"
      },
      "outputs": [],
      "source": [
        "w = interactive(func2, a=widgets.IntSlider(min=10, max=50, value=25, step=2),\n",
        "               b=widgets.IntSlider(min=10, max=50, value=15, step=2),\n",
        "               c=widgets.IntSlider(min=10, max=50, value=40, step=2))"
      ]
    },
    {
      "cell_type": "code",
      "execution_count": 34,
      "metadata": {
        "id": "oRSTgmYrNe9m",
        "colab": {
          "base_uri": "https://localhost:8080/",
          "height": 130,
          "referenced_widgets": [
            "36ff4f0b13524b8a8335d7ef37d36559",
            "ce6e12753fa948e28017f818505c31cb",
            "4dbedd1ba62141dc9de6c92e85314607",
            "76281ef024d74e0bad9c4ebac1f114b5",
            "34bf17d14e5d4a2ab888f7f2f9ebe3f7",
            "d65ffa5ddafe422cac0b50360114dc24",
            "93dcb4479af249638b414d37595979f8",
            "2794ce966a0843c0b4535557410c60b1",
            "3f8877b4b4854c8cac9246ad7851f7ef",
            "c33aba9bdffe4bdb9ab760a84a7d6851",
            "0af90a01727c4b1fac81f0968bf967d2",
            "bcdd79f26d5c4f4db87cc7b381678a10",
            "cfdaade422284fc5a4ce6fd3732e4f36"
          ]
        },
        "outputId": "6d457d4d-03d7-4663-d672-857a239deac9"
      },
      "outputs": [
        {
          "output_type": "display_data",
          "data": {
            "text/plain": [
              "interactive(children=(IntSlider(value=25, description='a', max=50, min=10, step=2), IntSlider(value=15, descri…"
            ],
            "application/vnd.jupyter.widget-view+json": {
              "version_major": 2,
              "version_minor": 0,
              "model_id": "36ff4f0b13524b8a8335d7ef37d36559"
            }
          },
          "metadata": {}
        }
      ],
      "source": [
        "display(w)"
      ]
    },
    {
      "cell_type": "code",
      "execution_count": 35,
      "metadata": {
        "id": "z2shhut7Ne_g",
        "colab": {
          "base_uri": "https://localhost:8080/"
        },
        "outputId": "69293c11-bebb-4841-cb74-6afe77a34c7d"
      },
      "outputs": [
        {
          "output_type": "execute_result",
          "data": {
            "text/plain": [
              "(IntSlider(value=25, description='a', max=50, min=10, step=2),\n",
              " IntSlider(value=15, description='b', max=50, min=10, step=2),\n",
              " IntSlider(value=40, description='c', max=50, min=10, step=2),\n",
              " Output())"
            ]
          },
          "metadata": {},
          "execution_count": 35
        }
      ],
      "source": [
        "w.children"
      ]
    },
    {
      "cell_type": "code",
      "execution_count": 36,
      "metadata": {
        "id": "TPp8H5kfNfIf",
        "colab": {
          "base_uri": "https://localhost:8080/"
        },
        "outputId": "f119e63c-6b7e-48c0-a596-c6d82c15eac9"
      },
      "outputs": [
        {
          "output_type": "execute_result",
          "data": {
            "text/plain": [
              "{'a': 25, 'b': 15, 'c': 40}"
            ]
          },
          "metadata": {},
          "execution_count": 36
        }
      ],
      "source": [
        "w.kwargs"
      ]
    },
    {
      "cell_type": "code",
      "execution_count": 37,
      "metadata": {
        "id": "GeJF3B0-NfK3"
      },
      "outputs": [],
      "source": [
        "def plot(a, b):\n",
        "  c=np.random.rand(10)\n",
        "  d=a*c + b\n",
        "  plt.plot(c, d)\n",
        "  plt.show()"
      ]
    },
    {
      "cell_type": "code",
      "execution_count": 38,
      "metadata": {
        "id": "hDJxpIiOP4pJ",
        "colab": {
          "base_uri": "https://localhost:8080/",
          "height": 494,
          "referenced_widgets": [
            "1eff95694b4242ea80349e0ad202e911",
            "082defd1e9bc4e14b0fed8da32b5a733",
            "e5d7b2d355b64551aedf8edcba0dd31c",
            "af86671e713a42a1805b0d0bdb14db98",
            "7b204bd132af40adba57cd1ccc59554e",
            "c315d9062e664a14a2a20c870c95ebb2",
            "8766ad05a48a43d580b3bf504341a88c",
            "1bba42a12ae34a009f9f523ab35ffff9",
            "74bdf309fcb94c65922b912455cc2578",
            "37ab311297534925901238c56f7d73ce"
          ]
        },
        "outputId": "43237577-340a-4866-a8f9-edd6c81ab290"
      },
      "outputs": [
        {
          "output_type": "display_data",
          "data": {
            "text/plain": [
              "interactive(children=(Dropdown(description='a', options=(5, -5, 2.5), value=5), Dropdown(description='b', opti…"
            ],
            "application/vnd.jupyter.widget-view+json": {
              "version_major": 2,
              "version_minor": 0,
              "model_id": "1eff95694b4242ea80349e0ad202e911"
            }
          },
          "metadata": {}
        }
      ],
      "source": [
        "interactive(plot, a=[5, -5, 2.5], b=[10, -10, 0.5])"
      ]
    },
    {
      "cell_type": "code",
      "execution_count": 39,
      "metadata": {
        "colab": {
          "base_uri": "https://localhost:8080/",
          "height": 145,
          "referenced_widgets": [
            "42795f24014e4b6a8bf12bf155bed601",
            "2f1f213fc21448ae902506b81cb820c7",
            "b93cdf1631ec496f9b6a0fa9d2ecbd4f",
            "0f6ee487562b4554b6aa87ef8d2f45be",
            "d2f50f697820455e96a0bd6b7c6c95b6",
            "f2ccd19b95464502981caa252c6ab2c9",
            "b666071b66a84627871b8f08783d9133",
            "5040a7d9ba534ea4974b43c0a6cb55a7",
            "6ca941e997214314a561743cf5c22547",
            "5e400d41b75349deac9b612e556d4ae6",
            "da652d3af3f744d6b0b26d3de891bec0",
            "d4411087a2174f2ca7c3c475a8a9b37a",
            "819bb20e13644a58ad7ab263213f4a7e",
            "b1c77a5b3c484d32b2814c2d39921b1b",
            "5c394c1b92324e8683ace73cbfabdac8",
            "7e23b3efbe594e5baeb986f12585c97b"
          ]
        },
        "id": "Fg0R1Zo8P4zf",
        "outputId": "236cc797-b712-418f-cf53-fa27bf2cfe32"
      },
      "outputs": [
        {
          "output_type": "display_data",
          "data": {
            "text/plain": [
              "interactive(children=(Dropdown(description='a', options=(5, -5, 2.5), value=5), Dropdown(description='b', opti…"
            ],
            "application/vnd.jupyter.widget-view+json": {
              "version_major": 2,
              "version_minor": 0,
              "model_id": "42795f24014e4b6a8bf12bf155bed601"
            }
          },
          "metadata": {}
        }
      ],
      "source": [
        "@widgets.interact_manual(a=[5, -5, 2.5], b=[10, -10, 0.5],color=['green','blue','red'])\n",
        "def plot(a,b, color):\n",
        "  c=np.random.rand(10)\n",
        "  d=a*c + b\n",
        "  plt.plot(c, d, color=color)\n",
        "  plt.show()"
      ]
    },
    {
      "cell_type": "code",
      "execution_count": 40,
      "metadata": {
        "id": "eKE4bN6RQueb"
      },
      "outputs": [],
      "source": [
        "x=widgets.IntText()\n",
        "y=widgets.IntSlider()"
      ]
    },
    {
      "cell_type": "code",
      "execution_count": 41,
      "metadata": {
        "colab": {
          "base_uri": "https://localhost:8080/",
          "height": 79,
          "referenced_widgets": [
            "a24b102cf282480db27fc91a4d6bea15",
            "ffc8054660f94ea9a6d89b1e1e8c1c23",
            "5055f6b659c3473a8694548c08954c96",
            "493bf7962c7f4a6c8b183674b3d8d5f1",
            "f565c4b9ab514597a3189d50bb6b38e7",
            "50f95e4661b04edb982d500d761a5a7a"
          ]
        },
        "id": "pErPUyb0Qult",
        "outputId": "5842a9f0-6ddf-4f7b-9d97-848097c72ff6"
      },
      "outputs": [
        {
          "output_type": "display_data",
          "data": {
            "text/plain": [
              "IntText(value=0)"
            ],
            "application/vnd.jupyter.widget-view+json": {
              "version_major": 2,
              "version_minor": 0,
              "model_id": "a24b102cf282480db27fc91a4d6bea15"
            }
          },
          "metadata": {}
        },
        {
          "output_type": "display_data",
          "data": {
            "text/plain": [
              "IntSlider(value=0)"
            ],
            "application/vnd.jupyter.widget-view+json": {
              "version_major": 2,
              "version_minor": 0,
              "model_id": "493bf7962c7f4a6c8b183674b3d8d5f1"
            }
          },
          "metadata": {}
        }
      ],
      "source": [
        "display(x, y)"
      ]
    },
    {
      "cell_type": "code",
      "execution_count": 42,
      "metadata": {
        "id": "E8CBb_XYQuvM"
      },
      "outputs": [],
      "source": [
        "link = widgets.link((x, 'value'),(y,'value'))"
      ]
    },
    {
      "cell_type": "code",
      "execution_count": 43,
      "metadata": {
        "colab": {
          "base_uri": "https://localhost:8080/"
        },
        "id": "RZ_pMGo2Qu5J",
        "outputId": "ce5b3934-3aae-4570-b5ae-6040c8854633"
      },
      "outputs": [
        {
          "output_type": "execute_result",
          "data": {
            "text/plain": [
              "<traitlets.traitlets.link at 0x7f0b02ade950>"
            ]
          },
          "metadata": {},
          "execution_count": 43
        }
      ],
      "source": [
        "link"
      ]
    },
    {
      "cell_type": "code",
      "execution_count": 44,
      "metadata": {
        "id": "dRHT2jVfP5B2"
      },
      "outputs": [],
      "source": [
        "text=widgets.Text(value='Hello', description='Title')\n",
        "Togg=widgets.ToggleButton(value=False, description='Grid')\n",
        "button=widgets.Button(description='Press')"
      ]
    },
    {
      "cell_type": "code",
      "execution_count": 45,
      "metadata": {
        "id": "qhdqFhBlW3Ir"
      },
      "outputs": [],
      "source": [
        "tab1 = VBox(children=[x, y])\n",
        "tab2 = VBox(children=[button, HBox(children=[text, Togg, col_picker])])"
      ]
    },
    {
      "cell_type": "code",
      "execution_count": 46,
      "metadata": {
        "id": "_SERTvL0W3Xf"
      },
      "outputs": [],
      "source": [
        "tab = widgets.Tab(children=[tab1, tab2])\n",
        "tab.set_title(0, 'Tab1')\n",
        "tab.set_title(1, 'Tab2')"
      ]
    },
    {
      "cell_type": "code",
      "execution_count": 47,
      "metadata": {
        "colab": {
          "base_uri": "https://localhost:8080/",
          "height": 143,
          "referenced_widgets": [
            "caa7ff52f35d43c5b507d326f70f50ef",
            "3bc64bb91fb74077a362910273d5d99c",
            "29b6b5dbdb6147ea809d681a6c88783b",
            "232dcf77133442459c6571f5b80c59ed",
            "a24b102cf282480db27fc91a4d6bea15",
            "493bf7962c7f4a6c8b183674b3d8d5f1",
            "ec5ff5a99c724955a726c70e249a26e4",
            "58fd6e3bf4d0441faa0e0e36d227bd5a",
            "7fe1007c194d4c2e97b3f891212bba2c",
            "26d9b5acc49a4b79bf868aa9e8ce6652",
            "ffc8054660f94ea9a6d89b1e1e8c1c23",
            "5055f6b659c3473a8694548c08954c96",
            "f565c4b9ab514597a3189d50bb6b38e7",
            "50f95e4661b04edb982d500d761a5a7a",
            "9fc742ee909e4045bd6176c8681de999",
            "0d1f02fbd145400e913965c935937a4f",
            "91eece031f3a4fcab2bb6065b9e982b2",
            "dc56542d3b0e4df9a4fda4f5bc90406b",
            "c81a4fae467743ceade7132c288a369e",
            "feb1503523864b9e9d086b7db67d8de8",
            "6f746b00ec7e46ebb92aa84152faeb09",
            "3bdf46bcfc6a40179cce610624c4023c",
            "dc946cc5c0474e0aa1a4f545b5ced81d",
            "7a84eebb3cb64e20b9a513a4b03568fc",
            "295e70de6ed14f459f88a04d06213f13",
            "cc062240458b40a788ee4142d3ea336a"
          ]
        },
        "id": "kRedB9Jld_5W",
        "outputId": "a26e8aeb-f8a1-44e1-bfd3-025810858644"
      },
      "outputs": [
        {
          "output_type": "display_data",
          "data": {
            "text/plain": [
              "Tab(children=(VBox(children=(IntText(value=0), IntSlider(value=0))), VBox(children=(Button(description='Press'…"
            ],
            "application/vnd.jupyter.widget-view+json": {
              "version_major": 2,
              "version_minor": 0,
              "model_id": "caa7ff52f35d43c5b507d326f70f50ef"
            }
          },
          "metadata": {}
        }
      ],
      "source": [
        "display(tab)"
      ]
    }
  ],
  "metadata": {
    "colab": {
      "provenance": []
    },
    "kernelspec": {
      "display_name": "Python 3",
      "name": "python3"
    },
    "language_info": {
      "name": "python"
    },
    "widgets": {
      "application/vnd.jupyter.widget-state+json": {
        "18a0a81fd96d45be8a3a3da0c2a846b5": {
          "model_module": "@jupyter-widgets/controls",
          "model_name": "IntSliderModel",
          "model_module_version": "1.5.0",
          "state": {
            "_dom_classes": [],
            "_model_module": "@jupyter-widgets/controls",
            "_model_module_version": "1.5.0",
            "_model_name": "IntSliderModel",
            "_view_count": null,
            "_view_module": "@jupyter-widgets/controls",
            "_view_module_version": "1.5.0",
            "_view_name": "IntSliderView",
            "continuous_update": true,
            "description": "Slider",
            "description_tooltip": null,
            "disabled": false,
            "layout": "IPY_MODEL_70e2284f35ca4813be0f63dabd619289",
            "max": 10,
            "min": 0,
            "orientation": "horizontal",
            "readout": true,
            "readout_format": "d",
            "step": 1,
            "style": "IPY_MODEL_96732bc8adfa43f59aecd8eaf9bab26c",
            "value": 7
          }
        },
        "70e2284f35ca4813be0f63dabd619289": {
          "model_module": "@jupyter-widgets/base",
          "model_name": "LayoutModel",
          "model_module_version": "1.2.0",
          "state": {
            "_model_module": "@jupyter-widgets/base",
            "_model_module_version": "1.2.0",
            "_model_name": "LayoutModel",
            "_view_count": null,
            "_view_module": "@jupyter-widgets/base",
            "_view_module_version": "1.2.0",
            "_view_name": "LayoutView",
            "align_content": null,
            "align_items": null,
            "align_self": null,
            "border": null,
            "bottom": null,
            "display": null,
            "flex": null,
            "flex_flow": null,
            "grid_area": null,
            "grid_auto_columns": null,
            "grid_auto_flow": null,
            "grid_auto_rows": null,
            "grid_column": null,
            "grid_gap": null,
            "grid_row": null,
            "grid_template_areas": null,
            "grid_template_columns": null,
            "grid_template_rows": null,
            "height": null,
            "justify_content": null,
            "justify_items": null,
            "left": null,
            "margin": null,
            "max_height": null,
            "max_width": null,
            "min_height": null,
            "min_width": null,
            "object_fit": null,
            "object_position": null,
            "order": null,
            "overflow": null,
            "overflow_x": null,
            "overflow_y": null,
            "padding": null,
            "right": null,
            "top": null,
            "visibility": null,
            "width": null
          }
        },
        "96732bc8adfa43f59aecd8eaf9bab26c": {
          "model_module": "@jupyter-widgets/controls",
          "model_name": "SliderStyleModel",
          "model_module_version": "1.5.0",
          "state": {
            "_model_module": "@jupyter-widgets/controls",
            "_model_module_version": "1.5.0",
            "_model_name": "SliderStyleModel",
            "_view_count": null,
            "_view_module": "@jupyter-widgets/base",
            "_view_module_version": "1.2.0",
            "_view_name": "StyleView",
            "description_width": "",
            "handle_color": null
          }
        },
        "e5989cccf95841c5950d96ccadf8aeac": {
          "model_module": "@jupyter-widgets/controls",
          "model_name": "FloatSliderModel",
          "model_module_version": "1.5.0",
          "state": {
            "_dom_classes": [],
            "_model_module": "@jupyter-widgets/controls",
            "_model_module_version": "1.5.0",
            "_model_name": "FloatSliderModel",
            "_view_count": null,
            "_view_module": "@jupyter-widgets/controls",
            "_view_module_version": "1.5.0",
            "_view_name": "FloatSliderView",
            "continuous_update": true,
            "description": "Float: ",
            "description_tooltip": null,
            "disabled": false,
            "layout": "IPY_MODEL_307c9bcfe6af4b92b7da34bc13e03d8e",
            "max": 10,
            "min": 0,
            "orientation": "vertical",
            "readout": true,
            "readout_format": ".2f",
            "step": 0.1,
            "style": "IPY_MODEL_0ff6622f92d349439cf5bfd48f972036",
            "value": 7.3
          }
        },
        "307c9bcfe6af4b92b7da34bc13e03d8e": {
          "model_module": "@jupyter-widgets/base",
          "model_name": "LayoutModel",
          "model_module_version": "1.2.0",
          "state": {
            "_model_module": "@jupyter-widgets/base",
            "_model_module_version": "1.2.0",
            "_model_name": "LayoutModel",
            "_view_count": null,
            "_view_module": "@jupyter-widgets/base",
            "_view_module_version": "1.2.0",
            "_view_name": "LayoutView",
            "align_content": null,
            "align_items": null,
            "align_self": null,
            "border": null,
            "bottom": null,
            "display": null,
            "flex": null,
            "flex_flow": null,
            "grid_area": null,
            "grid_auto_columns": null,
            "grid_auto_flow": null,
            "grid_auto_rows": null,
            "grid_column": null,
            "grid_gap": null,
            "grid_row": null,
            "grid_template_areas": null,
            "grid_template_columns": null,
            "grid_template_rows": null,
            "height": null,
            "justify_content": null,
            "justify_items": null,
            "left": null,
            "margin": null,
            "max_height": null,
            "max_width": null,
            "min_height": null,
            "min_width": null,
            "object_fit": null,
            "object_position": null,
            "order": null,
            "overflow": null,
            "overflow_x": null,
            "overflow_y": null,
            "padding": null,
            "right": null,
            "top": null,
            "visibility": null,
            "width": null
          }
        },
        "0ff6622f92d349439cf5bfd48f972036": {
          "model_module": "@jupyter-widgets/controls",
          "model_name": "SliderStyleModel",
          "model_module_version": "1.5.0",
          "state": {
            "_model_module": "@jupyter-widgets/controls",
            "_model_module_version": "1.5.0",
            "_model_name": "SliderStyleModel",
            "_view_count": null,
            "_view_module": "@jupyter-widgets/base",
            "_view_module_version": "1.2.0",
            "_view_name": "StyleView",
            "description_width": "",
            "handle_color": null
          }
        },
        "9f83bfd349134c9085528314828e675d": {
          "model_module": "@jupyter-widgets/controls",
          "model_name": "FloatLogSliderModel",
          "model_module_version": "1.5.0",
          "state": {
            "_dom_classes": [],
            "_model_module": "@jupyter-widgets/controls",
            "_model_module_version": "1.5.0",
            "_model_name": "FloatLogSliderModel",
            "_view_count": null,
            "_view_module": "@jupyter-widgets/controls",
            "_view_module_version": "1.5.0",
            "_view_name": "FloatLogSliderView",
            "base": 10,
            "continuous_update": true,
            "description": "Float Log: ",
            "description_tooltip": null,
            "disabled": false,
            "layout": "IPY_MODEL_23e5324c8512484197172cdf9095c6d9",
            "max": 10,
            "min": 0,
            "orientation": "horizontal",
            "readout": true,
            "readout_format": ".3g",
            "step": 0.2,
            "style": "IPY_MODEL_31dff57cfcc94b5db9bfc6a24dcc62a1",
            "value": 7.3
          }
        },
        "23e5324c8512484197172cdf9095c6d9": {
          "model_module": "@jupyter-widgets/base",
          "model_name": "LayoutModel",
          "model_module_version": "1.2.0",
          "state": {
            "_model_module": "@jupyter-widgets/base",
            "_model_module_version": "1.2.0",
            "_model_name": "LayoutModel",
            "_view_count": null,
            "_view_module": "@jupyter-widgets/base",
            "_view_module_version": "1.2.0",
            "_view_name": "LayoutView",
            "align_content": null,
            "align_items": null,
            "align_self": null,
            "border": null,
            "bottom": null,
            "display": null,
            "flex": null,
            "flex_flow": null,
            "grid_area": null,
            "grid_auto_columns": null,
            "grid_auto_flow": null,
            "grid_auto_rows": null,
            "grid_column": null,
            "grid_gap": null,
            "grid_row": null,
            "grid_template_areas": null,
            "grid_template_columns": null,
            "grid_template_rows": null,
            "height": null,
            "justify_content": null,
            "justify_items": null,
            "left": null,
            "margin": null,
            "max_height": null,
            "max_width": null,
            "min_height": null,
            "min_width": null,
            "object_fit": null,
            "object_position": null,
            "order": null,
            "overflow": null,
            "overflow_x": null,
            "overflow_y": null,
            "padding": null,
            "right": null,
            "top": null,
            "visibility": null,
            "width": null
          }
        },
        "31dff57cfcc94b5db9bfc6a24dcc62a1": {
          "model_module": "@jupyter-widgets/controls",
          "model_name": "SliderStyleModel",
          "model_module_version": "1.5.0",
          "state": {
            "_model_module": "@jupyter-widgets/controls",
            "_model_module_version": "1.5.0",
            "_model_name": "SliderStyleModel",
            "_view_count": null,
            "_view_module": "@jupyter-widgets/base",
            "_view_module_version": "1.2.0",
            "_view_name": "StyleView",
            "description_width": "",
            "handle_color": null
          }
        },
        "ea90d086f2de4ac888c8b3d75d6456e0": {
          "model_module": "@jupyter-widgets/controls",
          "model_name": "IntRangeSliderModel",
          "model_module_version": "1.5.0",
          "state": {
            "_dom_classes": [],
            "_model_module": "@jupyter-widgets/controls",
            "_model_module_version": "1.5.0",
            "_model_name": "IntRangeSliderModel",
            "_view_count": null,
            "_view_module": "@jupyter-widgets/controls",
            "_view_module_version": "1.5.0",
            "_view_name": "IntRangeSliderView",
            "continuous_update": true,
            "description": "Range: ",
            "description_tooltip": null,
            "disabled": false,
            "layout": "IPY_MODEL_545c9578f92f4ca39a38bab042818fa0",
            "max": 15,
            "min": 0,
            "orientation": "horizontal",
            "readout": true,
            "readout_format": "d",
            "step": 1,
            "style": "IPY_MODEL_a228f03b72e64ff0ab877b04bbf1ded3",
            "value": [
              5,
              7
            ]
          }
        },
        "545c9578f92f4ca39a38bab042818fa0": {
          "model_module": "@jupyter-widgets/base",
          "model_name": "LayoutModel",
          "model_module_version": "1.2.0",
          "state": {
            "_model_module": "@jupyter-widgets/base",
            "_model_module_version": "1.2.0",
            "_model_name": "LayoutModel",
            "_view_count": null,
            "_view_module": "@jupyter-widgets/base",
            "_view_module_version": "1.2.0",
            "_view_name": "LayoutView",
            "align_content": null,
            "align_items": null,
            "align_self": null,
            "border": null,
            "bottom": null,
            "display": null,
            "flex": null,
            "flex_flow": null,
            "grid_area": null,
            "grid_auto_columns": null,
            "grid_auto_flow": null,
            "grid_auto_rows": null,
            "grid_column": null,
            "grid_gap": null,
            "grid_row": null,
            "grid_template_areas": null,
            "grid_template_columns": null,
            "grid_template_rows": null,
            "height": null,
            "justify_content": null,
            "justify_items": null,
            "left": null,
            "margin": null,
            "max_height": null,
            "max_width": null,
            "min_height": null,
            "min_width": null,
            "object_fit": null,
            "object_position": null,
            "order": null,
            "overflow": null,
            "overflow_x": null,
            "overflow_y": null,
            "padding": null,
            "right": null,
            "top": null,
            "visibility": null,
            "width": null
          }
        },
        "a228f03b72e64ff0ab877b04bbf1ded3": {
          "model_module": "@jupyter-widgets/controls",
          "model_name": "SliderStyleModel",
          "model_module_version": "1.5.0",
          "state": {
            "_model_module": "@jupyter-widgets/controls",
            "_model_module_version": "1.5.0",
            "_model_name": "SliderStyleModel",
            "_view_count": null,
            "_view_module": "@jupyter-widgets/base",
            "_view_module_version": "1.2.0",
            "_view_name": "StyleView",
            "description_width": "",
            "handle_color": null
          }
        },
        "bc114a2e5b744f748ccbfb06518e1daa": {
          "model_module": "@jupyter-widgets/controls",
          "model_name": "IntProgressModel",
          "model_module_version": "1.5.0",
          "state": {
            "_dom_classes": [],
            "_model_module": "@jupyter-widgets/controls",
            "_model_module_version": "1.5.0",
            "_model_name": "IntProgressModel",
            "_view_count": null,
            "_view_module": "@jupyter-widgets/controls",
            "_view_module_version": "1.5.0",
            "_view_name": "ProgressView",
            "bar_style": "",
            "description": "Progress: ",
            "description_tooltip": null,
            "layout": "IPY_MODEL_312c297b9e094062aa1be737e7aa63f2",
            "max": 10,
            "min": 0,
            "orientation": "vertical",
            "style": "IPY_MODEL_0af2eec243a14aad8042a1063ae21fa8",
            "value": 7
          }
        },
        "312c297b9e094062aa1be737e7aa63f2": {
          "model_module": "@jupyter-widgets/base",
          "model_name": "LayoutModel",
          "model_module_version": "1.2.0",
          "state": {
            "_model_module": "@jupyter-widgets/base",
            "_model_module_version": "1.2.0",
            "_model_name": "LayoutModel",
            "_view_count": null,
            "_view_module": "@jupyter-widgets/base",
            "_view_module_version": "1.2.0",
            "_view_name": "LayoutView",
            "align_content": null,
            "align_items": null,
            "align_self": null,
            "border": null,
            "bottom": null,
            "display": null,
            "flex": null,
            "flex_flow": null,
            "grid_area": null,
            "grid_auto_columns": null,
            "grid_auto_flow": null,
            "grid_auto_rows": null,
            "grid_column": null,
            "grid_gap": null,
            "grid_row": null,
            "grid_template_areas": null,
            "grid_template_columns": null,
            "grid_template_rows": null,
            "height": null,
            "justify_content": null,
            "justify_items": null,
            "left": null,
            "margin": null,
            "max_height": null,
            "max_width": null,
            "min_height": null,
            "min_width": null,
            "object_fit": null,
            "object_position": null,
            "order": null,
            "overflow": null,
            "overflow_x": null,
            "overflow_y": null,
            "padding": null,
            "right": null,
            "top": null,
            "visibility": null,
            "width": null
          }
        },
        "0af2eec243a14aad8042a1063ae21fa8": {
          "model_module": "@jupyter-widgets/controls",
          "model_name": "ProgressStyleModel",
          "model_module_version": "1.5.0",
          "state": {
            "_model_module": "@jupyter-widgets/controls",
            "_model_module_version": "1.5.0",
            "_model_name": "ProgressStyleModel",
            "_view_count": null,
            "_view_module": "@jupyter-widgets/base",
            "_view_module_version": "1.2.0",
            "_view_name": "StyleView",
            "bar_color": null,
            "description_width": ""
          }
        },
        "2de18f75be2945689dc2c6c167858c84": {
          "model_module": "@jupyter-widgets/controls",
          "model_name": "ToggleButtonModel",
          "model_module_version": "1.5.0",
          "state": {
            "_dom_classes": [],
            "_model_module": "@jupyter-widgets/controls",
            "_model_module_version": "1.5.0",
            "_model_name": "ToggleButtonModel",
            "_view_count": null,
            "_view_module": "@jupyter-widgets/controls",
            "_view_module_version": "1.5.0",
            "_view_name": "ToggleButtonView",
            "button_style": "",
            "description": "Play",
            "description_tooltip": null,
            "disabled": false,
            "icon": "",
            "layout": "IPY_MODEL_492acc6977f744b8a187c5d1543f80d9",
            "style": "IPY_MODEL_4587aafeab2c45b998818d1372b1c429",
            "tooltip": "",
            "value": false
          }
        },
        "492acc6977f744b8a187c5d1543f80d9": {
          "model_module": "@jupyter-widgets/base",
          "model_name": "LayoutModel",
          "model_module_version": "1.2.0",
          "state": {
            "_model_module": "@jupyter-widgets/base",
            "_model_module_version": "1.2.0",
            "_model_name": "LayoutModel",
            "_view_count": null,
            "_view_module": "@jupyter-widgets/base",
            "_view_module_version": "1.2.0",
            "_view_name": "LayoutView",
            "align_content": null,
            "align_items": null,
            "align_self": null,
            "border": null,
            "bottom": null,
            "display": null,
            "flex": null,
            "flex_flow": null,
            "grid_area": null,
            "grid_auto_columns": null,
            "grid_auto_flow": null,
            "grid_auto_rows": null,
            "grid_column": null,
            "grid_gap": null,
            "grid_row": null,
            "grid_template_areas": null,
            "grid_template_columns": null,
            "grid_template_rows": null,
            "height": null,
            "justify_content": null,
            "justify_items": null,
            "left": null,
            "margin": null,
            "max_height": null,
            "max_width": null,
            "min_height": null,
            "min_width": null,
            "object_fit": null,
            "object_position": null,
            "order": null,
            "overflow": null,
            "overflow_x": null,
            "overflow_y": null,
            "padding": null,
            "right": null,
            "top": null,
            "visibility": null,
            "width": null
          }
        },
        "4587aafeab2c45b998818d1372b1c429": {
          "model_module": "@jupyter-widgets/controls",
          "model_name": "DescriptionStyleModel",
          "model_module_version": "1.5.0",
          "state": {
            "_model_module": "@jupyter-widgets/controls",
            "_model_module_version": "1.5.0",
            "_model_name": "DescriptionStyleModel",
            "_view_count": null,
            "_view_module": "@jupyter-widgets/base",
            "_view_module_version": "1.2.0",
            "_view_name": "StyleView",
            "description_width": ""
          }
        },
        "c0947056330d44efbf3dc3bc7aa4369d": {
          "model_module": "@jupyter-widgets/controls",
          "model_name": "CheckboxModel",
          "model_module_version": "1.5.0",
          "state": {
            "_dom_classes": [],
            "_model_module": "@jupyter-widgets/controls",
            "_model_module_version": "1.5.0",
            "_model_name": "CheckboxModel",
            "_view_count": null,
            "_view_module": "@jupyter-widgets/controls",
            "_view_module_version": "1.5.0",
            "_view_name": "CheckboxView",
            "description": "Check:",
            "description_tooltip": null,
            "disabled": false,
            "indent": true,
            "layout": "IPY_MODEL_d4c2742577f3456fa251507e8406598c",
            "style": "IPY_MODEL_a12cf1a85ed748c2bdc7370895e65289",
            "value": true
          }
        },
        "d4c2742577f3456fa251507e8406598c": {
          "model_module": "@jupyter-widgets/base",
          "model_name": "LayoutModel",
          "model_module_version": "1.2.0",
          "state": {
            "_model_module": "@jupyter-widgets/base",
            "_model_module_version": "1.2.0",
            "_model_name": "LayoutModel",
            "_view_count": null,
            "_view_module": "@jupyter-widgets/base",
            "_view_module_version": "1.2.0",
            "_view_name": "LayoutView",
            "align_content": null,
            "align_items": null,
            "align_self": null,
            "border": null,
            "bottom": null,
            "display": null,
            "flex": null,
            "flex_flow": null,
            "grid_area": null,
            "grid_auto_columns": null,
            "grid_auto_flow": null,
            "grid_auto_rows": null,
            "grid_column": null,
            "grid_gap": null,
            "grid_row": null,
            "grid_template_areas": null,
            "grid_template_columns": null,
            "grid_template_rows": null,
            "height": null,
            "justify_content": null,
            "justify_items": null,
            "left": null,
            "margin": null,
            "max_height": null,
            "max_width": null,
            "min_height": null,
            "min_width": null,
            "object_fit": null,
            "object_position": null,
            "order": null,
            "overflow": null,
            "overflow_x": null,
            "overflow_y": null,
            "padding": null,
            "right": null,
            "top": null,
            "visibility": null,
            "width": null
          }
        },
        "a12cf1a85ed748c2bdc7370895e65289": {
          "model_module": "@jupyter-widgets/controls",
          "model_name": "DescriptionStyleModel",
          "model_module_version": "1.5.0",
          "state": {
            "_model_module": "@jupyter-widgets/controls",
            "_model_module_version": "1.5.0",
            "_model_name": "DescriptionStyleModel",
            "_view_count": null,
            "_view_module": "@jupyter-widgets/base",
            "_view_module_version": "1.2.0",
            "_view_name": "StyleView",
            "description_width": ""
          }
        },
        "43aa3d887ea644d1b564fcdc709e8e01": {
          "model_module": "@jupyter-widgets/controls",
          "model_name": "RadioButtonsModel",
          "model_module_version": "1.5.0",
          "state": {
            "_dom_classes": [],
            "_model_module": "@jupyter-widgets/controls",
            "_model_module_version": "1.5.0",
            "_model_name": "RadioButtonsModel",
            "_options_labels": [
              "Cricket",
              "Baseball",
              "Football"
            ],
            "_view_count": null,
            "_view_module": "@jupyter-widgets/controls",
            "_view_module_version": "1.5.0",
            "_view_name": "RadioButtonsView",
            "description": "Select Games",
            "description_tooltip": null,
            "disabled": false,
            "index": 0,
            "layout": "IPY_MODEL_e5cab6e690e7478ca759035101ecfa8a",
            "style": "IPY_MODEL_98e09f26127b44a79efb7b6211d6a40e"
          }
        },
        "e5cab6e690e7478ca759035101ecfa8a": {
          "model_module": "@jupyter-widgets/base",
          "model_name": "LayoutModel",
          "model_module_version": "1.2.0",
          "state": {
            "_model_module": "@jupyter-widgets/base",
            "_model_module_version": "1.2.0",
            "_model_name": "LayoutModel",
            "_view_count": null,
            "_view_module": "@jupyter-widgets/base",
            "_view_module_version": "1.2.0",
            "_view_name": "LayoutView",
            "align_content": null,
            "align_items": null,
            "align_self": null,
            "border": null,
            "bottom": null,
            "display": null,
            "flex": null,
            "flex_flow": null,
            "grid_area": null,
            "grid_auto_columns": null,
            "grid_auto_flow": null,
            "grid_auto_rows": null,
            "grid_column": null,
            "grid_gap": null,
            "grid_row": null,
            "grid_template_areas": null,
            "grid_template_columns": null,
            "grid_template_rows": null,
            "height": null,
            "justify_content": null,
            "justify_items": null,
            "left": null,
            "margin": null,
            "max_height": null,
            "max_width": null,
            "min_height": null,
            "min_width": null,
            "object_fit": null,
            "object_position": null,
            "order": null,
            "overflow": null,
            "overflow_x": null,
            "overflow_y": null,
            "padding": null,
            "right": null,
            "top": null,
            "visibility": null,
            "width": null
          }
        },
        "98e09f26127b44a79efb7b6211d6a40e": {
          "model_module": "@jupyter-widgets/controls",
          "model_name": "DescriptionStyleModel",
          "model_module_version": "1.5.0",
          "state": {
            "_model_module": "@jupyter-widgets/controls",
            "_model_module_version": "1.5.0",
            "_model_name": "DescriptionStyleModel",
            "_view_count": null,
            "_view_module": "@jupyter-widgets/base",
            "_view_module_version": "1.2.0",
            "_view_name": "StyleView",
            "description_width": ""
          }
        },
        "bc73b739785b42208191cb144bd26fdd": {
          "model_module": "@jupyter-widgets/controls",
          "model_name": "SelectModel",
          "model_module_version": "1.5.0",
          "state": {
            "_dom_classes": [],
            "_model_module": "@jupyter-widgets/controls",
            "_model_module_version": "1.5.0",
            "_model_name": "SelectModel",
            "_options_labels": [
              "Vegetable",
              "Fruits",
              "Sweet Dish"
            ],
            "_view_count": null,
            "_view_module": "@jupyter-widgets/controls",
            "_view_module_version": "1.5.0",
            "_view_name": "SelectView",
            "description": "Select:",
            "description_tooltip": null,
            "disabled": false,
            "index": 1,
            "layout": "IPY_MODEL_c99f39776dd34e558dc328ef5a02082a",
            "rows": 5,
            "style": "IPY_MODEL_8ef9ba80ebb34b57b1bff7c0c818c49e"
          }
        },
        "c99f39776dd34e558dc328ef5a02082a": {
          "model_module": "@jupyter-widgets/base",
          "model_name": "LayoutModel",
          "model_module_version": "1.2.0",
          "state": {
            "_model_module": "@jupyter-widgets/base",
            "_model_module_version": "1.2.0",
            "_model_name": "LayoutModel",
            "_view_count": null,
            "_view_module": "@jupyter-widgets/base",
            "_view_module_version": "1.2.0",
            "_view_name": "LayoutView",
            "align_content": null,
            "align_items": null,
            "align_self": null,
            "border": null,
            "bottom": null,
            "display": null,
            "flex": null,
            "flex_flow": null,
            "grid_area": null,
            "grid_auto_columns": null,
            "grid_auto_flow": null,
            "grid_auto_rows": null,
            "grid_column": null,
            "grid_gap": null,
            "grid_row": null,
            "grid_template_areas": null,
            "grid_template_columns": null,
            "grid_template_rows": null,
            "height": null,
            "justify_content": null,
            "justify_items": null,
            "left": null,
            "margin": null,
            "max_height": null,
            "max_width": null,
            "min_height": null,
            "min_width": null,
            "object_fit": null,
            "object_position": null,
            "order": null,
            "overflow": null,
            "overflow_x": null,
            "overflow_y": null,
            "padding": null,
            "right": null,
            "top": null,
            "visibility": null,
            "width": null
          }
        },
        "8ef9ba80ebb34b57b1bff7c0c818c49e": {
          "model_module": "@jupyter-widgets/controls",
          "model_name": "DescriptionStyleModel",
          "model_module_version": "1.5.0",
          "state": {
            "_model_module": "@jupyter-widgets/controls",
            "_model_module_version": "1.5.0",
            "_model_name": "DescriptionStyleModel",
            "_view_count": null,
            "_view_module": "@jupyter-widgets/base",
            "_view_module_version": "1.2.0",
            "_view_name": "StyleView",
            "description_width": ""
          }
        },
        "8dd23499ae074054b5256845a038d356": {
          "model_module": "@jupyter-widgets/controls",
          "model_name": "BoundedIntTextModel",
          "model_module_version": "1.5.0",
          "state": {
            "_dom_classes": [],
            "_model_module": "@jupyter-widgets/controls",
            "_model_module_version": "1.5.0",
            "_model_name": "BoundedIntTextModel",
            "_view_count": null,
            "_view_module": "@jupyter-widgets/controls",
            "_view_module_version": "1.5.0",
            "_view_name": "IntTextView",
            "continuous_update": false,
            "description": "Text",
            "description_tooltip": null,
            "disabled": false,
            "layout": "IPY_MODEL_dc0827738219408d92fa89bb285fa8ea",
            "max": 100,
            "min": 0,
            "step": 1,
            "style": "IPY_MODEL_f98caf307d2346a38cbc1d81754a2fe7",
            "value": 1
          }
        },
        "dc0827738219408d92fa89bb285fa8ea": {
          "model_module": "@jupyter-widgets/base",
          "model_name": "LayoutModel",
          "model_module_version": "1.2.0",
          "state": {
            "_model_module": "@jupyter-widgets/base",
            "_model_module_version": "1.2.0",
            "_model_name": "LayoutModel",
            "_view_count": null,
            "_view_module": "@jupyter-widgets/base",
            "_view_module_version": "1.2.0",
            "_view_name": "LayoutView",
            "align_content": null,
            "align_items": null,
            "align_self": null,
            "border": null,
            "bottom": null,
            "display": null,
            "flex": null,
            "flex_flow": null,
            "grid_area": null,
            "grid_auto_columns": null,
            "grid_auto_flow": null,
            "grid_auto_rows": null,
            "grid_column": null,
            "grid_gap": null,
            "grid_row": null,
            "grid_template_areas": null,
            "grid_template_columns": null,
            "grid_template_rows": null,
            "height": null,
            "justify_content": null,
            "justify_items": null,
            "left": null,
            "margin": null,
            "max_height": null,
            "max_width": null,
            "min_height": null,
            "min_width": null,
            "object_fit": null,
            "object_position": null,
            "order": null,
            "overflow": null,
            "overflow_x": null,
            "overflow_y": null,
            "padding": null,
            "right": null,
            "top": null,
            "visibility": null,
            "width": null
          }
        },
        "f98caf307d2346a38cbc1d81754a2fe7": {
          "model_module": "@jupyter-widgets/controls",
          "model_name": "DescriptionStyleModel",
          "model_module_version": "1.5.0",
          "state": {
            "_model_module": "@jupyter-widgets/controls",
            "_model_module_version": "1.5.0",
            "_model_name": "DescriptionStyleModel",
            "_view_count": null,
            "_view_module": "@jupyter-widgets/base",
            "_view_module_version": "1.2.0",
            "_view_name": "StyleView",
            "description_width": ""
          }
        },
        "e109d270cf104638adb82282c6fa996c": {
          "model_module": "@jupyter-widgets/controls",
          "model_name": "IntTextModel",
          "model_module_version": "1.5.0",
          "state": {
            "_dom_classes": [],
            "_model_module": "@jupyter-widgets/controls",
            "_model_module_version": "1.5.0",
            "_model_name": "IntTextModel",
            "_view_count": null,
            "_view_module": "@jupyter-widgets/controls",
            "_view_module_version": "1.5.0",
            "_view_name": "IntTextView",
            "continuous_update": false,
            "description": "Text",
            "description_tooltip": null,
            "disabled": false,
            "layout": "IPY_MODEL_a6dc264e5b184c88a85aaf246200e4f3",
            "step": 1,
            "style": "IPY_MODEL_087eeedf162f488fb80d5cb2988389b3",
            "value": 1
          }
        },
        "a6dc264e5b184c88a85aaf246200e4f3": {
          "model_module": "@jupyter-widgets/base",
          "model_name": "LayoutModel",
          "model_module_version": "1.2.0",
          "state": {
            "_model_module": "@jupyter-widgets/base",
            "_model_module_version": "1.2.0",
            "_model_name": "LayoutModel",
            "_view_count": null,
            "_view_module": "@jupyter-widgets/base",
            "_view_module_version": "1.2.0",
            "_view_name": "LayoutView",
            "align_content": null,
            "align_items": null,
            "align_self": null,
            "border": null,
            "bottom": null,
            "display": null,
            "flex": null,
            "flex_flow": null,
            "grid_area": null,
            "grid_auto_columns": null,
            "grid_auto_flow": null,
            "grid_auto_rows": null,
            "grid_column": null,
            "grid_gap": null,
            "grid_row": null,
            "grid_template_areas": null,
            "grid_template_columns": null,
            "grid_template_rows": null,
            "height": null,
            "justify_content": null,
            "justify_items": null,
            "left": null,
            "margin": null,
            "max_height": null,
            "max_width": null,
            "min_height": null,
            "min_width": null,
            "object_fit": null,
            "object_position": null,
            "order": null,
            "overflow": null,
            "overflow_x": null,
            "overflow_y": null,
            "padding": null,
            "right": null,
            "top": null,
            "visibility": null,
            "width": null
          }
        },
        "087eeedf162f488fb80d5cb2988389b3": {
          "model_module": "@jupyter-widgets/controls",
          "model_name": "DescriptionStyleModel",
          "model_module_version": "1.5.0",
          "state": {
            "_model_module": "@jupyter-widgets/controls",
            "_model_module_version": "1.5.0",
            "_model_name": "DescriptionStyleModel",
            "_view_count": null,
            "_view_module": "@jupyter-widgets/base",
            "_view_module_version": "1.2.0",
            "_view_name": "StyleView",
            "description_width": ""
          }
        },
        "db493b383e13419db0222385c9f407f8": {
          "model_module": "@jupyter-widgets/controls",
          "model_name": "FloatTextModel",
          "model_module_version": "1.5.0",
          "state": {
            "_dom_classes": [],
            "_model_module": "@jupyter-widgets/controls",
            "_model_module_version": "1.5.0",
            "_model_name": "FloatTextModel",
            "_view_count": null,
            "_view_module": "@jupyter-widgets/controls",
            "_view_module_version": "1.5.0",
            "_view_name": "FloatTextView",
            "continuous_update": false,
            "description": "Text Float",
            "description_tooltip": null,
            "disabled": false,
            "layout": "IPY_MODEL_c6ef8b0a4060435c8eeabb62be67d1e9",
            "step": 0.1,
            "style": "IPY_MODEL_d0d39b422e9c4948b181a39b227759a2",
            "value": 3.2
          }
        },
        "c6ef8b0a4060435c8eeabb62be67d1e9": {
          "model_module": "@jupyter-widgets/base",
          "model_name": "LayoutModel",
          "model_module_version": "1.2.0",
          "state": {
            "_model_module": "@jupyter-widgets/base",
            "_model_module_version": "1.2.0",
            "_model_name": "LayoutModel",
            "_view_count": null,
            "_view_module": "@jupyter-widgets/base",
            "_view_module_version": "1.2.0",
            "_view_name": "LayoutView",
            "align_content": null,
            "align_items": null,
            "align_self": null,
            "border": null,
            "bottom": null,
            "display": null,
            "flex": null,
            "flex_flow": null,
            "grid_area": null,
            "grid_auto_columns": null,
            "grid_auto_flow": null,
            "grid_auto_rows": null,
            "grid_column": null,
            "grid_gap": null,
            "grid_row": null,
            "grid_template_areas": null,
            "grid_template_columns": null,
            "grid_template_rows": null,
            "height": null,
            "justify_content": null,
            "justify_items": null,
            "left": null,
            "margin": null,
            "max_height": null,
            "max_width": null,
            "min_height": null,
            "min_width": null,
            "object_fit": null,
            "object_position": null,
            "order": null,
            "overflow": null,
            "overflow_x": null,
            "overflow_y": null,
            "padding": null,
            "right": null,
            "top": null,
            "visibility": null,
            "width": null
          }
        },
        "d0d39b422e9c4948b181a39b227759a2": {
          "model_module": "@jupyter-widgets/controls",
          "model_name": "DescriptionStyleModel",
          "model_module_version": "1.5.0",
          "state": {
            "_model_module": "@jupyter-widgets/controls",
            "_model_module_version": "1.5.0",
            "_model_name": "DescriptionStyleModel",
            "_view_count": null,
            "_view_module": "@jupyter-widgets/base",
            "_view_module_version": "1.2.0",
            "_view_name": "StyleView",
            "description_width": ""
          }
        },
        "b43fbc528dc34a81bead264c203ac5ae": {
          "model_module": "@jupyter-widgets/controls",
          "model_name": "ComboboxModel",
          "model_module_version": "1.5.0",
          "state": {
            "_dom_classes": [],
            "_model_module": "@jupyter-widgets/controls",
            "_model_module_version": "1.5.0",
            "_model_name": "ComboboxModel",
            "_view_count": null,
            "_view_module": "@jupyter-widgets/controls",
            "_view_module_version": "1.5.0",
            "_view_name": "ComboboxView",
            "continuous_update": true,
            "description": "Combo Box",
            "description_tooltip": null,
            "disabled": false,
            "ensure_option": false,
            "layout": "IPY_MODEL_2c026af036a440a894b243a202eb780a",
            "options": [
              "1",
              "2",
              "Three"
            ],
            "placeholder": "Choose one:",
            "style": "IPY_MODEL_593c847dec0b43139f94bd068221a31f",
            "value": ""
          }
        },
        "2c026af036a440a894b243a202eb780a": {
          "model_module": "@jupyter-widgets/base",
          "model_name": "LayoutModel",
          "model_module_version": "1.2.0",
          "state": {
            "_model_module": "@jupyter-widgets/base",
            "_model_module_version": "1.2.0",
            "_model_name": "LayoutModel",
            "_view_count": null,
            "_view_module": "@jupyter-widgets/base",
            "_view_module_version": "1.2.0",
            "_view_name": "LayoutView",
            "align_content": null,
            "align_items": null,
            "align_self": null,
            "border": null,
            "bottom": null,
            "display": null,
            "flex": null,
            "flex_flow": null,
            "grid_area": null,
            "grid_auto_columns": null,
            "grid_auto_flow": null,
            "grid_auto_rows": null,
            "grid_column": null,
            "grid_gap": null,
            "grid_row": null,
            "grid_template_areas": null,
            "grid_template_columns": null,
            "grid_template_rows": null,
            "height": null,
            "justify_content": null,
            "justify_items": null,
            "left": null,
            "margin": null,
            "max_height": null,
            "max_width": null,
            "min_height": null,
            "min_width": null,
            "object_fit": null,
            "object_position": null,
            "order": null,
            "overflow": null,
            "overflow_x": null,
            "overflow_y": null,
            "padding": null,
            "right": null,
            "top": null,
            "visibility": null,
            "width": null
          }
        },
        "593c847dec0b43139f94bd068221a31f": {
          "model_module": "@jupyter-widgets/controls",
          "model_name": "DescriptionStyleModel",
          "model_module_version": "1.5.0",
          "state": {
            "_model_module": "@jupyter-widgets/controls",
            "_model_module_version": "1.5.0",
            "_model_name": "DescriptionStyleModel",
            "_view_count": null,
            "_view_module": "@jupyter-widgets/base",
            "_view_module_version": "1.2.0",
            "_view_name": "StyleView",
            "description_width": ""
          }
        },
        "fa788ab6072a42f6a22e3281b26fdbc0": {
          "model_module": "@jupyter-widgets/controls",
          "model_name": "TextModel",
          "model_module_version": "1.5.0",
          "state": {
            "_dom_classes": [],
            "_model_module": "@jupyter-widgets/controls",
            "_model_module_version": "1.5.0",
            "_model_name": "TextModel",
            "_view_count": null,
            "_view_module": "@jupyter-widgets/controls",
            "_view_module_version": "1.5.0",
            "_view_name": "TextView",
            "continuous_update": true,
            "description": "Text",
            "description_tooltip": null,
            "disabled": false,
            "layout": "IPY_MODEL_5418063c327c4f0eac7d0c53f26a563b",
            "placeholder": "Type Something",
            "style": "IPY_MODEL_0f2e71e1b1564bb79d269c07f9259f6b",
            "value": "Hello World"
          }
        },
        "5418063c327c4f0eac7d0c53f26a563b": {
          "model_module": "@jupyter-widgets/base",
          "model_name": "LayoutModel",
          "model_module_version": "1.2.0",
          "state": {
            "_model_module": "@jupyter-widgets/base",
            "_model_module_version": "1.2.0",
            "_model_name": "LayoutModel",
            "_view_count": null,
            "_view_module": "@jupyter-widgets/base",
            "_view_module_version": "1.2.0",
            "_view_name": "LayoutView",
            "align_content": null,
            "align_items": null,
            "align_self": null,
            "border": null,
            "bottom": null,
            "display": null,
            "flex": null,
            "flex_flow": null,
            "grid_area": null,
            "grid_auto_columns": null,
            "grid_auto_flow": null,
            "grid_auto_rows": null,
            "grid_column": null,
            "grid_gap": null,
            "grid_row": null,
            "grid_template_areas": null,
            "grid_template_columns": null,
            "grid_template_rows": null,
            "height": null,
            "justify_content": null,
            "justify_items": null,
            "left": null,
            "margin": null,
            "max_height": null,
            "max_width": null,
            "min_height": null,
            "min_width": null,
            "object_fit": null,
            "object_position": null,
            "order": null,
            "overflow": null,
            "overflow_x": null,
            "overflow_y": null,
            "padding": null,
            "right": null,
            "top": null,
            "visibility": null,
            "width": null
          }
        },
        "0f2e71e1b1564bb79d269c07f9259f6b": {
          "model_module": "@jupyter-widgets/controls",
          "model_name": "DescriptionStyleModel",
          "model_module_version": "1.5.0",
          "state": {
            "_model_module": "@jupyter-widgets/controls",
            "_model_module_version": "1.5.0",
            "_model_name": "DescriptionStyleModel",
            "_view_count": null,
            "_view_module": "@jupyter-widgets/base",
            "_view_module_version": "1.2.0",
            "_view_name": "StyleView",
            "description_width": ""
          }
        },
        "4aa840e3ea5d430fa0223538c98e1105": {
          "model_module": "@jupyter-widgets/controls",
          "model_name": "SelectionSliderModel",
          "model_module_version": "1.5.0",
          "state": {
            "_dom_classes": [],
            "_model_module": "@jupyter-widgets/controls",
            "_model_module_version": "1.5.0",
            "_model_name": "SelectionSliderModel",
            "_options_labels": [
              "Baseball",
              "Cricket",
              "Basketball"
            ],
            "_view_count": null,
            "_view_module": "@jupyter-widgets/controls",
            "_view_module_version": "1.5.0",
            "_view_name": "SelectionSliderView",
            "continuous_update": true,
            "description": "I like ...",
            "description_tooltip": null,
            "disabled": false,
            "index": 1,
            "layout": "IPY_MODEL_b6610e1750764fdc9a4cc25fb47772a0",
            "orientation": "horizontal",
            "readout": true,
            "style": "IPY_MODEL_1122f98ae5da4280b1c390782ec894d3"
          }
        },
        "b6610e1750764fdc9a4cc25fb47772a0": {
          "model_module": "@jupyter-widgets/base",
          "model_name": "LayoutModel",
          "model_module_version": "1.2.0",
          "state": {
            "_model_module": "@jupyter-widgets/base",
            "_model_module_version": "1.2.0",
            "_model_name": "LayoutModel",
            "_view_count": null,
            "_view_module": "@jupyter-widgets/base",
            "_view_module_version": "1.2.0",
            "_view_name": "LayoutView",
            "align_content": null,
            "align_items": null,
            "align_self": null,
            "border": null,
            "bottom": null,
            "display": null,
            "flex": null,
            "flex_flow": null,
            "grid_area": null,
            "grid_auto_columns": null,
            "grid_auto_flow": null,
            "grid_auto_rows": null,
            "grid_column": null,
            "grid_gap": null,
            "grid_row": null,
            "grid_template_areas": null,
            "grid_template_columns": null,
            "grid_template_rows": null,
            "height": null,
            "justify_content": null,
            "justify_items": null,
            "left": null,
            "margin": null,
            "max_height": null,
            "max_width": null,
            "min_height": null,
            "min_width": null,
            "object_fit": null,
            "object_position": null,
            "order": null,
            "overflow": null,
            "overflow_x": null,
            "overflow_y": null,
            "padding": null,
            "right": null,
            "top": null,
            "visibility": null,
            "width": null
          }
        },
        "1122f98ae5da4280b1c390782ec894d3": {
          "model_module": "@jupyter-widgets/controls",
          "model_name": "DescriptionStyleModel",
          "model_module_version": "1.5.0",
          "state": {
            "_model_module": "@jupyter-widgets/controls",
            "_model_module_version": "1.5.0",
            "_model_name": "DescriptionStyleModel",
            "_view_count": null,
            "_view_module": "@jupyter-widgets/base",
            "_view_module_version": "1.2.0",
            "_view_name": "StyleView",
            "description_width": ""
          }
        },
        "a3ce2cad11aa4af2a88da99a0644ae68": {
          "model_module": "@jupyter-widgets/controls",
          "model_name": "ToggleButtonsModel",
          "model_module_version": "1.5.0",
          "state": {
            "_dom_classes": [],
            "_model_module": "@jupyter-widgets/controls",
            "_model_module_version": "1.5.0",
            "_model_name": "ToggleButtonsModel",
            "_options_labels": [
              "Small",
              "Medium",
              " Large"
            ],
            "_view_count": null,
            "_view_module": "@jupyter-widgets/controls",
            "_view_module_version": "1.5.0",
            "_view_name": "ToggleButtonsView",
            "button_style": "",
            "description": "Size",
            "description_tooltip": null,
            "disabled": false,
            "icons": [],
            "index": 0,
            "layout": "IPY_MODEL_bfcb4dd0a48f48409926c38ad4a41c5b",
            "style": "IPY_MODEL_f6ac4cbd868d49ca8beef12682b9b4c4",
            "tooltips": []
          }
        },
        "bfcb4dd0a48f48409926c38ad4a41c5b": {
          "model_module": "@jupyter-widgets/base",
          "model_name": "LayoutModel",
          "model_module_version": "1.2.0",
          "state": {
            "_model_module": "@jupyter-widgets/base",
            "_model_module_version": "1.2.0",
            "_model_name": "LayoutModel",
            "_view_count": null,
            "_view_module": "@jupyter-widgets/base",
            "_view_module_version": "1.2.0",
            "_view_name": "LayoutView",
            "align_content": null,
            "align_items": null,
            "align_self": null,
            "border": null,
            "bottom": null,
            "display": null,
            "flex": null,
            "flex_flow": null,
            "grid_area": null,
            "grid_auto_columns": null,
            "grid_auto_flow": null,
            "grid_auto_rows": null,
            "grid_column": null,
            "grid_gap": null,
            "grid_row": null,
            "grid_template_areas": null,
            "grid_template_columns": null,
            "grid_template_rows": null,
            "height": null,
            "justify_content": null,
            "justify_items": null,
            "left": null,
            "margin": null,
            "max_height": null,
            "max_width": null,
            "min_height": null,
            "min_width": null,
            "object_fit": null,
            "object_position": null,
            "order": null,
            "overflow": null,
            "overflow_x": null,
            "overflow_y": null,
            "padding": null,
            "right": null,
            "top": null,
            "visibility": null,
            "width": null
          }
        },
        "f6ac4cbd868d49ca8beef12682b9b4c4": {
          "model_module": "@jupyter-widgets/controls",
          "model_name": "ToggleButtonsStyleModel",
          "model_module_version": "1.5.0",
          "state": {
            "_model_module": "@jupyter-widgets/controls",
            "_model_module_version": "1.5.0",
            "_model_name": "ToggleButtonsStyleModel",
            "_view_count": null,
            "_view_module": "@jupyter-widgets/base",
            "_view_module_version": "1.2.0",
            "_view_name": "StyleView",
            "button_width": "",
            "description_width": "",
            "font_weight": ""
          }
        },
        "c81a4fae467743ceade7132c288a369e": {
          "model_module": "@jupyter-widgets/controls",
          "model_name": "ColorPickerModel",
          "model_module_version": "1.5.0",
          "state": {
            "_dom_classes": [],
            "_model_module": "@jupyter-widgets/controls",
            "_model_module_version": "1.5.0",
            "_model_name": "ColorPickerModel",
            "_view_count": null,
            "_view_module": "@jupyter-widgets/controls",
            "_view_module_version": "1.5.0",
            "_view_name": "ColorPickerView",
            "concise": true,
            "description": "Color",
            "description_tooltip": null,
            "disabled": false,
            "layout": "IPY_MODEL_295e70de6ed14f459f88a04d06213f13",
            "style": "IPY_MODEL_cc062240458b40a788ee4142d3ea336a",
            "value": "#efefef"
          }
        },
        "295e70de6ed14f459f88a04d06213f13": {
          "model_module": "@jupyter-widgets/base",
          "model_name": "LayoutModel",
          "model_module_version": "1.2.0",
          "state": {
            "_model_module": "@jupyter-widgets/base",
            "_model_module_version": "1.2.0",
            "_model_name": "LayoutModel",
            "_view_count": null,
            "_view_module": "@jupyter-widgets/base",
            "_view_module_version": "1.2.0",
            "_view_name": "LayoutView",
            "align_content": null,
            "align_items": null,
            "align_self": null,
            "border": null,
            "bottom": null,
            "display": null,
            "flex": null,
            "flex_flow": null,
            "grid_area": null,
            "grid_auto_columns": null,
            "grid_auto_flow": null,
            "grid_auto_rows": null,
            "grid_column": null,
            "grid_gap": null,
            "grid_row": null,
            "grid_template_areas": null,
            "grid_template_columns": null,
            "grid_template_rows": null,
            "height": null,
            "justify_content": null,
            "justify_items": null,
            "left": null,
            "margin": null,
            "max_height": null,
            "max_width": null,
            "min_height": null,
            "min_width": null,
            "object_fit": null,
            "object_position": null,
            "order": null,
            "overflow": null,
            "overflow_x": null,
            "overflow_y": null,
            "padding": null,
            "right": null,
            "top": null,
            "visibility": null,
            "width": null
          }
        },
        "cc062240458b40a788ee4142d3ea336a": {
          "model_module": "@jupyter-widgets/controls",
          "model_name": "DescriptionStyleModel",
          "model_module_version": "1.5.0",
          "state": {
            "_model_module": "@jupyter-widgets/controls",
            "_model_module_version": "1.5.0",
            "_model_name": "DescriptionStyleModel",
            "_view_count": null,
            "_view_module": "@jupyter-widgets/base",
            "_view_module_version": "1.2.0",
            "_view_name": "StyleView",
            "description_width": ""
          }
        },
        "9871075bfba54fc7881cf34d84fbbbc7": {
          "model_module": "@jupyter-widgets/controls",
          "model_name": "DatePickerModel",
          "model_module_version": "1.5.0",
          "state": {
            "_dom_classes": [],
            "_model_module": "@jupyter-widgets/controls",
            "_model_module_version": "1.5.0",
            "_model_name": "DatePickerModel",
            "_view_count": null,
            "_view_module": "@jupyter-widgets/controls",
            "_view_module_version": "1.5.0",
            "_view_name": "DatePickerView",
            "description": "Pick a date",
            "description_tooltip": null,
            "disabled": false,
            "layout": "IPY_MODEL_3c5e8f057c434e5089fe70abafdead92",
            "style": "IPY_MODEL_94b0e49aaa1b45d880b335c7c2268696",
            "value": null
          }
        },
        "3c5e8f057c434e5089fe70abafdead92": {
          "model_module": "@jupyter-widgets/base",
          "model_name": "LayoutModel",
          "model_module_version": "1.2.0",
          "state": {
            "_model_module": "@jupyter-widgets/base",
            "_model_module_version": "1.2.0",
            "_model_name": "LayoutModel",
            "_view_count": null,
            "_view_module": "@jupyter-widgets/base",
            "_view_module_version": "1.2.0",
            "_view_name": "LayoutView",
            "align_content": null,
            "align_items": null,
            "align_self": null,
            "border": null,
            "bottom": null,
            "display": null,
            "flex": null,
            "flex_flow": null,
            "grid_area": null,
            "grid_auto_columns": null,
            "grid_auto_flow": null,
            "grid_auto_rows": null,
            "grid_column": null,
            "grid_gap": null,
            "grid_row": null,
            "grid_template_areas": null,
            "grid_template_columns": null,
            "grid_template_rows": null,
            "height": null,
            "justify_content": null,
            "justify_items": null,
            "left": null,
            "margin": null,
            "max_height": null,
            "max_width": null,
            "min_height": null,
            "min_width": null,
            "object_fit": null,
            "object_position": null,
            "order": null,
            "overflow": null,
            "overflow_x": null,
            "overflow_y": null,
            "padding": null,
            "right": null,
            "top": null,
            "visibility": null,
            "width": null
          }
        },
        "94b0e49aaa1b45d880b335c7c2268696": {
          "model_module": "@jupyter-widgets/controls",
          "model_name": "DescriptionStyleModel",
          "model_module_version": "1.5.0",
          "state": {
            "_model_module": "@jupyter-widgets/controls",
            "_model_module_version": "1.5.0",
            "_model_name": "DescriptionStyleModel",
            "_view_count": null,
            "_view_module": "@jupyter-widgets/base",
            "_view_module_version": "1.2.0",
            "_view_name": "StyleView",
            "description_width": ""
          }
        },
        "14cede3af4244b519ec8943d52644283": {
          "model_module": "@jupyter-widgets/controls",
          "model_name": "VBoxModel",
          "model_module_version": "1.5.0",
          "state": {
            "_dom_classes": [
              "widget-interact"
            ],
            "_model_module": "@jupyter-widgets/controls",
            "_model_module_version": "1.5.0",
            "_model_name": "VBoxModel",
            "_view_count": null,
            "_view_module": "@jupyter-widgets/controls",
            "_view_module_version": "1.5.0",
            "_view_name": "VBoxView",
            "box_style": "",
            "children": [
              "IPY_MODEL_841c2fa5a5d64ad78e5469fdfea22699",
              "IPY_MODEL_5fa9cb7cbd9141d0aa305596b4247823"
            ],
            "layout": "IPY_MODEL_089ef3b43b8f4c44aa325df9766f3404"
          }
        },
        "841c2fa5a5d64ad78e5469fdfea22699": {
          "model_module": "@jupyter-widgets/controls",
          "model_name": "IntSliderModel",
          "model_module_version": "1.5.0",
          "state": {
            "_dom_classes": [],
            "_model_module": "@jupyter-widgets/controls",
            "_model_module_version": "1.5.0",
            "_model_name": "IntSliderModel",
            "_view_count": null,
            "_view_module": "@jupyter-widgets/controls",
            "_view_module_version": "1.5.0",
            "_view_name": "IntSliderView",
            "continuous_update": true,
            "description": "x",
            "description_tooltip": null,
            "disabled": false,
            "layout": "IPY_MODEL_de6ccca58ab542aa9437c97c1dd7cccf",
            "max": 21,
            "min": -7,
            "orientation": "horizontal",
            "readout": true,
            "readout_format": "d",
            "step": 1,
            "style": "IPY_MODEL_f8b356d1bb2b4941975c0873055202bd",
            "value": 7
          }
        },
        "5fa9cb7cbd9141d0aa305596b4247823": {
          "model_module": "@jupyter-widgets/output",
          "model_name": "OutputModel",
          "model_module_version": "1.0.0",
          "state": {
            "_dom_classes": [],
            "_model_module": "@jupyter-widgets/output",
            "_model_module_version": "1.0.0",
            "_model_name": "OutputModel",
            "_view_count": null,
            "_view_module": "@jupyter-widgets/output",
            "_view_module_version": "1.0.0",
            "_view_name": "OutputView",
            "layout": "IPY_MODEL_59de36734f5b47ab9d1d42943ef25f48",
            "msg_id": "",
            "outputs": [
              {
                "output_type": "display_data",
                "data": {
                  "text/plain": "35"
                },
                "metadata": {}
              }
            ]
          }
        },
        "089ef3b43b8f4c44aa325df9766f3404": {
          "model_module": "@jupyter-widgets/base",
          "model_name": "LayoutModel",
          "model_module_version": "1.2.0",
          "state": {
            "_model_module": "@jupyter-widgets/base",
            "_model_module_version": "1.2.0",
            "_model_name": "LayoutModel",
            "_view_count": null,
            "_view_module": "@jupyter-widgets/base",
            "_view_module_version": "1.2.0",
            "_view_name": "LayoutView",
            "align_content": null,
            "align_items": null,
            "align_self": null,
            "border": null,
            "bottom": null,
            "display": null,
            "flex": null,
            "flex_flow": null,
            "grid_area": null,
            "grid_auto_columns": null,
            "grid_auto_flow": null,
            "grid_auto_rows": null,
            "grid_column": null,
            "grid_gap": null,
            "grid_row": null,
            "grid_template_areas": null,
            "grid_template_columns": null,
            "grid_template_rows": null,
            "height": null,
            "justify_content": null,
            "justify_items": null,
            "left": null,
            "margin": null,
            "max_height": null,
            "max_width": null,
            "min_height": null,
            "min_width": null,
            "object_fit": null,
            "object_position": null,
            "order": null,
            "overflow": null,
            "overflow_x": null,
            "overflow_y": null,
            "padding": null,
            "right": null,
            "top": null,
            "visibility": null,
            "width": null
          }
        },
        "de6ccca58ab542aa9437c97c1dd7cccf": {
          "model_module": "@jupyter-widgets/base",
          "model_name": "LayoutModel",
          "model_module_version": "1.2.0",
          "state": {
            "_model_module": "@jupyter-widgets/base",
            "_model_module_version": "1.2.0",
            "_model_name": "LayoutModel",
            "_view_count": null,
            "_view_module": "@jupyter-widgets/base",
            "_view_module_version": "1.2.0",
            "_view_name": "LayoutView",
            "align_content": null,
            "align_items": null,
            "align_self": null,
            "border": null,
            "bottom": null,
            "display": null,
            "flex": null,
            "flex_flow": null,
            "grid_area": null,
            "grid_auto_columns": null,
            "grid_auto_flow": null,
            "grid_auto_rows": null,
            "grid_column": null,
            "grid_gap": null,
            "grid_row": null,
            "grid_template_areas": null,
            "grid_template_columns": null,
            "grid_template_rows": null,
            "height": null,
            "justify_content": null,
            "justify_items": null,
            "left": null,
            "margin": null,
            "max_height": null,
            "max_width": null,
            "min_height": null,
            "min_width": null,
            "object_fit": null,
            "object_position": null,
            "order": null,
            "overflow": null,
            "overflow_x": null,
            "overflow_y": null,
            "padding": null,
            "right": null,
            "top": null,
            "visibility": null,
            "width": null
          }
        },
        "f8b356d1bb2b4941975c0873055202bd": {
          "model_module": "@jupyter-widgets/controls",
          "model_name": "SliderStyleModel",
          "model_module_version": "1.5.0",
          "state": {
            "_model_module": "@jupyter-widgets/controls",
            "_model_module_version": "1.5.0",
            "_model_name": "SliderStyleModel",
            "_view_count": null,
            "_view_module": "@jupyter-widgets/base",
            "_view_module_version": "1.2.0",
            "_view_name": "StyleView",
            "description_width": "",
            "handle_color": null
          }
        },
        "59de36734f5b47ab9d1d42943ef25f48": {
          "model_module": "@jupyter-widgets/base",
          "model_name": "LayoutModel",
          "model_module_version": "1.2.0",
          "state": {
            "_model_module": "@jupyter-widgets/base",
            "_model_module_version": "1.2.0",
            "_model_name": "LayoutModel",
            "_view_count": null,
            "_view_module": "@jupyter-widgets/base",
            "_view_module_version": "1.2.0",
            "_view_name": "LayoutView",
            "align_content": null,
            "align_items": null,
            "align_self": null,
            "border": null,
            "bottom": null,
            "display": null,
            "flex": null,
            "flex_flow": null,
            "grid_area": null,
            "grid_auto_columns": null,
            "grid_auto_flow": null,
            "grid_auto_rows": null,
            "grid_column": null,
            "grid_gap": null,
            "grid_row": null,
            "grid_template_areas": null,
            "grid_template_columns": null,
            "grid_template_rows": null,
            "height": null,
            "justify_content": null,
            "justify_items": null,
            "left": null,
            "margin": null,
            "max_height": null,
            "max_width": null,
            "min_height": null,
            "min_width": null,
            "object_fit": null,
            "object_position": null,
            "order": null,
            "overflow": null,
            "overflow_x": null,
            "overflow_y": null,
            "padding": null,
            "right": null,
            "top": null,
            "visibility": null,
            "width": null
          }
        },
        "114e470104bb4e6193823e3a2b460b78": {
          "model_module": "@jupyter-widgets/controls",
          "model_name": "VBoxModel",
          "model_module_version": "1.5.0",
          "state": {
            "_dom_classes": [
              "widget-interact"
            ],
            "_model_module": "@jupyter-widgets/controls",
            "_model_module_version": "1.5.0",
            "_model_name": "VBoxModel",
            "_view_count": null,
            "_view_module": "@jupyter-widgets/controls",
            "_view_module_version": "1.5.0",
            "_view_name": "VBoxView",
            "box_style": "",
            "children": [
              "IPY_MODEL_a91abd1df69d4efa90521315ff137426",
              "IPY_MODEL_065d060c612b4e4ebfa8df270a74e57c"
            ],
            "layout": "IPY_MODEL_4fb368a41b114ec582fb9443dedfd455"
          }
        },
        "a91abd1df69d4efa90521315ff137426": {
          "model_module": "@jupyter-widgets/controls",
          "model_name": "TextModel",
          "model_module_version": "1.5.0",
          "state": {
            "_dom_classes": [],
            "_model_module": "@jupyter-widgets/controls",
            "_model_module_version": "1.5.0",
            "_model_name": "TextModel",
            "_view_count": null,
            "_view_module": "@jupyter-widgets/controls",
            "_view_module_version": "1.5.0",
            "_view_name": "TextView",
            "continuous_update": true,
            "description": "x",
            "description_tooltip": null,
            "disabled": false,
            "layout": "IPY_MODEL_6a2d3071a6e94d78bd9e90a25d754add",
            "placeholder": "​",
            "style": "IPY_MODEL_b139d62ccc32496184ff0f679d5f3e63",
            "value": "Hello"
          }
        },
        "065d060c612b4e4ebfa8df270a74e57c": {
          "model_module": "@jupyter-widgets/output",
          "model_name": "OutputModel",
          "model_module_version": "1.0.0",
          "state": {
            "_dom_classes": [],
            "_model_module": "@jupyter-widgets/output",
            "_model_module_version": "1.0.0",
            "_model_name": "OutputModel",
            "_view_count": null,
            "_view_module": "@jupyter-widgets/output",
            "_view_module_version": "1.0.0",
            "_view_name": "OutputView",
            "layout": "IPY_MODEL_126d4cdeb49b4439b94669faa0335a1d",
            "msg_id": "",
            "outputs": [
              {
                "output_type": "display_data",
                "data": {
                  "text/plain": "'HelloHelloHelloHelloHello'",
                  "application/vnd.google.colaboratory.intrinsic+json": {
                    "type": "string"
                  }
                },
                "metadata": {}
              }
            ]
          }
        },
        "4fb368a41b114ec582fb9443dedfd455": {
          "model_module": "@jupyter-widgets/base",
          "model_name": "LayoutModel",
          "model_module_version": "1.2.0",
          "state": {
            "_model_module": "@jupyter-widgets/base",
            "_model_module_version": "1.2.0",
            "_model_name": "LayoutModel",
            "_view_count": null,
            "_view_module": "@jupyter-widgets/base",
            "_view_module_version": "1.2.0",
            "_view_name": "LayoutView",
            "align_content": null,
            "align_items": null,
            "align_self": null,
            "border": null,
            "bottom": null,
            "display": null,
            "flex": null,
            "flex_flow": null,
            "grid_area": null,
            "grid_auto_columns": null,
            "grid_auto_flow": null,
            "grid_auto_rows": null,
            "grid_column": null,
            "grid_gap": null,
            "grid_row": null,
            "grid_template_areas": null,
            "grid_template_columns": null,
            "grid_template_rows": null,
            "height": null,
            "justify_content": null,
            "justify_items": null,
            "left": null,
            "margin": null,
            "max_height": null,
            "max_width": null,
            "min_height": null,
            "min_width": null,
            "object_fit": null,
            "object_position": null,
            "order": null,
            "overflow": null,
            "overflow_x": null,
            "overflow_y": null,
            "padding": null,
            "right": null,
            "top": null,
            "visibility": null,
            "width": null
          }
        },
        "6a2d3071a6e94d78bd9e90a25d754add": {
          "model_module": "@jupyter-widgets/base",
          "model_name": "LayoutModel",
          "model_module_version": "1.2.0",
          "state": {
            "_model_module": "@jupyter-widgets/base",
            "_model_module_version": "1.2.0",
            "_model_name": "LayoutModel",
            "_view_count": null,
            "_view_module": "@jupyter-widgets/base",
            "_view_module_version": "1.2.0",
            "_view_name": "LayoutView",
            "align_content": null,
            "align_items": null,
            "align_self": null,
            "border": null,
            "bottom": null,
            "display": null,
            "flex": null,
            "flex_flow": null,
            "grid_area": null,
            "grid_auto_columns": null,
            "grid_auto_flow": null,
            "grid_auto_rows": null,
            "grid_column": null,
            "grid_gap": null,
            "grid_row": null,
            "grid_template_areas": null,
            "grid_template_columns": null,
            "grid_template_rows": null,
            "height": null,
            "justify_content": null,
            "justify_items": null,
            "left": null,
            "margin": null,
            "max_height": null,
            "max_width": null,
            "min_height": null,
            "min_width": null,
            "object_fit": null,
            "object_position": null,
            "order": null,
            "overflow": null,
            "overflow_x": null,
            "overflow_y": null,
            "padding": null,
            "right": null,
            "top": null,
            "visibility": null,
            "width": null
          }
        },
        "b139d62ccc32496184ff0f679d5f3e63": {
          "model_module": "@jupyter-widgets/controls",
          "model_name": "DescriptionStyleModel",
          "model_module_version": "1.5.0",
          "state": {
            "_model_module": "@jupyter-widgets/controls",
            "_model_module_version": "1.5.0",
            "_model_name": "DescriptionStyleModel",
            "_view_count": null,
            "_view_module": "@jupyter-widgets/base",
            "_view_module_version": "1.2.0",
            "_view_name": "StyleView",
            "description_width": ""
          }
        },
        "126d4cdeb49b4439b94669faa0335a1d": {
          "model_module": "@jupyter-widgets/base",
          "model_name": "LayoutModel",
          "model_module_version": "1.2.0",
          "state": {
            "_model_module": "@jupyter-widgets/base",
            "_model_module_version": "1.2.0",
            "_model_name": "LayoutModel",
            "_view_count": null,
            "_view_module": "@jupyter-widgets/base",
            "_view_module_version": "1.2.0",
            "_view_name": "LayoutView",
            "align_content": null,
            "align_items": null,
            "align_self": null,
            "border": null,
            "bottom": null,
            "display": null,
            "flex": null,
            "flex_flow": null,
            "grid_area": null,
            "grid_auto_columns": null,
            "grid_auto_flow": null,
            "grid_auto_rows": null,
            "grid_column": null,
            "grid_gap": null,
            "grid_row": null,
            "grid_template_areas": null,
            "grid_template_columns": null,
            "grid_template_rows": null,
            "height": null,
            "justify_content": null,
            "justify_items": null,
            "left": null,
            "margin": null,
            "max_height": null,
            "max_width": null,
            "min_height": null,
            "min_width": null,
            "object_fit": null,
            "object_position": null,
            "order": null,
            "overflow": null,
            "overflow_x": null,
            "overflow_y": null,
            "padding": null,
            "right": null,
            "top": null,
            "visibility": null,
            "width": null
          }
        },
        "cfecc44bbff44764b708fef9388e4f53": {
          "model_module": "@jupyter-widgets/controls",
          "model_name": "VBoxModel",
          "model_module_version": "1.5.0",
          "state": {
            "_dom_classes": [
              "widget-interact"
            ],
            "_model_module": "@jupyter-widgets/controls",
            "_model_module_version": "1.5.0",
            "_model_name": "VBoxModel",
            "_view_count": null,
            "_view_module": "@jupyter-widgets/controls",
            "_view_module_version": "1.5.0",
            "_view_name": "VBoxView",
            "box_style": "",
            "children": [
              "IPY_MODEL_565cea229ca74ca289ee086038299edb",
              "IPY_MODEL_fad706fca98a4fb4ad39a3380585d7ba"
            ],
            "layout": "IPY_MODEL_2cfd05b3e7bb4da18a0e9c920fa0f319"
          }
        },
        "565cea229ca74ca289ee086038299edb": {
          "model_module": "@jupyter-widgets/controls",
          "model_name": "DropdownModel",
          "model_module_version": "1.5.0",
          "state": {
            "_dom_classes": [],
            "_model_module": "@jupyter-widgets/controls",
            "_model_module_version": "1.5.0",
            "_model_name": "DropdownModel",
            "_options_labels": [
              "Good",
              "Bad"
            ],
            "_view_count": null,
            "_view_module": "@jupyter-widgets/controls",
            "_view_module_version": "1.5.0",
            "_view_name": "DropdownView",
            "description": "x",
            "description_tooltip": null,
            "disabled": false,
            "index": 0,
            "layout": "IPY_MODEL_d2ee38927b854d4cbd2aaa519627e12d",
            "style": "IPY_MODEL_e28b21a6a8fc4a19a23d24aad76ac333"
          }
        },
        "fad706fca98a4fb4ad39a3380585d7ba": {
          "model_module": "@jupyter-widgets/output",
          "model_name": "OutputModel",
          "model_module_version": "1.0.0",
          "state": {
            "_dom_classes": [],
            "_model_module": "@jupyter-widgets/output",
            "_model_module_version": "1.0.0",
            "_model_name": "OutputModel",
            "_view_count": null,
            "_view_module": "@jupyter-widgets/output",
            "_view_module_version": "1.0.0",
            "_view_name": "OutputView",
            "layout": "IPY_MODEL_e7251ed9333c4c5f9dd43a27d631e9b9",
            "msg_id": "",
            "outputs": [
              {
                "output_type": "display_data",
                "data": {
                  "text/plain": "'GoodGoodGoodGoodGood'",
                  "application/vnd.google.colaboratory.intrinsic+json": {
                    "type": "string"
                  }
                },
                "metadata": {}
              }
            ]
          }
        },
        "2cfd05b3e7bb4da18a0e9c920fa0f319": {
          "model_module": "@jupyter-widgets/base",
          "model_name": "LayoutModel",
          "model_module_version": "1.2.0",
          "state": {
            "_model_module": "@jupyter-widgets/base",
            "_model_module_version": "1.2.0",
            "_model_name": "LayoutModel",
            "_view_count": null,
            "_view_module": "@jupyter-widgets/base",
            "_view_module_version": "1.2.0",
            "_view_name": "LayoutView",
            "align_content": null,
            "align_items": null,
            "align_self": null,
            "border": null,
            "bottom": null,
            "display": null,
            "flex": null,
            "flex_flow": null,
            "grid_area": null,
            "grid_auto_columns": null,
            "grid_auto_flow": null,
            "grid_auto_rows": null,
            "grid_column": null,
            "grid_gap": null,
            "grid_row": null,
            "grid_template_areas": null,
            "grid_template_columns": null,
            "grid_template_rows": null,
            "height": null,
            "justify_content": null,
            "justify_items": null,
            "left": null,
            "margin": null,
            "max_height": null,
            "max_width": null,
            "min_height": null,
            "min_width": null,
            "object_fit": null,
            "object_position": null,
            "order": null,
            "overflow": null,
            "overflow_x": null,
            "overflow_y": null,
            "padding": null,
            "right": null,
            "top": null,
            "visibility": null,
            "width": null
          }
        },
        "d2ee38927b854d4cbd2aaa519627e12d": {
          "model_module": "@jupyter-widgets/base",
          "model_name": "LayoutModel",
          "model_module_version": "1.2.0",
          "state": {
            "_model_module": "@jupyter-widgets/base",
            "_model_module_version": "1.2.0",
            "_model_name": "LayoutModel",
            "_view_count": null,
            "_view_module": "@jupyter-widgets/base",
            "_view_module_version": "1.2.0",
            "_view_name": "LayoutView",
            "align_content": null,
            "align_items": null,
            "align_self": null,
            "border": null,
            "bottom": null,
            "display": null,
            "flex": null,
            "flex_flow": null,
            "grid_area": null,
            "grid_auto_columns": null,
            "grid_auto_flow": null,
            "grid_auto_rows": null,
            "grid_column": null,
            "grid_gap": null,
            "grid_row": null,
            "grid_template_areas": null,
            "grid_template_columns": null,
            "grid_template_rows": null,
            "height": null,
            "justify_content": null,
            "justify_items": null,
            "left": null,
            "margin": null,
            "max_height": null,
            "max_width": null,
            "min_height": null,
            "min_width": null,
            "object_fit": null,
            "object_position": null,
            "order": null,
            "overflow": null,
            "overflow_x": null,
            "overflow_y": null,
            "padding": null,
            "right": null,
            "top": null,
            "visibility": null,
            "width": null
          }
        },
        "e28b21a6a8fc4a19a23d24aad76ac333": {
          "model_module": "@jupyter-widgets/controls",
          "model_name": "DescriptionStyleModel",
          "model_module_version": "1.5.0",
          "state": {
            "_model_module": "@jupyter-widgets/controls",
            "_model_module_version": "1.5.0",
            "_model_name": "DescriptionStyleModel",
            "_view_count": null,
            "_view_module": "@jupyter-widgets/base",
            "_view_module_version": "1.2.0",
            "_view_name": "StyleView",
            "description_width": ""
          }
        },
        "e7251ed9333c4c5f9dd43a27d631e9b9": {
          "model_module": "@jupyter-widgets/base",
          "model_name": "LayoutModel",
          "model_module_version": "1.2.0",
          "state": {
            "_model_module": "@jupyter-widgets/base",
            "_model_module_version": "1.2.0",
            "_model_name": "LayoutModel",
            "_view_count": null,
            "_view_module": "@jupyter-widgets/base",
            "_view_module_version": "1.2.0",
            "_view_name": "LayoutView",
            "align_content": null,
            "align_items": null,
            "align_self": null,
            "border": null,
            "bottom": null,
            "display": null,
            "flex": null,
            "flex_flow": null,
            "grid_area": null,
            "grid_auto_columns": null,
            "grid_auto_flow": null,
            "grid_auto_rows": null,
            "grid_column": null,
            "grid_gap": null,
            "grid_row": null,
            "grid_template_areas": null,
            "grid_template_columns": null,
            "grid_template_rows": null,
            "height": null,
            "justify_content": null,
            "justify_items": null,
            "left": null,
            "margin": null,
            "max_height": null,
            "max_width": null,
            "min_height": null,
            "min_width": null,
            "object_fit": null,
            "object_position": null,
            "order": null,
            "overflow": null,
            "overflow_x": null,
            "overflow_y": null,
            "padding": null,
            "right": null,
            "top": null,
            "visibility": null,
            "width": null
          }
        },
        "8886c466fb0646dbb834c7ba8621fb9a": {
          "model_module": "@jupyter-widgets/controls",
          "model_name": "VBoxModel",
          "model_module_version": "1.5.0",
          "state": {
            "_dom_classes": [
              "widget-interact"
            ],
            "_model_module": "@jupyter-widgets/controls",
            "_model_module_version": "1.5.0",
            "_model_name": "VBoxModel",
            "_view_count": null,
            "_view_module": "@jupyter-widgets/controls",
            "_view_module_version": "1.5.0",
            "_view_name": "VBoxView",
            "box_style": "",
            "children": [
              "IPY_MODEL_4c50509be8b94d958d1156f68600f50a",
              "IPY_MODEL_701beffb6660472eb000a1bf64f8b2af"
            ],
            "layout": "IPY_MODEL_a06988c1170c4bcd8760d7198efddb4b"
          }
        },
        "4c50509be8b94d958d1156f68600f50a": {
          "model_module": "@jupyter-widgets/controls",
          "model_name": "DropdownModel",
          "model_module_version": "1.5.0",
          "state": {
            "_dom_classes": [],
            "_model_module": "@jupyter-widgets/controls",
            "_model_module_version": "1.5.0",
            "_model_name": "DropdownModel",
            "_options_labels": [
              "first",
              "second"
            ],
            "_view_count": null,
            "_view_module": "@jupyter-widgets/controls",
            "_view_module_version": "1.5.0",
            "_view_name": "DropdownView",
            "description": "x",
            "description_tooltip": null,
            "disabled": false,
            "index": 0,
            "layout": "IPY_MODEL_adf5cfc29a1b4606b25d99b8625c885b",
            "style": "IPY_MODEL_582420968e304adb9d740fe0a5e8001a"
          }
        },
        "701beffb6660472eb000a1bf64f8b2af": {
          "model_module": "@jupyter-widgets/output",
          "model_name": "OutputModel",
          "model_module_version": "1.0.0",
          "state": {
            "_dom_classes": [],
            "_model_module": "@jupyter-widgets/output",
            "_model_module_version": "1.0.0",
            "_model_name": "OutputModel",
            "_view_count": null,
            "_view_module": "@jupyter-widgets/output",
            "_view_module_version": "1.0.0",
            "_view_name": "OutputView",
            "layout": "IPY_MODEL_e18e8f3e1ca04aee85f4cd28c2166c14",
            "msg_id": "",
            "outputs": [
              {
                "output_type": "display_data",
                "data": {
                  "text/plain": "500"
                },
                "metadata": {}
              }
            ]
          }
        },
        "a06988c1170c4bcd8760d7198efddb4b": {
          "model_module": "@jupyter-widgets/base",
          "model_name": "LayoutModel",
          "model_module_version": "1.2.0",
          "state": {
            "_model_module": "@jupyter-widgets/base",
            "_model_module_version": "1.2.0",
            "_model_name": "LayoutModel",
            "_view_count": null,
            "_view_module": "@jupyter-widgets/base",
            "_view_module_version": "1.2.0",
            "_view_name": "LayoutView",
            "align_content": null,
            "align_items": null,
            "align_self": null,
            "border": null,
            "bottom": null,
            "display": null,
            "flex": null,
            "flex_flow": null,
            "grid_area": null,
            "grid_auto_columns": null,
            "grid_auto_flow": null,
            "grid_auto_rows": null,
            "grid_column": null,
            "grid_gap": null,
            "grid_row": null,
            "grid_template_areas": null,
            "grid_template_columns": null,
            "grid_template_rows": null,
            "height": null,
            "justify_content": null,
            "justify_items": null,
            "left": null,
            "margin": null,
            "max_height": null,
            "max_width": null,
            "min_height": null,
            "min_width": null,
            "object_fit": null,
            "object_position": null,
            "order": null,
            "overflow": null,
            "overflow_x": null,
            "overflow_y": null,
            "padding": null,
            "right": null,
            "top": null,
            "visibility": null,
            "width": null
          }
        },
        "adf5cfc29a1b4606b25d99b8625c885b": {
          "model_module": "@jupyter-widgets/base",
          "model_name": "LayoutModel",
          "model_module_version": "1.2.0",
          "state": {
            "_model_module": "@jupyter-widgets/base",
            "_model_module_version": "1.2.0",
            "_model_name": "LayoutModel",
            "_view_count": null,
            "_view_module": "@jupyter-widgets/base",
            "_view_module_version": "1.2.0",
            "_view_name": "LayoutView",
            "align_content": null,
            "align_items": null,
            "align_self": null,
            "border": null,
            "bottom": null,
            "display": null,
            "flex": null,
            "flex_flow": null,
            "grid_area": null,
            "grid_auto_columns": null,
            "grid_auto_flow": null,
            "grid_auto_rows": null,
            "grid_column": null,
            "grid_gap": null,
            "grid_row": null,
            "grid_template_areas": null,
            "grid_template_columns": null,
            "grid_template_rows": null,
            "height": null,
            "justify_content": null,
            "justify_items": null,
            "left": null,
            "margin": null,
            "max_height": null,
            "max_width": null,
            "min_height": null,
            "min_width": null,
            "object_fit": null,
            "object_position": null,
            "order": null,
            "overflow": null,
            "overflow_x": null,
            "overflow_y": null,
            "padding": null,
            "right": null,
            "top": null,
            "visibility": null,
            "width": null
          }
        },
        "582420968e304adb9d740fe0a5e8001a": {
          "model_module": "@jupyter-widgets/controls",
          "model_name": "DescriptionStyleModel",
          "model_module_version": "1.5.0",
          "state": {
            "_model_module": "@jupyter-widgets/controls",
            "_model_module_version": "1.5.0",
            "_model_name": "DescriptionStyleModel",
            "_view_count": null,
            "_view_module": "@jupyter-widgets/base",
            "_view_module_version": "1.2.0",
            "_view_name": "StyleView",
            "description_width": ""
          }
        },
        "e18e8f3e1ca04aee85f4cd28c2166c14": {
          "model_module": "@jupyter-widgets/base",
          "model_name": "LayoutModel",
          "model_module_version": "1.2.0",
          "state": {
            "_model_module": "@jupyter-widgets/base",
            "_model_module_version": "1.2.0",
            "_model_name": "LayoutModel",
            "_view_count": null,
            "_view_module": "@jupyter-widgets/base",
            "_view_module_version": "1.2.0",
            "_view_name": "LayoutView",
            "align_content": null,
            "align_items": null,
            "align_self": null,
            "border": null,
            "bottom": null,
            "display": null,
            "flex": null,
            "flex_flow": null,
            "grid_area": null,
            "grid_auto_columns": null,
            "grid_auto_flow": null,
            "grid_auto_rows": null,
            "grid_column": null,
            "grid_gap": null,
            "grid_row": null,
            "grid_template_areas": null,
            "grid_template_columns": null,
            "grid_template_rows": null,
            "height": null,
            "justify_content": null,
            "justify_items": null,
            "left": null,
            "margin": null,
            "max_height": null,
            "max_width": null,
            "min_height": null,
            "min_width": null,
            "object_fit": null,
            "object_position": null,
            "order": null,
            "overflow": null,
            "overflow_x": null,
            "overflow_y": null,
            "padding": null,
            "right": null,
            "top": null,
            "visibility": null,
            "width": null
          }
        },
        "36ff4f0b13524b8a8335d7ef37d36559": {
          "model_module": "@jupyter-widgets/controls",
          "model_name": "VBoxModel",
          "model_module_version": "1.5.0",
          "state": {
            "_dom_classes": [
              "widget-interact"
            ],
            "_model_module": "@jupyter-widgets/controls",
            "_model_module_version": "1.5.0",
            "_model_name": "VBoxModel",
            "_view_count": null,
            "_view_module": "@jupyter-widgets/controls",
            "_view_module_version": "1.5.0",
            "_view_name": "VBoxView",
            "box_style": "",
            "children": [
              "IPY_MODEL_ce6e12753fa948e28017f818505c31cb",
              "IPY_MODEL_4dbedd1ba62141dc9de6c92e85314607",
              "IPY_MODEL_76281ef024d74e0bad9c4ebac1f114b5",
              "IPY_MODEL_34bf17d14e5d4a2ab888f7f2f9ebe3f7"
            ],
            "layout": "IPY_MODEL_d65ffa5ddafe422cac0b50360114dc24"
          }
        },
        "ce6e12753fa948e28017f818505c31cb": {
          "model_module": "@jupyter-widgets/controls",
          "model_name": "IntSliderModel",
          "model_module_version": "1.5.0",
          "state": {
            "_dom_classes": [],
            "_model_module": "@jupyter-widgets/controls",
            "_model_module_version": "1.5.0",
            "_model_name": "IntSliderModel",
            "_view_count": null,
            "_view_module": "@jupyter-widgets/controls",
            "_view_module_version": "1.5.0",
            "_view_name": "IntSliderView",
            "continuous_update": true,
            "description": "a",
            "description_tooltip": null,
            "disabled": false,
            "layout": "IPY_MODEL_93dcb4479af249638b414d37595979f8",
            "max": 50,
            "min": 10,
            "orientation": "horizontal",
            "readout": true,
            "readout_format": "d",
            "step": 2,
            "style": "IPY_MODEL_2794ce966a0843c0b4535557410c60b1",
            "value": 25
          }
        },
        "4dbedd1ba62141dc9de6c92e85314607": {
          "model_module": "@jupyter-widgets/controls",
          "model_name": "IntSliderModel",
          "model_module_version": "1.5.0",
          "state": {
            "_dom_classes": [],
            "_model_module": "@jupyter-widgets/controls",
            "_model_module_version": "1.5.0",
            "_model_name": "IntSliderModel",
            "_view_count": null,
            "_view_module": "@jupyter-widgets/controls",
            "_view_module_version": "1.5.0",
            "_view_name": "IntSliderView",
            "continuous_update": true,
            "description": "b",
            "description_tooltip": null,
            "disabled": false,
            "layout": "IPY_MODEL_3f8877b4b4854c8cac9246ad7851f7ef",
            "max": 50,
            "min": 10,
            "orientation": "horizontal",
            "readout": true,
            "readout_format": "d",
            "step": 2,
            "style": "IPY_MODEL_c33aba9bdffe4bdb9ab760a84a7d6851",
            "value": 15
          }
        },
        "76281ef024d74e0bad9c4ebac1f114b5": {
          "model_module": "@jupyter-widgets/controls",
          "model_name": "IntSliderModel",
          "model_module_version": "1.5.0",
          "state": {
            "_dom_classes": [],
            "_model_module": "@jupyter-widgets/controls",
            "_model_module_version": "1.5.0",
            "_model_name": "IntSliderModel",
            "_view_count": null,
            "_view_module": "@jupyter-widgets/controls",
            "_view_module_version": "1.5.0",
            "_view_name": "IntSliderView",
            "continuous_update": true,
            "description": "c",
            "description_tooltip": null,
            "disabled": false,
            "layout": "IPY_MODEL_0af90a01727c4b1fac81f0968bf967d2",
            "max": 50,
            "min": 10,
            "orientation": "horizontal",
            "readout": true,
            "readout_format": "d",
            "step": 2,
            "style": "IPY_MODEL_bcdd79f26d5c4f4db87cc7b381678a10",
            "value": 40
          }
        },
        "34bf17d14e5d4a2ab888f7f2f9ebe3f7": {
          "model_module": "@jupyter-widgets/output",
          "model_name": "OutputModel",
          "model_module_version": "1.0.0",
          "state": {
            "_dom_classes": [],
            "_model_module": "@jupyter-widgets/output",
            "_model_module_version": "1.0.0",
            "_model_name": "OutputModel",
            "_view_count": null,
            "_view_module": "@jupyter-widgets/output",
            "_view_module_version": "1.0.0",
            "_view_name": "OutputView",
            "layout": "IPY_MODEL_cfdaade422284fc5a4ce6fd3732e4f36",
            "msg_id": "",
            "outputs": [
              {
                "output_type": "display_data",
                "data": {
                  "text/plain": "1600"
                },
                "metadata": {}
              }
            ]
          }
        },
        "d65ffa5ddafe422cac0b50360114dc24": {
          "model_module": "@jupyter-widgets/base",
          "model_name": "LayoutModel",
          "model_module_version": "1.2.0",
          "state": {
            "_model_module": "@jupyter-widgets/base",
            "_model_module_version": "1.2.0",
            "_model_name": "LayoutModel",
            "_view_count": null,
            "_view_module": "@jupyter-widgets/base",
            "_view_module_version": "1.2.0",
            "_view_name": "LayoutView",
            "align_content": null,
            "align_items": null,
            "align_self": null,
            "border": null,
            "bottom": null,
            "display": null,
            "flex": null,
            "flex_flow": null,
            "grid_area": null,
            "grid_auto_columns": null,
            "grid_auto_flow": null,
            "grid_auto_rows": null,
            "grid_column": null,
            "grid_gap": null,
            "grid_row": null,
            "grid_template_areas": null,
            "grid_template_columns": null,
            "grid_template_rows": null,
            "height": null,
            "justify_content": null,
            "justify_items": null,
            "left": null,
            "margin": null,
            "max_height": null,
            "max_width": null,
            "min_height": null,
            "min_width": null,
            "object_fit": null,
            "object_position": null,
            "order": null,
            "overflow": null,
            "overflow_x": null,
            "overflow_y": null,
            "padding": null,
            "right": null,
            "top": null,
            "visibility": null,
            "width": null
          }
        },
        "93dcb4479af249638b414d37595979f8": {
          "model_module": "@jupyter-widgets/base",
          "model_name": "LayoutModel",
          "model_module_version": "1.2.0",
          "state": {
            "_model_module": "@jupyter-widgets/base",
            "_model_module_version": "1.2.0",
            "_model_name": "LayoutModel",
            "_view_count": null,
            "_view_module": "@jupyter-widgets/base",
            "_view_module_version": "1.2.0",
            "_view_name": "LayoutView",
            "align_content": null,
            "align_items": null,
            "align_self": null,
            "border": null,
            "bottom": null,
            "display": null,
            "flex": null,
            "flex_flow": null,
            "grid_area": null,
            "grid_auto_columns": null,
            "grid_auto_flow": null,
            "grid_auto_rows": null,
            "grid_column": null,
            "grid_gap": null,
            "grid_row": null,
            "grid_template_areas": null,
            "grid_template_columns": null,
            "grid_template_rows": null,
            "height": null,
            "justify_content": null,
            "justify_items": null,
            "left": null,
            "margin": null,
            "max_height": null,
            "max_width": null,
            "min_height": null,
            "min_width": null,
            "object_fit": null,
            "object_position": null,
            "order": null,
            "overflow": null,
            "overflow_x": null,
            "overflow_y": null,
            "padding": null,
            "right": null,
            "top": null,
            "visibility": null,
            "width": null
          }
        },
        "2794ce966a0843c0b4535557410c60b1": {
          "model_module": "@jupyter-widgets/controls",
          "model_name": "SliderStyleModel",
          "model_module_version": "1.5.0",
          "state": {
            "_model_module": "@jupyter-widgets/controls",
            "_model_module_version": "1.5.0",
            "_model_name": "SliderStyleModel",
            "_view_count": null,
            "_view_module": "@jupyter-widgets/base",
            "_view_module_version": "1.2.0",
            "_view_name": "StyleView",
            "description_width": "",
            "handle_color": null
          }
        },
        "3f8877b4b4854c8cac9246ad7851f7ef": {
          "model_module": "@jupyter-widgets/base",
          "model_name": "LayoutModel",
          "model_module_version": "1.2.0",
          "state": {
            "_model_module": "@jupyter-widgets/base",
            "_model_module_version": "1.2.0",
            "_model_name": "LayoutModel",
            "_view_count": null,
            "_view_module": "@jupyter-widgets/base",
            "_view_module_version": "1.2.0",
            "_view_name": "LayoutView",
            "align_content": null,
            "align_items": null,
            "align_self": null,
            "border": null,
            "bottom": null,
            "display": null,
            "flex": null,
            "flex_flow": null,
            "grid_area": null,
            "grid_auto_columns": null,
            "grid_auto_flow": null,
            "grid_auto_rows": null,
            "grid_column": null,
            "grid_gap": null,
            "grid_row": null,
            "grid_template_areas": null,
            "grid_template_columns": null,
            "grid_template_rows": null,
            "height": null,
            "justify_content": null,
            "justify_items": null,
            "left": null,
            "margin": null,
            "max_height": null,
            "max_width": null,
            "min_height": null,
            "min_width": null,
            "object_fit": null,
            "object_position": null,
            "order": null,
            "overflow": null,
            "overflow_x": null,
            "overflow_y": null,
            "padding": null,
            "right": null,
            "top": null,
            "visibility": null,
            "width": null
          }
        },
        "c33aba9bdffe4bdb9ab760a84a7d6851": {
          "model_module": "@jupyter-widgets/controls",
          "model_name": "SliderStyleModel",
          "model_module_version": "1.5.0",
          "state": {
            "_model_module": "@jupyter-widgets/controls",
            "_model_module_version": "1.5.0",
            "_model_name": "SliderStyleModel",
            "_view_count": null,
            "_view_module": "@jupyter-widgets/base",
            "_view_module_version": "1.2.0",
            "_view_name": "StyleView",
            "description_width": "",
            "handle_color": null
          }
        },
        "0af90a01727c4b1fac81f0968bf967d2": {
          "model_module": "@jupyter-widgets/base",
          "model_name": "LayoutModel",
          "model_module_version": "1.2.0",
          "state": {
            "_model_module": "@jupyter-widgets/base",
            "_model_module_version": "1.2.0",
            "_model_name": "LayoutModel",
            "_view_count": null,
            "_view_module": "@jupyter-widgets/base",
            "_view_module_version": "1.2.0",
            "_view_name": "LayoutView",
            "align_content": null,
            "align_items": null,
            "align_self": null,
            "border": null,
            "bottom": null,
            "display": null,
            "flex": null,
            "flex_flow": null,
            "grid_area": null,
            "grid_auto_columns": null,
            "grid_auto_flow": null,
            "grid_auto_rows": null,
            "grid_column": null,
            "grid_gap": null,
            "grid_row": null,
            "grid_template_areas": null,
            "grid_template_columns": null,
            "grid_template_rows": null,
            "height": null,
            "justify_content": null,
            "justify_items": null,
            "left": null,
            "margin": null,
            "max_height": null,
            "max_width": null,
            "min_height": null,
            "min_width": null,
            "object_fit": null,
            "object_position": null,
            "order": null,
            "overflow": null,
            "overflow_x": null,
            "overflow_y": null,
            "padding": null,
            "right": null,
            "top": null,
            "visibility": null,
            "width": null
          }
        },
        "bcdd79f26d5c4f4db87cc7b381678a10": {
          "model_module": "@jupyter-widgets/controls",
          "model_name": "SliderStyleModel",
          "model_module_version": "1.5.0",
          "state": {
            "_model_module": "@jupyter-widgets/controls",
            "_model_module_version": "1.5.0",
            "_model_name": "SliderStyleModel",
            "_view_count": null,
            "_view_module": "@jupyter-widgets/base",
            "_view_module_version": "1.2.0",
            "_view_name": "StyleView",
            "description_width": "",
            "handle_color": null
          }
        },
        "cfdaade422284fc5a4ce6fd3732e4f36": {
          "model_module": "@jupyter-widgets/base",
          "model_name": "LayoutModel",
          "model_module_version": "1.2.0",
          "state": {
            "_model_module": "@jupyter-widgets/base",
            "_model_module_version": "1.2.0",
            "_model_name": "LayoutModel",
            "_view_count": null,
            "_view_module": "@jupyter-widgets/base",
            "_view_module_version": "1.2.0",
            "_view_name": "LayoutView",
            "align_content": null,
            "align_items": null,
            "align_self": null,
            "border": null,
            "bottom": null,
            "display": null,
            "flex": null,
            "flex_flow": null,
            "grid_area": null,
            "grid_auto_columns": null,
            "grid_auto_flow": null,
            "grid_auto_rows": null,
            "grid_column": null,
            "grid_gap": null,
            "grid_row": null,
            "grid_template_areas": null,
            "grid_template_columns": null,
            "grid_template_rows": null,
            "height": null,
            "justify_content": null,
            "justify_items": null,
            "left": null,
            "margin": null,
            "max_height": null,
            "max_width": null,
            "min_height": null,
            "min_width": null,
            "object_fit": null,
            "object_position": null,
            "order": null,
            "overflow": null,
            "overflow_x": null,
            "overflow_y": null,
            "padding": null,
            "right": null,
            "top": null,
            "visibility": null,
            "width": null
          }
        },
        "1eff95694b4242ea80349e0ad202e911": {
          "model_module": "@jupyter-widgets/controls",
          "model_name": "VBoxModel",
          "model_module_version": "1.5.0",
          "state": {
            "_dom_classes": [
              "widget-interact"
            ],
            "_model_module": "@jupyter-widgets/controls",
            "_model_module_version": "1.5.0",
            "_model_name": "VBoxModel",
            "_view_count": null,
            "_view_module": "@jupyter-widgets/controls",
            "_view_module_version": "1.5.0",
            "_view_name": "VBoxView",
            "box_style": "",
            "children": [
              "IPY_MODEL_082defd1e9bc4e14b0fed8da32b5a733",
              "IPY_MODEL_e5d7b2d355b64551aedf8edcba0dd31c",
              "IPY_MODEL_af86671e713a42a1805b0d0bdb14db98"
            ],
            "layout": "IPY_MODEL_7b204bd132af40adba57cd1ccc59554e"
          }
        },
        "082defd1e9bc4e14b0fed8da32b5a733": {
          "model_module": "@jupyter-widgets/controls",
          "model_name": "DropdownModel",
          "model_module_version": "1.5.0",
          "state": {
            "_dom_classes": [],
            "_model_module": "@jupyter-widgets/controls",
            "_model_module_version": "1.5.0",
            "_model_name": "DropdownModel",
            "_options_labels": [
              "5",
              "-5",
              "2.5"
            ],
            "_view_count": null,
            "_view_module": "@jupyter-widgets/controls",
            "_view_module_version": "1.5.0",
            "_view_name": "DropdownView",
            "description": "a",
            "description_tooltip": null,
            "disabled": false,
            "index": 0,
            "layout": "IPY_MODEL_c315d9062e664a14a2a20c870c95ebb2",
            "style": "IPY_MODEL_8766ad05a48a43d580b3bf504341a88c"
          }
        },
        "e5d7b2d355b64551aedf8edcba0dd31c": {
          "model_module": "@jupyter-widgets/controls",
          "model_name": "DropdownModel",
          "model_module_version": "1.5.0",
          "state": {
            "_dom_classes": [],
            "_model_module": "@jupyter-widgets/controls",
            "_model_module_version": "1.5.0",
            "_model_name": "DropdownModel",
            "_options_labels": [
              "10",
              "-10",
              "0.5"
            ],
            "_view_count": null,
            "_view_module": "@jupyter-widgets/controls",
            "_view_module_version": "1.5.0",
            "_view_name": "DropdownView",
            "description": "b",
            "description_tooltip": null,
            "disabled": false,
            "index": 0,
            "layout": "IPY_MODEL_1bba42a12ae34a009f9f523ab35ffff9",
            "style": "IPY_MODEL_74bdf309fcb94c65922b912455cc2578"
          }
        },
        "af86671e713a42a1805b0d0bdb14db98": {
          "model_module": "@jupyter-widgets/output",
          "model_name": "OutputModel",
          "model_module_version": "1.0.0",
          "state": {
            "_dom_classes": [],
            "_model_module": "@jupyter-widgets/output",
            "_model_module_version": "1.0.0",
            "_model_name": "OutputModel",
            "_view_count": null,
            "_view_module": "@jupyter-widgets/output",
            "_view_module_version": "1.0.0",
            "_view_name": "OutputView",
            "layout": "IPY_MODEL_37ab311297534925901238c56f7d73ce",
            "msg_id": "",
            "outputs": [
              {
                "output_type": "display_data",
                "data": {
                  "text/plain": "<Figure size 640x480 with 1 Axes>",
                  "image/png": "iVBORw0KGgoAAAANSUhEUgAAAiwAAAGdCAYAAAAxCSikAAAAOXRFWHRTb2Z0d2FyZQBNYXRwbG90bGliIHZlcnNpb24zLjcuMSwgaHR0cHM6Ly9tYXRwbG90bGliLm9yZy/bCgiHAAAACXBIWXMAAA9hAAAPYQGoP6dpAAA+/UlEQVR4nO3deVyVdf7+8evImiYoaCyK4JKapmiaqGlKkqaOqS2mOeg4LdNMtgxZaZlbKda02IyUU2PZt5psU8dJs5I0NbdcKJc0QRQ3UDRBMBHh/v0xv07dAcqBc7jPObyej8f5436fxesTjuea+3Nzjs0wDEMAAABurI7VAQAAAC6FwgIAANwehQUAALg9CgsAAHB7FBYAAOD2KCwAAMDtUVgAAIDbo7AAAAC352t1AGcpLS3V0aNHVb9+fdlsNqvjAACASjAMQ2fOnFFkZKTq1Kn4PIrXFJajR48qKirK6hgAAKAKDh06pKZNm1Z4v9cUlvr160v634KDgoIsTgMAACojPz9fUVFR9vfxinhNYfl5GygoKIjCAgCAh7nU5RxcdAsAANwehQUAALg9CgsAAHB7FBYAAOD2KCwAAMDtUVgAAIDbo7AAAAC3R2EBAABuj8ICAADcnsOFZc2aNRoyZIgiIyNls9m0ZMmSCh973333yWazac6cORd9zWnTpslms5lubdu2dTQaAADwUg4XlsLCQsXGxiolJeWij1u8eLE2btyoyMjISr1u+/btdezYMftt3bp1jkYDAABeyuHvEho4cKAGDhx40cccOXJEDzzwgD777DMNHjy4ckF8fRUeHu5oHAAAUAs4/RqW0tJSJSYm6tFHH1X79u0r/bx9+/YpMjJSLVq00OjRo5WVleXsaAAAwEGGYejtDQf0xOIdluZw+rc1P/vss/L19dWDDz5Y6efExcVpwYIFatOmjY4dO6bp06erd+/e2rlzZ4VfN11UVKSioiL7cX5+frWzAwCAX+SfK9bEj7/T8h3ZkqSBV4er95WNLcni1MKydetWvfzyy9q2bdslvyb61369xdSxY0fFxcUpOjpaH3zwge66665yn5OcnKzp06dXOzMAACjru8Ondf+/t+nQqZ/k52PT4ze1Va9WjSzL49QtobVr1+r48eNq1qyZfH195evrq4MHD+qRRx5RTExMpV+nQYMGat26tdLT0yt8zKRJk5SXl2e/HTp0yAkrAACgdjMMQ2+sy9Str67XoVM/qWnDy/ThfT11d+8WDp2McDannmFJTExUQkKCaTZgwAAlJiZq3LhxlX6dgoICZWRkKDExscLHBAQEKCAgoMpZAQCA2emz5/XoR9/pi905kqSb2ofr2ds6KvgyP4uTVaGwFBQUmM58ZGZmKi0tTSEhIWrWrJlCQ0NNj/fz81N4eLjatGljn/Xr10/Dhw/X+PHjJUkTJkzQkCFDFB0draNHj2rq1Kny8fHRqFGjqrouAADggG1ZP+qBf2/XkdM/yd+njp4cfJXG9Ii29KzKrzlcWLZs2aL4+Hj7cVJSkiRp7NixWrBgQaVeIyMjQ7m5ufbjw4cPa9SoUTp58qQaN26sXr16aePGjWrc2JoLewAAqC1KSw39a91+Pbdiry6UGooOrauUO6/R1U2CrY5mYjMMw7A6hDPk5+crODhYeXl5CgoKsjoOAABu71TheU348Ft9uee4JOl3HSOUfEsH1Q+suS2gyr5/O/3XmgEAgPv75sApPfjedh3LOyd/3zqaOqSd7uzWzG22gH6LwgIAQC1SWmro1a8y9OIXP6ik1FCLRvU0985r1C7SvXcnKCwAANQSuQVF+uv7aVq773/XkQ7v3ETPDLta9QLcvw64f0IAAFBtGzJO6qGF23X8TJEC/epoxs1X6/auTd12C+i3KCwAAHixklJDc79M18upP6jUkK684nKljL5GrcPK/+obd0VhAQDASx0/c04PL0zT+oyTkqTbuzTV9KHtVdff897+PS8xAAC4pHX7cvXw+2nKLShSXX8fPTPsat1yTVOrY1UZhQUAAC9yoaRUL6fu09xV6TIMqW14fc298xq1uuJyq6NVC4UFAAAvkZ13Tg8u3K7NmackSaO6NdPUIe0U6OdjcbLqo7AAAOAFVu89rqQPvtWpwvOq5++j5Fs76ubYSKtjOQ2FBQAAD1ZcUqoXPv9B877KkCS1iwhSyuhr1LxRPYuTOReFBQAAD3X09E964L3t2nrwR0nSmB7RemLQVV6xBfRbFBYAADzQyt05mvDRtzp9tlj1A3z17G0dNahDhNWxXIbCAgCABzl/oVTPrdijf63LlCR1bBqsuaOuUbPQuhYncy0KCwAAHuLQqbMa/952fXvotCTpj9c118SBbeXvW8faYDWAwgIAgAdYsTNbj330rfLPXVBQoK+evz1W/duHWx2rxlBYAABwY0UXSpS8fI8WrD8gSercrIH+Maqzmjb07i2g36KwAADgpg6eLNT4f2/XjiN5kqQ/Xd9CEwa0kZ+P928B/RaFBQAAN/TJd0c18eMdKii6oIZ1/fTCiFjd0DbM6liWobAAAOBGTp89r9H/2qRdR/MlSdfGNNTfR3VWRPBlFiezFoUFAAA38a+1+/XMsu/tx3/p21JJN7aWby3cAvotCgsAAG4gZuIy0/HkwVfp7t4tLErjfigsAABY6Ojpn9Rz9pem2fyxXdXvqtp7vUp5KCwAAFhk7pf79PznP5hme56+ySu/C6i6KCwAAFjgt1tA1zRroEV/uc6iNO6PwgIAQA06dOqsej+3yjR7+65u6n1lY4sSeQYKCwAANeS5FXv0yuoM02zvMzcpwJctoEuhsAAA4GKGYaj5pOWmWe8rG+ntu+IsSuR5KCwAALhQxokC9XvhK9Ps/Xu7K65FqEWJPBOFBQAAF5n+31168+sDptm+mQNr5XcBVReFBQAAJytvC2hA+zD9M7GrRYk8H4UFAAAn2pt9RgPmrDHNFv+lpzo3a2hRIu9AYQEAwEkmLfpO720+ZJplzBoknzo2ixJ5D4c30dasWaMhQ4YoMjJSNptNS5YsqfCx9913n2w2m+bMmXPJ101JSVFMTIwCAwMVFxenzZs3OxoNAABLlJYaipm4zFRWhnduogOzB1NWnMThwlJYWKjY2FilpKRc9HGLFy/Wxo0bFRkZecnXfP/995WUlKSpU6dq27Ztio2N1YABA3T8+HFH4wEAUKN2HslTiyfM16t88kAvvXRHJ2sCeSmHC8vAgQP1zDPPaPjw4RU+5siRI3rggQf07rvvys/P75Kv+eKLL+qee+7RuHHj1K5dO82bN09169bVG2+84Wg8AABqzIPvbdfv/rHONNs/a5CubhJsUSLv5fTfqyotLVViYqIeffRRtW/f/pKPP3/+vLZu3aqEhIRfQtWpo4SEBG3YsMHZ8QAAqLaS/78FtPTbo/bZnXHNdGD2YNVhC8glnH7R7bPPPitfX189+OCDlXp8bm6uSkpKFBZm/hrtsLAw7dmzp8LnFRUVqaioyH6cn59ftcAAADhg68Efdeur602zz/96vVqH1bcoUe3g1MKydetWvfzyy9q2bZtsNtc2zOTkZE2fPt2lfwYAAL9291vfaOX35usrM5MHufw9D07eElq7dq2OHz+uZs2aydfXV76+vjp48KAeeeQRxcTElPucRo0aycfHRzk5OaZ5Tk6OwsPDK/yzJk2apLy8PPvt0KFDFT4WAIDqKC4pVczEZaaycnev5jowezBlpYY49QxLYmKi6VoUSRowYIASExM1bty4cp/j7++vLl26KDU1VcOGDZP0v+tgUlNTNX78+Ar/rICAAAUEBDgtOwAA5dmQcVKjXt9omq2a0FfNG9WzKFHt5HBhKSgoUHp6uv04MzNTaWlpCgkJUbNmzRQaav4yJz8/P4WHh6tNmzb2Wb9+/TR8+HB7IUlKStLYsWPVtWtXdevWTXPmzFFhYWGFJQcAgJrQMzlVR/POmWZsAVnD4cKyZcsWxcfH24+TkpIkSWPHjtWCBQsq9RoZGRnKzc21H99xxx06ceKEpkyZouzsbHXq1EkrVqwocyEuAAA14afzJbpqygrT7IEbWumR/m0qeAZczWYYhmF1CGfIz89XcHCw8vLyFBQUZHUcAICH+njrYT3y4bem2drH4hUVUteiRN6tsu/ffJcQAAD/X8zEZWVmB2YPtiAJfsvpHxwHAICnKSi6UKas3HJNE8qKG+EMCwCgVntn40FNXrLTNOO3gNwPhQUAUGuxBeQ52BICANQ6eWeLy5SVxO7RlBU3xhkWAECt8vqa/Zq5/HvTbN3j8WrakN8CcmcUFgBArcEWkOdiSwgA4PVOFhSVKSt/6tOCsuJBOMMCAPBqf0/dpxe/+ME02/REP4UFBVqUCFVBYQEAeC22gLwHW0IAAK+Tk3+uTFlJurE1ZcWDcYYFAOBVkj/9Xv/8ar9ptnVygkIvD7AoEZyBwgIA8BpsAXkvCgsAwOMd/vGsej27yjSbPPgq3d27hUWJ4GwUFgCAR5u8ZIfe2Zhlmn07tb+CL/OzKBFcgcICAPBYbAHVHhQWAIDHycwtVPzzq02zZ4Zdrd93j7YmEFyOwgIA8ChJ76dp0fYjptnO6QN0eQBvad6Mny4AwGOwBVR7UVgAAG7vh5wz6v/SGtPshdtjdWuXphYlQk2jsAAA3Nq9/7dFn+/OMc32PH2TAv18LEoEK1BYAABuyTAMNZ+03DTz87Fp38xBFiWClSgsAAC3s/NInn73j3Wm2Sujr9GgDhEWJYLVKCwAALdy5+sbtT7jpGn2wzMD5e/L9/XWZhQWAIBbKG8LKKSev7Y9daNFieBOKCwAAMttPXhKt766wTR74w9ddUPbMIsSwd1QWAAAlrp57jp9dzjPNEufOVC+PmwB4RcUFgCAJUpLDbV4wrwFFB1aV189Gm9RIrgzCgsAoMatz8jVna9vMs3evTtO17VqZFEiuDsKCwCgRsU/v1qZuYWmWcasQfKpY7MoETwBhQUAUCMulJSq1ZOfmmYdmgTrvw/0sigRPAmFBQDgcqv2HNe4Bd+YZh//uYe6RIdYlAiehsICAHCprs98odyC86ZZZvIg2WxsAaHyHP6dsTVr1mjIkCGKjIyUzWbTkiVLTPdPmzZNbdu2Vb169dSwYUMlJCRo06ZN5b/Yr55js9lMt7Zt2zoaDQDgRs5fKFXMxGWmstK9RYgOzB5MWYHDHC4shYWFio2NVUpKSrn3t27dWnPnztWOHTu0bt06xcTEqH///jpx4sRFX7d9+/Y6duyY/bZu3bqLPh4A4L4+3XFMrSebr1f57/heWnhvD4sSwdM5vCU0cOBADRw4sML777zzTtPxiy++qPnz5+u7775Tv379Kg7i66vw8HBH4wAA3EzrJz/V+ZJS04wtIFSXSz9G8Pz583rttdcUHBys2NjYiz523759ioyMVIsWLTR69GhlZWW5MhoAwMnOFZcoZuIyU1m5sV0YW0BwCpdcdPvJJ59o5MiROnv2rCIiIvTFF1+oUaOKPwwoLi5OCxYsUJs2bXTs2DFNnz5dvXv31s6dO1W/fv1yn1NUVKSioiL7cX5+vtPXAQConMXbD+uv739rmn328PVqE17+v+GAo1xSWOLj45WWlqbc3Fy9/vrrGjFihDZt2qQrrrii3Mf/eoupY8eOiouLU3R0tD744APddddd5T4nOTlZ06dPd0V8AIADYiYuKzM7MHuwBUngzVyyJVSvXj21atVK3bt31/z58+Xr66v58+dX+vkNGjRQ69atlZ6eXuFjJk2apLy8PPvt0KFDzogOAKikwqILZcrK0E6RlBW4RI18Dktpaalp++ZSCgoKlJGRocTExAofExAQoICAAGfEAwA46N1NB/Xk4p2m2aoJfdW8UT2LEsHbOVxYCgoKTGc+MjMzlZaWppCQEIWGhmrmzJm6+eabFRERodzcXKWkpOjIkSO6/fbb7c/p16+fhg8frvHjx0uSJkyYoCFDhig6OlpHjx7V1KlT5ePjo1GjRjlhiQAAZ2ILCFZwuLBs2bJF8fG/fPV3UlKSJGns2LGaN2+e9uzZo7feeku5ubkKDQ3Vtddeq7Vr16p9+/b252RkZCg3N9d+fPjwYY0aNUonT55U48aN1atXL23cuFGNGzeuztoAAE6U91OxYqd/bpr9vnszPTOsg0WJUJvYDMMwrA7hDPn5+QoODlZeXp6CgoKsjgMAXuVfa/frmWXfm2ZrH4tXVEhdixLBW1T2/ZvvEgIAXBRbQHAHLv3gOACA5zpVeL5MWfnT9S0oK7AEZ1gAAGX8I3WfXvjiB9Ns0xP9FBYUaFEi1HYUFgCACVtAcEdsCQEAJEnH88+VKSsP9buSsgK3wBkWAIBmf7pH877KMM22Tk5Q6OV8QCfcA4UFAGo5toDgCSgsAFBLHTn9k66b/aVp9uSgq3TP9S0sSgRUjMICALXQlP/s1P9tOGiafTulv4Lr+lmUCLg4CgsA1DJsAcETUVgAoJY4kFuovs+vNs2eHna1ErtHWxMIcACFBQBqgaQP0rRo2xHTbOf0Abo8gLcBeAb+pgKAl2MLCN6AwgIAXmpfzhnd+NIa0+z522N1W5emFiUCqo7CAgBe6L63t2rFrmzT7PsZN+kyfx+LEgHVQ2EBAC9iGIaaT1pumtWxSfuT2QKCZ6OwAICX2HkkT7/7xzrTbO6dnfW7jpEWJQKch8ICAF7g9//apHXpuabZ3mduUoAvW0DwDhQWAPBg5W0BNajrp7Qp/S1KBLgGhQUAPNTWgz/q1lfXm2bzx3ZVv6vCLEoEuA6FBQA80NC56/Tt4TzTbN/MgfLzqWNRIsC1KCwA4EFKSw21eMK8BRQVcpnWPnaDRYmAmkFhAQAPsSHjpEa9vtE0e+euOPW6spFFiYCaQ2EBAA/Q74XVyjhRaJplzBoknzo2ixIBNYvCAgBu7EJJqVo9+alp1i4iSMsf6m1RIsAaFBYAcFOr9h7XuDe/Mc0+vK+Hro0JsSgRYB0KCwC4oW4zV+r4mSLTbP+sQarDFhBqKQoLALiR8xdK1XqyeQsornmI3v9TD4sSAe6BwgIAbmLFzmO6751tptnS8depY9MG1gQC3AiFBQDcQJvJn6roQqlplpk8SDYbW0CAJPGRiABgoXPFJYqZuMxUVhKuukIHZg+mrAC/whkWALDIku1H9PD7aabZiod7q214kDWBADdGYQEAC8RMXFZmdmD2YAuSAJ7B4S2hNWvWaMiQIYqMjJTNZtOSJUtM90+bNk1t27ZVvXr11LBhQyUkJGjTpk2XfN2UlBTFxMQoMDBQcXFx2rx5s6PRAMDtFRZdKFNWhnaKpKwAl+BwYSksLFRsbKxSUlLKvb9169aaO3euduzYoXXr1ikmJkb9+/fXiRMnKnzN999/X0lJSZo6daq2bdum2NhYDRgwQMePH3c0HgC4rfc2Z6n91M9Msy8f6aOXR3a2KBHgOWyGYRhVfrLNpsWLF2vYsGEVPiY/P1/BwcFauXKl+vXrV+5j4uLidO2112ru3LmSpNLSUkVFRemBBx7QxIkTK5Xl5z8nLy9PQUHs/wJwL2wBAeWr7Pu3S39L6Pz583rttdcUHBys2NjYCh+zdetWJSQk/BKqTh0lJCRow4YNFb52UVGR8vPzTTcAcDf554rLlJU745pRVgAHueSi208++UQjR47U2bNnFRERoS+++EKNGpX/9ee5ubkqKSlRWFiYaR4WFqY9e/ZU+GckJydr+vTpTs0NAM70xrpMzfhkt2m29rF4RYXUtSgR4LlccoYlPj5eaWlpWr9+vW666SaNGDHC6dejTJo0SXl5efbboUOHnPr6AFAdMROXlSkrB2YPpqwAVeSSwlKvXj21atVK3bt31/z58+Xr66v58+eX+9hGjRrJx8dHOTk5pnlOTo7Cw8Mr/DMCAgIUFBRkugGA1U4Vni+zBXR3r+ZsAQHVVCOfdFtaWqqioqJy7/P391eXLl2Umppqenxqaqp69ODLvgB4jpRV6brm6S9Ms42T+mny79pZlAjwHg5fw1JQUKD09HT7cWZmptLS0hQSEqLQ0FDNnDlTN998syIiIpSbm6uUlBQdOXJEt99+u/05/fr10/DhwzV+/HhJUlJSksaOHauuXbuqW7dumjNnjgoLCzVu3DgnLBEAXI/fAgJcy+HCsmXLFsXHx9uPk5KSJEljx47VvHnztGfPHr311lvKzc1VaGiorr32Wq1du1bt27e3PycjI0O5ubn24zvuuEMnTpzQlClTlJ2drU6dOmnFihVlLsQFAHdz/Mw5dZuZapo92O9KJd3Y2qJEgHeq1uewuBM+hwVATXtuxR69sjrDNNsyOUGNLg+wKBHgeSr7/s13CQFAFbAFBNQsCgsAOODI6Z903ewvTbNJA9vqT31aWpQIqB0oLABQSdOW7tKC9QdMs7QpN6pBXX9rAgG1CIUFACqBLSDAWhQWALiIgycL1edvq02zGUPba0yPGEvyALUVhQUAKvDoh9/qw62HTbMd0/qrfqCfRYmA2ovCAgDlYAsIcC8UFgD4lfTjZ5Tw4hrT7LnbOmpE1yiLEgGQKCwAYPeXd7dq+Y5s0+z7GTfpMn8fixIB+BmFBUCtZxiGmk9aXmbOFhDgPigsAGq1XUfzNPjv60yzf4zqrCGxkRYlAlAeCguAWitx/iat3Zdrmu195iYF+LIFBLgbCguAWqe8LaD6gb7aMW2ARYkAXAqFBUCtsj3rRw1/Zb1p9vqYrrqxXZhFiQBUBoUFQK0x/JWvtT3rtGm2b+ZA+fnUsSYQgEqjsADweqWlhlo8Yd4CatLgMn098QaLEgFwFIUFgFfbuP+kRr620TR7+65u6n1lY4sSAagKCgsAr5Xw4ldKP15gmmXMGiSfOjaLEgGoKgoLAK9TUmqo5W+2gNqG19eKh6+3KBGA6qKwAPAqX/1wQmPf2GyaffCnHurWPMSiRACcgcICwGvEzVqpnPwi02z/rEGqwxYQ4PEoLAA83vkLpWo9+VPT7NqYhvrwvp4WJQLgbBQWAB5txc5s3ffOVtPsP/dfp9ioBtYEAuASFBYAHqvdlBU6e77ENMtMHiSbjS0gwNvw8Y4APM654hLFTFxmKivxbRrrwOzBlBXAS3GGBYBH+U/aET20MM00+/Sh3roqIsiaQABqBIUFgMeImbiszIwtIKB2YEsIgNs7e/5CmbLyu44RbAEBtQhnWAC4tfe/ydLjH+8wzVYm9VGrKy63KBEAK1BYALit8raADswebEESAFZjSwiA28k/V1ymrIy8NoqyAtRinGEB4Fbe/DpT0/+72zRb+1i8okLqWpQIgDugsABwG2wBAaiIw1tCa9as0ZAhQxQZGSmbzaYlS5bY7ysuLtbjjz+uDh06qF69eoqMjNSYMWN09OjRi77mtGnTZLPZTLe2bds6vBgAnunHwvNlysofr2tOWQFg5/AZlsLCQsXGxuqPf/yjbrnlFtN9Z8+e1bZt2/TUU08pNjZWP/74ox566CHdfPPN2rJly0Vft3379lq5cuUvwXw5+QPUBimr0vW3z/aaZhsm3aCI4MssSgTAHTncCgYOHKiBAweWe19wcLC++OIL02zu3Lnq1q2bsrKy1KxZs4qD+PoqPDzc0TgAPBhbQAAqy+W/JZSXlyebzaYGDRpc9HH79u1TZGSkWrRoodGjRysrK+uijy8qKlJ+fr7pBsAznDhTVKasPHBDK8oKgAq5tLCcO3dOjz/+uEaNGqWgoIq/5yMuLk4LFizQihUr9OqrryozM1O9e/fWmTNnKnxOcnKygoOD7beoqChXLAGAkz3/2V5dO3OlafbNkwl6pH8bixIB8AQ2wzCMKj/ZZtPixYs1bNiwMvcVFxfr1ltv1eHDh7V69eqLFpbfOn36tKKjo/Xiiy/qrrvuKvcxRUVFKioqsh/n5+crKipKeXl5Dv1ZAGoOW0AAfis/P1/BwcGXfP92yZWtxcXFGjFihA4ePKgvv/zS4QLRoEEDtW7dWunp6RU+JiAgQAEBAdWNCqAGHD39k3rO/tI0e/ymtvpz35YWJQLgaZxeWH4uK/v27dOqVasUGhrq8GsUFBQoIyNDiYmJzo4HoIZN/+8uvfn1AdMsbcqNalDX35pAADySw4WloKDAdOYjMzNTaWlpCgkJUUREhG677TZt27ZNn3zyiUpKSpSdnS1JCgkJkb////6B6tevn4YPH67x48dLkiZMmKAhQ4YoOjpaR48e1dSpU+Xj46NRo0Y5Y40ALMIWEABncbiwbNmyRfHx8fbjpKQkSdLYsWM1bdo0LV26VJLUqVMn0/NWrVqlvn37SpIyMjKUm5trv+/w4cMaNWqUTp48qcaNG6tXr17auHGjGjdu7Gg8AG4g6+RZXf+3VabZ9Jvba2zPGGsCAfB41bro1p1U9qIdAK71+Eff6f0th0yzHdP6q36gn0WJALgzSy+6BVA7sQUEwFUoLACqLf14gRJe/Mo0e/bWDrrj2oo/3RoAHEFhAVAt9/97m5Z9d8w02z1jgOr6888LAOfhXxQAVWIYhppPWl5mzhYQAFegsABw2JofTmjMG5tNs5dHdtLQTk0sSgTA21FYADikvAtr9zx9kwL9fCxIA6C2oLAAqBS2gABYicIC4JJW7MzWfe9sNc34LiAANYnCAuCi2AIC4A4oLADKVVJqqOUTbAEBcA8UFgBlLN5+WH99/1vT7Omh7ZXYI8aaQABqPQoLAJPytoD2zRwoP586FqQBgP+hsACQJBWXlOrKJz8tM2cLCIA7oLAA0NsbD+qpJTtNsxdHxOqWa5palAgAzCgsQC1X3hZQxqxB8qljsyANAJSPTWmgliq6UFJuWTkwezBlBYDb4QwLUAvN+ypDsz/dY579/hrddHWERYkA4OIoLEAtU95ZlczkQbLZOKsCwH2xJQTUEmfPX6hwC4iyAsDdcYYFqAWe/2yv5q5KN83e+mM39Wnd2KJEAOAYCgvg5dgCAuAN2BICvFTeT8VsAQHwGpxhAbzQtKW7tGD9AdPsgz/1ULfmIdYEAoBqorAAXqaisyoA4MnYEgK8xMmCojJlpWFdP8oKAK/AGRbACyS9n6ZF24+YZkvHX6eOTRtYEwgAnIzCAng4toAA1AZsCQEeKjvvXJmy0qJRPcoKAK/EGRbAA9391hat/D7HNPv8r9erdVh9ixIBgGtRWAAPwxYQgNqILSHAQ2SdPFumrHRu1oCyAqBW4AwL4AFGzNugzQdOmWZfPdpX0aH1LEoEADWLwgK4ObaAAKAKW0Jr1qzRkCFDFBkZKZvNpiVLltjvKy4u1uOPP64OHTqoXr16ioyM1JgxY3T06NFLvm5KSopiYmIUGBiouLg4bd682dFogFdJP36mTFnp26YxZQVAreRwYSksLFRsbKxSUlLK3Hf27Flt27ZNTz31lLZt26ZFixZp7969uvnmmy/6mu+//76SkpI0depUbdu2TbGxsRowYICOHz/uaDzAK/R/6SslvLjGNFs/8QYtGNfNokQAYC2bYRhGlZ9ss2nx4sUaNmxYhY/55ptv1K1bNx08eFDNmjUr9zFxcXG69tprNXfuXElSaWmpoqKi9MADD2jixImVypKfn6/g4GDl5eUpKCjI4bUA7oItIAC1SWXfv13+W0J5eXmy2Wxq0KBBufefP39eW7duVUJCwi+h6tRRQkKCNmzYUOHrFhUVKT8/33QDPNnOI3llysrQTpGUFQCQiy+6PXfunB5//HGNGjWqwtaUm5urkpIShYWFmeZhYWHas2dPha+dnJys6dOnOzUvYJVrZ67UiTNFptmWyQlqdHmARYkAwL247AxLcXGxRowYIcMw9Oqrrzr99SdNmqS8vDz77dChQ07/M4CaEDNxWZmycmD2YMoKAPyKS86w/FxWDh48qC+//PKie1KNGjWSj4+PcnLMHzOek5Oj8PDwCp8XEBCggAD+QYfn2nLglG6bZ972/H33ZnpmWAeLEgGA+3J6Yfm5rOzbt0+rVq1SaGjoRR/v7++vLl26KDU11X7xbmlpqVJTUzV+/HhnxwPcwpVPLldxifl692+n9FdwXT+LEgGAe3O4sBQUFCg9Pd1+nJmZqbS0NIWEhCgiIkK33Xabtm3bpk8++UQlJSXKzs6WJIWEhMjf31+S1K9fPw0fPtxeSJKSkjR27Fh17dpV3bp105w5c1RYWKhx48Y5Y42A2zAMQ80nLS8z58JaALg4hwvLli1bFB8fbz9OSkqSJI0dO1bTpk3T0qVLJUmdOnUyPW/VqlXq27evJCkjI0O5ubn2++644w6dOHFCU6ZMUXZ2tjp16qQVK1aUuRAX8GRr951Q4nzzByL+uW9LPX5TW4sSAYDnqNbnsLgTPocF7qy8z1bZNX2A6gXw7RgAarfKvn/zryXgQmwBAYBzUFgAF/l8V7bufXurafbogDa6P76VRYkAwHNRWAAXKG8LaM/TNynQz8eCNADg+SgsgBOVlhpq8QRbQADgbBQWwEmWbD+ih99PM82m39xeY3vGWJIHALwJhQVwgvK2gPbNHCg/H5d/vygA1AoUFqAaLpSUqtWTn5aZswUEAM5FYQGq6N+bsvTE4h2m2fO3x+q2Lk0tSgQA3ovCAlRBeVtAGbMGyaeOzYI0AOD92GAHHFB0oaTcsnJg9mDKCgC4EGdYgEp6bU2GZi3fY5q9MvoaDeoQYVEiAKg9KCxAJZR3ViUzeZBsNs6qAEBNYEsIuIiz5y9UuAVEWQGAmsMZFqACL36+V3//Mt00e3PctYpvc4VFiQCg9qKwAOVgCwgA3AtbQsCv5J8rZgsIANwQZ1iA/2/6f3fpza8PmGYL7+2u7i1CrQkEALCjsAAqfwuIj9cHAPfBlhBqtVOF58uUlaBAX8oKALgZzrCg1prw4bf6aOth02zJ/depU1QDawIBACpEYUGtxBYQAHgWtoRQq+TknytTVqJD61JWAMDNcYYFtca9/7dFn+/OMc0+e/h6tQmvb1EiAEBlUVhQK7AFBACejS0heLVDp86WKSuxTYMpKwDgYTjDAq91xz83aFPmKdNs1YS+at6onkWJAABVRWGBV2ILCAC8C1tC8CrZeWV/C6j3lY0oKwDg4TjDAq8xc9luvb420zT7euINatLgMosSAQCchcICr8AWEAB4NwoLPNqhU2fV+7lVptlTv2unu3o1tygRAMAVKCzwWE8s3qF/b8oyzb6d2l/Bl/lZlAgA4CoUFngktoAAoHZx+LeE1qxZoyFDhigyMlI2m01Lliwx3b9o0SL1799foaGhstlsSktLu+RrLliwQDabzXQLDAx0NBpqgf0nCsqUlVnDO1BWAMDLOXyGpbCwULGxsfrjH/+oW265pdz7e/XqpREjRuiee+6p9OsGBQVp79699mObzeZoNHi5B9/brqXfHjXNdk0foHoBnCgEAG/n8L/0AwcO1MCBAyu8PzExUZJ04MABh17XZrMpPDzc0TioJdgCAoDazW0+OK6goEDR0dGKiorS0KFDtWvXros+vqioSPn5+aYbvM+JM0VlyspLd8RSVgCglnGLwtKmTRu98cYb+s9//qN33nlHpaWl6tmzpw4fPlzhc5KTkxUcHGy/RUVF1WBi1IT/pB3RtTNXmmZ7nr5Jwzs3tSgRAMAqblFYevTooTFjxqhTp07q06ePFi1apMaNG+uf//xnhc+ZNGmS8vLy7LdDhw7VYGK4kmEYGprytR5amGaf3denpQ7MHqxAPx/rggEALOOWVyv6+fmpc+fOSk9Pr/AxAQEBCggIqMFUqAk5+ecUNyvVNFuZdL1aXVHfokQAAHfgFmdYfqukpEQ7duxQRESE1VFQgz7YcshUVhrU9VPGrEGUFQCA42dYCgoKTGc+MjMzlZaWppCQEDVr1kynTp1SVlaWjh7936+f/vyryuHh4fbfAhozZoyaNGmi5ORkSdKMGTPUvXt3tWrVSqdPn9bf/vY3HTx4UHfffXe1Fwj3ZxiGbpqzVntzzthnTwxqq3uvb2lhKgCAO3G4sGzZskXx8fH246SkJEnS2LFjtWDBAi1dulTjxo2z3z9y5EhJ0tSpUzVt2jRJUlZWlurU+eXkzo8//qh77rlH2dnZatiwobp06aL169erXbt2VVoUPMeR0z/putlfmmarJvRV80b1LEoEAHBHNsMwDKtDOEN+fr6Cg4OVl5enoKAgq+OgEt7ZeFCTl+y0H0cEB+rrx29QnTp8aCAA1BaVff92y4tu4d1KSw31fX61sk6dtc+mDWmnP1zHNywDAMpHYUGNyjp5Vtf/bZVptvaxeEWF1LUoEQDAE1BYUGPmr8vU05/sth+3aFRPqY/04XujAACXRGGBy5WUGuqenKoTZ4rss+RbOmhUt2YWpgIAeBIKC1xq/4kC3fDCV6bZ+ok3KLLBZRYlAgB4IgoLXObV1Rl6dsUe+3G7iCAte7AXW0AAAIdRWOB0F0pK1XnGFzpTdME+e+H2WN3ahS8tBABUDYUFTvVDzhn1f2mNabb5iX66IijQokQAAG9AYYHTzFn5g+as3Gc/7hLdUB/d14MtIABAtVFYUG3FJaW66qkVulD6y4cm/31UZ90cG2lhKgCAN6GwoFp2Hc3T4L+vM822TE5Qo8sDLEoEAPBGFBZU2bMr9ujV1Rn24+taherdu7tbmAgA4K0oLHBY0YUStZm8wjSb9/suuunqcIsSAQC8HYUFDvn20GkNTfnaNEubcqMa1PW3KBEAoDagsKDSZvx3t974OtN+nHDVFfrX2GstTAQAqC0oLLikc8UlavuUeQvojT901Q1twyxKBACobSgsuKitB0/p1lc3mGbfTeuvoEA/ixIBAGojCgsq9MTiHfr3piz78eCOEUq58xoLEwEAaisKC8o4e/6C2k35zDR7+65u6n1lY4sSAQBqOwoLTDZknNSo1zeaZjunD9DlAfxVAQBYh3ch2CV9kKZF247Yj2+9pqleGBFrYSIAAP6HwgIVFF3Q1VPNW0AL7+2u7i1CLUoEAIAZhaWWW/PDCY15Y7NptnvGANX1568GAMB98K5Ui93/7jYt23HMfjw6rplmDu9gYSIAAMpHYamF8n4qVuz0z02zj//cU12iG1qUCACAi6Ow1DJf7snRHxdsMc32PH2TAv18LEoEAMClUVhqkT8u+EZf7jluP76rV3M99bt2FiYCAKByKCy1wI+F59X56S9Ms6Xjr1PHpg2sCQQAgIMoLF5uxc5juu+dbabZ3mduUoAvW0AAAM9BYfFio17bqA37T9qP749vqUcHtLUwEQAAVUNh8UK5BUXq+sxK02z5g73VLjLIokQAAFQPhcXL/CftiB5amGY/9vepo10zBsjPp451oQAAqCYKi5cwDEO3vLpe27NO22dJN7bWg/2utC4UAABO4vD/7V6zZo2GDBmiyMhI2Ww2LVmyxHT/okWL1L9/f4WGhspmsyktLa1Sr/vhhx+qbdu2CgwMVIcOHbR8+XJHo9VaOfnn1HzSclNZ+eKv11NWAABew+HCUlhYqNjYWKWkpFR4f69evfTss89W+jXXr1+vUaNG6a677tL27ds1bNgwDRs2TDt37nQ0Xq3z0dbDipuVaj9uUNdPGbMG6cqw+hamAgDAuWyGYRhVfrLNpsWLF2vYsGFl7jtw4ICaN2+u7du3q1OnThd9nTvuuEOFhYX65JNP7LPu3burU6dOmjdvXqWy5OfnKzg4WHl5eQoK8v6LSw3D0MCX12pP9hn7bNLAtvpTn5YWpgIAwDGVff92i2tYNmzYoKSkJNNswIABZbabfq2oqEhFRUX24/z8fFfFcztHT/+knrO/NM2+fKSPWjS+3KJEAAC4llv86kh2drbCwsJMs7CwMGVnZ1f4nOTkZAUHB9tvUVFRro7pFt7ddNBUVsKDArV/1iDKCgDAq7nFGZaqmDRpkumsTH5+vleXltJSQ/EvrNbBk2fts6lD2mncdc0tTAUAQM1wi8ISHh6unJwc0ywnJ0fh4eEVPicgIEABAQGujuYWsk6e1fV/W2WarXk0Xs1C61qUCACAmuUWW0I9evRQamqqafbFF1+oR48eFiVyH29+nWkqKzGhdbV/1iDKCgCgVnH4DEtBQYHS09Ptx5mZmUpLS1NISIiaNWumU6dOKSsrS0ePHpUk7d27V9L/zqL8fMZkzJgxatKkiZKTkyVJDz30kPr06aMXXnhBgwcP1sKFC7Vlyxa99tpr1V6gpyotNdRjdqpy8n+5sHjm8Ks1Oi7awlQAAFjD4TMsW7ZsUefOndW5c2dJUlJSkjp37qwpU6ZIkpYuXarOnTtr8ODBkqSRI0eqc+fOpl9PzsrK0rFjx+zHPXv21L///W+99tprio2N1UcffaQlS5bo6quvrtbiPNX+EwVq8cRyU1lZP/EGygoAoNaq1uewuBNv+RyWeV9laPane+zHbcPr69OHestms1mYCgAA1/Coz2GBVFJqqPOMz5V/7oJ99vztsbqtS1MLUwEA4B4oLG5gX84Z3fjSGtNs0xP9FBYUaFEiAADcC4XFYi+v3KeXVv5gP76mWQN9/OeebAEBAPArFBaLFJeUqt2UFSou+eUSor+P6qybYyMtTAUAgHuisFhg99F8Dfr7WtNsy+QENbq8dnwQHgAAjqKw1LDnVuzRK6sz7Mc9WoTqvXu7W5gIAAD3R2GpIecvlKr15E9Ns1dHX6OBHSIsSgQAgOegsNSA7w6f1s1zvzbNtj91oxrW87coEQAAnoXC4mJPf7Jb89dl2o9vaHuF3vjDtRYmAgDA81BYXORccYnaPrXCNHvjD111Q9swixIBAOC5KCwusPXgj7r11fWm2bdT+yv4Mj+LEgEA4NkoLE42eckOvbMxy348qEO4XhndxcJEAAB4PgqLk5w9f0Htpnxmmr19Vzf1vrKxRYkAAPAeFBYn2Lj/pEa+ttE02zl9gC4P4D8vAADOwDtqNT3ywbf6eNth+/Et1zTRiyM6WRcIAAAvRGGpooKiC7p6qnkL6L17uqtHy1CLEgEA4L0oLFWwdt8JJc7fbJrtnjFAdf35zwkAgCvwDuug+/+9Tcu+O2Y/HtWtmZJv6WBhIgAAvB+FpZLyfipW7PTPTbOP/9xDXaJDLEoEAEDtQWGphFV7jmvcgm9Msz1P36RAPx+LEgEAULtQWC5h0qIdem/zLx8EN+66GE0d0t7CRAAA1D4Ulkv4dVn5z/3XKTaqgXVhAACopSgslzB1SDulfn9c8//QVQG+bAEBAGAFm2EYhtUhnCE/P1/BwcHKy8tTUFCQ1XEAAEAlVPb9u04NZgIAAKgSCgsAAHB7FBYAAOD2KCwAAMDtUVgAAIDbo7AAAAC3R2EBAABuj8ICAADcHoUFAAC4PYcLy5o1azRkyBBFRkbKZrNpyZIlpvsNw9CUKVMUERGhyy67TAkJCdq3b99FX3PatGmy2WymW9u2bR2NBgAAvJTDhaWwsFCxsbFKSUkp9/7nnntOf//73zVv3jxt2rRJ9erV04ABA3Tu3LmLvm779u117Ngx+23dunWORgMAAF7K4S8/HDhwoAYOHFjufYZhaM6cOZo8ebKGDh0qSfq///s/hYWFacmSJRo5cmTFQXx9FR4e7mgcAABQCzj1GpbMzExlZ2crISHBPgsODlZcXJw2bNhw0efu27dPkZGRatGihUaPHq2srKyLPr6oqEj5+fmmGwAA8E4On2G5mOzsbElSWFiYaR4WFma/rzxxcXFasGCB2rRpo2PHjmn69Onq3bu3du7cqfr165f7nOTkZE2fPr3MnOICAIDn+Pl92zCMiz7OqYWlqn69xdSxY0fFxcUpOjpaH3zwge66665ynzNp0iQlJSXZj48cOaJ27dopKirK5XkBAIBznTlzRsHBwRXe79TC8vM1KDk5OYqIiLDPc3Jy1KlTp0q/ToMGDdS6dWulp6dX+JiAgAAFBATYjy+//HLt3r1b7dq106FDhxQUFOT4AjxIfn6+oqKiWKuXYa3eibV6J9bqHIZh6MyZM4qMjLzo45xaWJo3b67w8HClpqbaC0p+fr42bdqkP//5z5V+nYKCAmVkZCgxMbHSz6lTp46aNGkiSQoKCvL6vzw/Y63eibV6J9bqnVhr9V3szMrPHL7otqCgQGlpaUpLS5P0vwtt09LSlJWVJZvNpocffljPPPOMli5dqh07dmjMmDGKjIzUsGHD7K/Rr18/zZ071348YcIEffXVVzpw4IDWr1+v4cOHy8fHR6NGjXI0HgAA8EIOn2HZsmWL4uPj7cc/X0cyduxYLViwQI899pgKCwt177336vTp0+rVq5dWrFihwMBA+3MyMjKUm5trPz58+LBGjRqlkydPqnHjxurVq5c2btyoxo0bV2dtAADASzhcWPr27XvRK3ltNptmzJihGTNmVPiYAwcOmI4XLlzoaIxyBQQEaOrUqaZrW7wVa/VOrNU7sVbvxFprls241O8RAQAAWIwvPwQAAG6PwgIAANwehQUAALg9CgsAAHB7HldYUlJSFBMTo8DAQMXFxWnz5s0VPnbXrl269dZbFRMTI5vNpjlz5tRcUCdwZK2vv/66evfurYYNG6phw4ZKSEi46OPdjSNrXbRokbp27aoGDRqoXr166tSpk95+++0aTFs9jqz11xYuXCibzWb6TCN358haFyxYIJvNZrr9+uMQ3J2jP9fTp0/r/vvvV0REhAICAtS6dWstX768htJWjyNr7du3b5mfq81m0+DBg2swcdU5+nOdM2eO2rRpo8suu0xRUVH661//qnPnztVQ2upxZK3FxcWaMWOGWrZsqcDAQMXGxmrFihWuDWh4kIULFxr+/v7GG2+8Yezatcu45557jAYNGhg5OTnlPn7z5s3GhAkTjPfee88IDw83XnrppZoNXA2OrvXOO+80UlJSjO3btxvff/+98Yc//MEIDg42Dh8+XMPJHefoWletWmUsWrTI2L17t5Genm7MmTPH8PHxMVasWFHDyR3n6Fp/lpmZaTRp0sTo3bu3MXTo0JoJW02OrvXNN980goKCjGPHjtlv2dnZNZy6ahxda1FRkdG1a1dj0KBBxrp164zMzExj9erVRlpaWg0nd5yjaz158qTpZ7pz507Dx8fHePPNN2s2eBU4utZ3333XCAgIMN59910jMzPT+Oyzz4yIiAjjr3/9aw0nd5yja33ssceMyMhIY9myZUZGRobxyiuvGIGBgca2bdtcltGjCku3bt2M+++/335cUlJiREZGGsnJyZd8bnR0tEcVluqs1TAM48KFC0b9+vWNt956y1URnaa6azUMw+jcubMxefJkV8Rzqqqs9cKFC0bPnj2Nf/3rX8bYsWM9prA4utY333zTCA4OrqF0zuXoWl999VWjRYsWxvnz52sqotNU93+vL730klG/fn2joKDAVRGdxtG13n///cYNN9xgmiUlJRnXXXedS3M6g6NrjYiIMObOnWua3XLLLcbo0aNdltFjtoTOnz+vrVu3KiEhwT6rU6eOEhIStGHDBguTOZ8z1nr27FkVFxcrJCTEVTGdorprNQxDqamp2rt3r66//npXRq22qq51xowZuuKKKyr85nJ3VNW1FhQUKDo6WlFRURo6dKh27dpVE3GrpSprXbp0qXr06KH7779fYWFhuvrqqzVr1iyVlJTUVOwqcca/TfPnz9fIkSNVr149V8V0iqqstWfPntq6dat9K2X//v1avny5Bg0aVCOZq6oqay0qKiqzZXvZZZdp3bp1Lsvp1C8/dKXc3FyVlJQoLCzMNA8LC9OePXssSuUazljr448/rsjISNNfQHdU1bXm5eWpSZMmKioqko+Pj1555RXdeOONro5bLVVZ67p16zR//nz7d3d5iqqstU2bNnrjjTfUsWNH5eXl6fnnn1fPnj21a9cuNW3atCZiV0lV1rp//359+eWXGj16tJYvX6709HT95S9/UXFxsaZOnVoTsaukuv82bd68WTt37tT8+fNdFdFpqrLWO++8U7m5uerVq5cMw9CFCxd033336YknnqiJyFVWlbUOGDBAL774oq6//nq1bNlSqampWrRokUtLt8ecYUHlzZ49WwsXLtTixYs96qJFR9SvX19paWn65ptvNHPmTCUlJWn16tVWx3KqM2fOKDExUa+//roaNWpkdRyX69Gjh8aMGaNOnTqpT58+WrRokRo3bqx//vOfVkdzutLSUl1xxRV67bXX1KVLF91xxx168sknNW/ePKujudT8+fPVoUMHdevWzeooLrF69WrNmjVLr7zyirZt26ZFixZp2bJlevrpp62O5nQvv/yyrrzySrVt21b+/v4aP368xo0bpzp1XFcrPOYMS6NGjeTj46OcnBzTPCcnR+Hh4Ralco3qrPX555/X7NmztXLlSnXs2NGVMZ2iqmutU6eOWrVqJUnq1KmTvv/+eyUnJ6tv376ujFstjq41IyNDBw4c0JAhQ+yz0tJSSZKvr6/27t2rli1bujZ0FTnjf69+fn7q3Lmz0tPTXRHRaaqy1oiICPn5+cnHx8c+u+qqq5Sdna3z58/L39/fpZmrqjo/18LCQi1cuPCi3zPnTqqy1qeeekqJiYm6++67JUkdOnSwfxnwk08+6dI38+qoylobN26sJUuW6Ny5czp58qQiIyM1ceJEtWjRwmU53fO/Xjn8/f3VpUsXpaam2melpaVKTU1Vjx49LEzmfFVd63PPPaenn35aK1asUNeuXWsiarU56+daWlqqoqIiV0R0GkfX2rZtW+3YsUNpaWn2280336z4+HilpaUpKiqqJuM7xBk/15KSEu3YsUMRERGuiukUVVnrddddp/T0dHsBlaQffvhBERERbltWpOr9XD/88EMVFRXp97//vatjOkVV1nr27NkypeTnUmq48df2VefnGhgYqCZNmujChQv6+OOPNXToUNcFddnlvC6wcOFCIyAgwFiwYIGxe/du49577zUaNGhg/9XHxMREY+LEifbHFxUVGdu3bze2b99uREREGBMmTDC2b99u7Nu3z6olVJqja509e7bh7+9vfPTRR6ZfITxz5oxVS6g0R9c6a9Ys4/PPPzcyMjKM3bt3G88//7zh6+trvP7661YtodIcXetvedJvCTm61unTpxufffaZkZGRYWzdutUYOXKkERgYaOzatcuqJVSao2vNysoy6tevb4wfP97Yu3ev8cknnxhXXHGF8cwzz1i1hEqr6t/hXr16GXfccUdNx60WR9c6depUo379+sZ7771n7N+/3/j888+Nli1bGiNGjLBqCZXm6Fo3btxofPzxx0ZGRoaxZs0a44YbbjCaN29u/Pjjjy7L6FGFxTAM4x//+IfRrFkzw9/f3+jWrZuxceNG+319+vQxxo4daz/OzMw0JJW59enTp+aDV4Eja42Oji53rVOnTq354FXgyFqffPJJo1WrVkZgYKDRsGFDo0ePHsbChQstSF01jqz1tzypsBiGY2t9+OGH7Y8NCwszBg0a5NLPdHA2R3+u69evN+Li4oyAgACjRYsWxsyZM40LFy7UcOqqcXSte/bsMSQZn3/+eQ0nrT5H1lpcXGxMmzbNaNmypREYGGhERUUZf/nLX1z6Ju5Mjqx19erVxlVXXWUEBAQYoaGhRmJionHkyBGX5rMZhhufpwIAAJAHXcMCAABqLwoLAABwexQWAADg9igsAADA7VFYAACA26OwAAAAt0dhAQAAbo/CAgAA3B6FBQAAuD0KCwAAcHsUFgAA4PYoLAAAwO39P9Cb6KBPhNU8AAAAAElFTkSuQmCC\n"
                },
                "metadata": {}
              }
            ]
          }
        },
        "7b204bd132af40adba57cd1ccc59554e": {
          "model_module": "@jupyter-widgets/base",
          "model_name": "LayoutModel",
          "model_module_version": "1.2.0",
          "state": {
            "_model_module": "@jupyter-widgets/base",
            "_model_module_version": "1.2.0",
            "_model_name": "LayoutModel",
            "_view_count": null,
            "_view_module": "@jupyter-widgets/base",
            "_view_module_version": "1.2.0",
            "_view_name": "LayoutView",
            "align_content": null,
            "align_items": null,
            "align_self": null,
            "border": null,
            "bottom": null,
            "display": null,
            "flex": null,
            "flex_flow": null,
            "grid_area": null,
            "grid_auto_columns": null,
            "grid_auto_flow": null,
            "grid_auto_rows": null,
            "grid_column": null,
            "grid_gap": null,
            "grid_row": null,
            "grid_template_areas": null,
            "grid_template_columns": null,
            "grid_template_rows": null,
            "height": null,
            "justify_content": null,
            "justify_items": null,
            "left": null,
            "margin": null,
            "max_height": null,
            "max_width": null,
            "min_height": null,
            "min_width": null,
            "object_fit": null,
            "object_position": null,
            "order": null,
            "overflow": null,
            "overflow_x": null,
            "overflow_y": null,
            "padding": null,
            "right": null,
            "top": null,
            "visibility": null,
            "width": null
          }
        },
        "c315d9062e664a14a2a20c870c95ebb2": {
          "model_module": "@jupyter-widgets/base",
          "model_name": "LayoutModel",
          "model_module_version": "1.2.0",
          "state": {
            "_model_module": "@jupyter-widgets/base",
            "_model_module_version": "1.2.0",
            "_model_name": "LayoutModel",
            "_view_count": null,
            "_view_module": "@jupyter-widgets/base",
            "_view_module_version": "1.2.0",
            "_view_name": "LayoutView",
            "align_content": null,
            "align_items": null,
            "align_self": null,
            "border": null,
            "bottom": null,
            "display": null,
            "flex": null,
            "flex_flow": null,
            "grid_area": null,
            "grid_auto_columns": null,
            "grid_auto_flow": null,
            "grid_auto_rows": null,
            "grid_column": null,
            "grid_gap": null,
            "grid_row": null,
            "grid_template_areas": null,
            "grid_template_columns": null,
            "grid_template_rows": null,
            "height": null,
            "justify_content": null,
            "justify_items": null,
            "left": null,
            "margin": null,
            "max_height": null,
            "max_width": null,
            "min_height": null,
            "min_width": null,
            "object_fit": null,
            "object_position": null,
            "order": null,
            "overflow": null,
            "overflow_x": null,
            "overflow_y": null,
            "padding": null,
            "right": null,
            "top": null,
            "visibility": null,
            "width": null
          }
        },
        "8766ad05a48a43d580b3bf504341a88c": {
          "model_module": "@jupyter-widgets/controls",
          "model_name": "DescriptionStyleModel",
          "model_module_version": "1.5.0",
          "state": {
            "_model_module": "@jupyter-widgets/controls",
            "_model_module_version": "1.5.0",
            "_model_name": "DescriptionStyleModel",
            "_view_count": null,
            "_view_module": "@jupyter-widgets/base",
            "_view_module_version": "1.2.0",
            "_view_name": "StyleView",
            "description_width": ""
          }
        },
        "1bba42a12ae34a009f9f523ab35ffff9": {
          "model_module": "@jupyter-widgets/base",
          "model_name": "LayoutModel",
          "model_module_version": "1.2.0",
          "state": {
            "_model_module": "@jupyter-widgets/base",
            "_model_module_version": "1.2.0",
            "_model_name": "LayoutModel",
            "_view_count": null,
            "_view_module": "@jupyter-widgets/base",
            "_view_module_version": "1.2.0",
            "_view_name": "LayoutView",
            "align_content": null,
            "align_items": null,
            "align_self": null,
            "border": null,
            "bottom": null,
            "display": null,
            "flex": null,
            "flex_flow": null,
            "grid_area": null,
            "grid_auto_columns": null,
            "grid_auto_flow": null,
            "grid_auto_rows": null,
            "grid_column": null,
            "grid_gap": null,
            "grid_row": null,
            "grid_template_areas": null,
            "grid_template_columns": null,
            "grid_template_rows": null,
            "height": null,
            "justify_content": null,
            "justify_items": null,
            "left": null,
            "margin": null,
            "max_height": null,
            "max_width": null,
            "min_height": null,
            "min_width": null,
            "object_fit": null,
            "object_position": null,
            "order": null,
            "overflow": null,
            "overflow_x": null,
            "overflow_y": null,
            "padding": null,
            "right": null,
            "top": null,
            "visibility": null,
            "width": null
          }
        },
        "74bdf309fcb94c65922b912455cc2578": {
          "model_module": "@jupyter-widgets/controls",
          "model_name": "DescriptionStyleModel",
          "model_module_version": "1.5.0",
          "state": {
            "_model_module": "@jupyter-widgets/controls",
            "_model_module_version": "1.5.0",
            "_model_name": "DescriptionStyleModel",
            "_view_count": null,
            "_view_module": "@jupyter-widgets/base",
            "_view_module_version": "1.2.0",
            "_view_name": "StyleView",
            "description_width": ""
          }
        },
        "37ab311297534925901238c56f7d73ce": {
          "model_module": "@jupyter-widgets/base",
          "model_name": "LayoutModel",
          "model_module_version": "1.2.0",
          "state": {
            "_model_module": "@jupyter-widgets/base",
            "_model_module_version": "1.2.0",
            "_model_name": "LayoutModel",
            "_view_count": null,
            "_view_module": "@jupyter-widgets/base",
            "_view_module_version": "1.2.0",
            "_view_name": "LayoutView",
            "align_content": null,
            "align_items": null,
            "align_self": null,
            "border": null,
            "bottom": null,
            "display": null,
            "flex": null,
            "flex_flow": null,
            "grid_area": null,
            "grid_auto_columns": null,
            "grid_auto_flow": null,
            "grid_auto_rows": null,
            "grid_column": null,
            "grid_gap": null,
            "grid_row": null,
            "grid_template_areas": null,
            "grid_template_columns": null,
            "grid_template_rows": null,
            "height": null,
            "justify_content": null,
            "justify_items": null,
            "left": null,
            "margin": null,
            "max_height": null,
            "max_width": null,
            "min_height": null,
            "min_width": null,
            "object_fit": null,
            "object_position": null,
            "order": null,
            "overflow": null,
            "overflow_x": null,
            "overflow_y": null,
            "padding": null,
            "right": null,
            "top": null,
            "visibility": null,
            "width": null
          }
        },
        "42795f24014e4b6a8bf12bf155bed601": {
          "model_module": "@jupyter-widgets/controls",
          "model_name": "VBoxModel",
          "model_module_version": "1.5.0",
          "state": {
            "_dom_classes": [
              "widget-interact"
            ],
            "_model_module": "@jupyter-widgets/controls",
            "_model_module_version": "1.5.0",
            "_model_name": "VBoxModel",
            "_view_count": null,
            "_view_module": "@jupyter-widgets/controls",
            "_view_module_version": "1.5.0",
            "_view_name": "VBoxView",
            "box_style": "",
            "children": [
              "IPY_MODEL_2f1f213fc21448ae902506b81cb820c7",
              "IPY_MODEL_b93cdf1631ec496f9b6a0fa9d2ecbd4f",
              "IPY_MODEL_0f6ee487562b4554b6aa87ef8d2f45be",
              "IPY_MODEL_d2f50f697820455e96a0bd6b7c6c95b6",
              "IPY_MODEL_f2ccd19b95464502981caa252c6ab2c9"
            ],
            "layout": "IPY_MODEL_b666071b66a84627871b8f08783d9133"
          }
        },
        "2f1f213fc21448ae902506b81cb820c7": {
          "model_module": "@jupyter-widgets/controls",
          "model_name": "DropdownModel",
          "model_module_version": "1.5.0",
          "state": {
            "_dom_classes": [],
            "_model_module": "@jupyter-widgets/controls",
            "_model_module_version": "1.5.0",
            "_model_name": "DropdownModel",
            "_options_labels": [
              "5",
              "-5",
              "2.5"
            ],
            "_view_count": null,
            "_view_module": "@jupyter-widgets/controls",
            "_view_module_version": "1.5.0",
            "_view_name": "DropdownView",
            "description": "a",
            "description_tooltip": null,
            "disabled": false,
            "index": 0,
            "layout": "IPY_MODEL_5040a7d9ba534ea4974b43c0a6cb55a7",
            "style": "IPY_MODEL_6ca941e997214314a561743cf5c22547"
          }
        },
        "b93cdf1631ec496f9b6a0fa9d2ecbd4f": {
          "model_module": "@jupyter-widgets/controls",
          "model_name": "DropdownModel",
          "model_module_version": "1.5.0",
          "state": {
            "_dom_classes": [],
            "_model_module": "@jupyter-widgets/controls",
            "_model_module_version": "1.5.0",
            "_model_name": "DropdownModel",
            "_options_labels": [
              "10",
              "-10",
              "0.5"
            ],
            "_view_count": null,
            "_view_module": "@jupyter-widgets/controls",
            "_view_module_version": "1.5.0",
            "_view_name": "DropdownView",
            "description": "b",
            "description_tooltip": null,
            "disabled": false,
            "index": 0,
            "layout": "IPY_MODEL_5e400d41b75349deac9b612e556d4ae6",
            "style": "IPY_MODEL_da652d3af3f744d6b0b26d3de891bec0"
          }
        },
        "0f6ee487562b4554b6aa87ef8d2f45be": {
          "model_module": "@jupyter-widgets/controls",
          "model_name": "DropdownModel",
          "model_module_version": "1.5.0",
          "state": {
            "_dom_classes": [],
            "_model_module": "@jupyter-widgets/controls",
            "_model_module_version": "1.5.0",
            "_model_name": "DropdownModel",
            "_options_labels": [
              "green",
              "blue",
              "red"
            ],
            "_view_count": null,
            "_view_module": "@jupyter-widgets/controls",
            "_view_module_version": "1.5.0",
            "_view_name": "DropdownView",
            "description": "color",
            "description_tooltip": null,
            "disabled": false,
            "index": 0,
            "layout": "IPY_MODEL_d4411087a2174f2ca7c3c475a8a9b37a",
            "style": "IPY_MODEL_819bb20e13644a58ad7ab263213f4a7e"
          }
        },
        "d2f50f697820455e96a0bd6b7c6c95b6": {
          "model_module": "@jupyter-widgets/controls",
          "model_name": "ButtonModel",
          "model_module_version": "1.5.0",
          "state": {
            "_dom_classes": [],
            "_model_module": "@jupyter-widgets/controls",
            "_model_module_version": "1.5.0",
            "_model_name": "ButtonModel",
            "_view_count": null,
            "_view_module": "@jupyter-widgets/controls",
            "_view_module_version": "1.5.0",
            "_view_name": "ButtonView",
            "button_style": "",
            "description": "Run Interact",
            "disabled": false,
            "icon": "",
            "layout": "IPY_MODEL_b1c77a5b3c484d32b2814c2d39921b1b",
            "style": "IPY_MODEL_5c394c1b92324e8683ace73cbfabdac8",
            "tooltip": ""
          }
        },
        "f2ccd19b95464502981caa252c6ab2c9": {
          "model_module": "@jupyter-widgets/output",
          "model_name": "OutputModel",
          "model_module_version": "1.0.0",
          "state": {
            "_dom_classes": [],
            "_model_module": "@jupyter-widgets/output",
            "_model_module_version": "1.0.0",
            "_model_name": "OutputModel",
            "_view_count": null,
            "_view_module": "@jupyter-widgets/output",
            "_view_module_version": "1.0.0",
            "_view_name": "OutputView",
            "layout": "IPY_MODEL_7e23b3efbe594e5baeb986f12585c97b",
            "msg_id": "",
            "outputs": []
          }
        },
        "b666071b66a84627871b8f08783d9133": {
          "model_module": "@jupyter-widgets/base",
          "model_name": "LayoutModel",
          "model_module_version": "1.2.0",
          "state": {
            "_model_module": "@jupyter-widgets/base",
            "_model_module_version": "1.2.0",
            "_model_name": "LayoutModel",
            "_view_count": null,
            "_view_module": "@jupyter-widgets/base",
            "_view_module_version": "1.2.0",
            "_view_name": "LayoutView",
            "align_content": null,
            "align_items": null,
            "align_self": null,
            "border": null,
            "bottom": null,
            "display": null,
            "flex": null,
            "flex_flow": null,
            "grid_area": null,
            "grid_auto_columns": null,
            "grid_auto_flow": null,
            "grid_auto_rows": null,
            "grid_column": null,
            "grid_gap": null,
            "grid_row": null,
            "grid_template_areas": null,
            "grid_template_columns": null,
            "grid_template_rows": null,
            "height": null,
            "justify_content": null,
            "justify_items": null,
            "left": null,
            "margin": null,
            "max_height": null,
            "max_width": null,
            "min_height": null,
            "min_width": null,
            "object_fit": null,
            "object_position": null,
            "order": null,
            "overflow": null,
            "overflow_x": null,
            "overflow_y": null,
            "padding": null,
            "right": null,
            "top": null,
            "visibility": null,
            "width": null
          }
        },
        "5040a7d9ba534ea4974b43c0a6cb55a7": {
          "model_module": "@jupyter-widgets/base",
          "model_name": "LayoutModel",
          "model_module_version": "1.2.0",
          "state": {
            "_model_module": "@jupyter-widgets/base",
            "_model_module_version": "1.2.0",
            "_model_name": "LayoutModel",
            "_view_count": null,
            "_view_module": "@jupyter-widgets/base",
            "_view_module_version": "1.2.0",
            "_view_name": "LayoutView",
            "align_content": null,
            "align_items": null,
            "align_self": null,
            "border": null,
            "bottom": null,
            "display": null,
            "flex": null,
            "flex_flow": null,
            "grid_area": null,
            "grid_auto_columns": null,
            "grid_auto_flow": null,
            "grid_auto_rows": null,
            "grid_column": null,
            "grid_gap": null,
            "grid_row": null,
            "grid_template_areas": null,
            "grid_template_columns": null,
            "grid_template_rows": null,
            "height": null,
            "justify_content": null,
            "justify_items": null,
            "left": null,
            "margin": null,
            "max_height": null,
            "max_width": null,
            "min_height": null,
            "min_width": null,
            "object_fit": null,
            "object_position": null,
            "order": null,
            "overflow": null,
            "overflow_x": null,
            "overflow_y": null,
            "padding": null,
            "right": null,
            "top": null,
            "visibility": null,
            "width": null
          }
        },
        "6ca941e997214314a561743cf5c22547": {
          "model_module": "@jupyter-widgets/controls",
          "model_name": "DescriptionStyleModel",
          "model_module_version": "1.5.0",
          "state": {
            "_model_module": "@jupyter-widgets/controls",
            "_model_module_version": "1.5.0",
            "_model_name": "DescriptionStyleModel",
            "_view_count": null,
            "_view_module": "@jupyter-widgets/base",
            "_view_module_version": "1.2.0",
            "_view_name": "StyleView",
            "description_width": ""
          }
        },
        "5e400d41b75349deac9b612e556d4ae6": {
          "model_module": "@jupyter-widgets/base",
          "model_name": "LayoutModel",
          "model_module_version": "1.2.0",
          "state": {
            "_model_module": "@jupyter-widgets/base",
            "_model_module_version": "1.2.0",
            "_model_name": "LayoutModel",
            "_view_count": null,
            "_view_module": "@jupyter-widgets/base",
            "_view_module_version": "1.2.0",
            "_view_name": "LayoutView",
            "align_content": null,
            "align_items": null,
            "align_self": null,
            "border": null,
            "bottom": null,
            "display": null,
            "flex": null,
            "flex_flow": null,
            "grid_area": null,
            "grid_auto_columns": null,
            "grid_auto_flow": null,
            "grid_auto_rows": null,
            "grid_column": null,
            "grid_gap": null,
            "grid_row": null,
            "grid_template_areas": null,
            "grid_template_columns": null,
            "grid_template_rows": null,
            "height": null,
            "justify_content": null,
            "justify_items": null,
            "left": null,
            "margin": null,
            "max_height": null,
            "max_width": null,
            "min_height": null,
            "min_width": null,
            "object_fit": null,
            "object_position": null,
            "order": null,
            "overflow": null,
            "overflow_x": null,
            "overflow_y": null,
            "padding": null,
            "right": null,
            "top": null,
            "visibility": null,
            "width": null
          }
        },
        "da652d3af3f744d6b0b26d3de891bec0": {
          "model_module": "@jupyter-widgets/controls",
          "model_name": "DescriptionStyleModel",
          "model_module_version": "1.5.0",
          "state": {
            "_model_module": "@jupyter-widgets/controls",
            "_model_module_version": "1.5.0",
            "_model_name": "DescriptionStyleModel",
            "_view_count": null,
            "_view_module": "@jupyter-widgets/base",
            "_view_module_version": "1.2.0",
            "_view_name": "StyleView",
            "description_width": ""
          }
        },
        "d4411087a2174f2ca7c3c475a8a9b37a": {
          "model_module": "@jupyter-widgets/base",
          "model_name": "LayoutModel",
          "model_module_version": "1.2.0",
          "state": {
            "_model_module": "@jupyter-widgets/base",
            "_model_module_version": "1.2.0",
            "_model_name": "LayoutModel",
            "_view_count": null,
            "_view_module": "@jupyter-widgets/base",
            "_view_module_version": "1.2.0",
            "_view_name": "LayoutView",
            "align_content": null,
            "align_items": null,
            "align_self": null,
            "border": null,
            "bottom": null,
            "display": null,
            "flex": null,
            "flex_flow": null,
            "grid_area": null,
            "grid_auto_columns": null,
            "grid_auto_flow": null,
            "grid_auto_rows": null,
            "grid_column": null,
            "grid_gap": null,
            "grid_row": null,
            "grid_template_areas": null,
            "grid_template_columns": null,
            "grid_template_rows": null,
            "height": null,
            "justify_content": null,
            "justify_items": null,
            "left": null,
            "margin": null,
            "max_height": null,
            "max_width": null,
            "min_height": null,
            "min_width": null,
            "object_fit": null,
            "object_position": null,
            "order": null,
            "overflow": null,
            "overflow_x": null,
            "overflow_y": null,
            "padding": null,
            "right": null,
            "top": null,
            "visibility": null,
            "width": null
          }
        },
        "819bb20e13644a58ad7ab263213f4a7e": {
          "model_module": "@jupyter-widgets/controls",
          "model_name": "DescriptionStyleModel",
          "model_module_version": "1.5.0",
          "state": {
            "_model_module": "@jupyter-widgets/controls",
            "_model_module_version": "1.5.0",
            "_model_name": "DescriptionStyleModel",
            "_view_count": null,
            "_view_module": "@jupyter-widgets/base",
            "_view_module_version": "1.2.0",
            "_view_name": "StyleView",
            "description_width": ""
          }
        },
        "b1c77a5b3c484d32b2814c2d39921b1b": {
          "model_module": "@jupyter-widgets/base",
          "model_name": "LayoutModel",
          "model_module_version": "1.2.0",
          "state": {
            "_model_module": "@jupyter-widgets/base",
            "_model_module_version": "1.2.0",
            "_model_name": "LayoutModel",
            "_view_count": null,
            "_view_module": "@jupyter-widgets/base",
            "_view_module_version": "1.2.0",
            "_view_name": "LayoutView",
            "align_content": null,
            "align_items": null,
            "align_self": null,
            "border": null,
            "bottom": null,
            "display": null,
            "flex": null,
            "flex_flow": null,
            "grid_area": null,
            "grid_auto_columns": null,
            "grid_auto_flow": null,
            "grid_auto_rows": null,
            "grid_column": null,
            "grid_gap": null,
            "grid_row": null,
            "grid_template_areas": null,
            "grid_template_columns": null,
            "grid_template_rows": null,
            "height": null,
            "justify_content": null,
            "justify_items": null,
            "left": null,
            "margin": null,
            "max_height": null,
            "max_width": null,
            "min_height": null,
            "min_width": null,
            "object_fit": null,
            "object_position": null,
            "order": null,
            "overflow": null,
            "overflow_x": null,
            "overflow_y": null,
            "padding": null,
            "right": null,
            "top": null,
            "visibility": null,
            "width": null
          }
        },
        "5c394c1b92324e8683ace73cbfabdac8": {
          "model_module": "@jupyter-widgets/controls",
          "model_name": "ButtonStyleModel",
          "model_module_version": "1.5.0",
          "state": {
            "_model_module": "@jupyter-widgets/controls",
            "_model_module_version": "1.5.0",
            "_model_name": "ButtonStyleModel",
            "_view_count": null,
            "_view_module": "@jupyter-widgets/base",
            "_view_module_version": "1.2.0",
            "_view_name": "StyleView",
            "button_color": null,
            "font_weight": ""
          }
        },
        "7e23b3efbe594e5baeb986f12585c97b": {
          "model_module": "@jupyter-widgets/base",
          "model_name": "LayoutModel",
          "model_module_version": "1.2.0",
          "state": {
            "_model_module": "@jupyter-widgets/base",
            "_model_module_version": "1.2.0",
            "_model_name": "LayoutModel",
            "_view_count": null,
            "_view_module": "@jupyter-widgets/base",
            "_view_module_version": "1.2.0",
            "_view_name": "LayoutView",
            "align_content": null,
            "align_items": null,
            "align_self": null,
            "border": null,
            "bottom": null,
            "display": null,
            "flex": null,
            "flex_flow": null,
            "grid_area": null,
            "grid_auto_columns": null,
            "grid_auto_flow": null,
            "grid_auto_rows": null,
            "grid_column": null,
            "grid_gap": null,
            "grid_row": null,
            "grid_template_areas": null,
            "grid_template_columns": null,
            "grid_template_rows": null,
            "height": null,
            "justify_content": null,
            "justify_items": null,
            "left": null,
            "margin": null,
            "max_height": null,
            "max_width": null,
            "min_height": null,
            "min_width": null,
            "object_fit": null,
            "object_position": null,
            "order": null,
            "overflow": null,
            "overflow_x": null,
            "overflow_y": null,
            "padding": null,
            "right": null,
            "top": null,
            "visibility": null,
            "width": null
          }
        },
        "a24b102cf282480db27fc91a4d6bea15": {
          "model_module": "@jupyter-widgets/controls",
          "model_name": "IntTextModel",
          "model_module_version": "1.5.0",
          "state": {
            "_dom_classes": [],
            "_model_module": "@jupyter-widgets/controls",
            "_model_module_version": "1.5.0",
            "_model_name": "IntTextModel",
            "_view_count": null,
            "_view_module": "@jupyter-widgets/controls",
            "_view_module_version": "1.5.0",
            "_view_name": "IntTextView",
            "continuous_update": false,
            "description": "",
            "description_tooltip": null,
            "disabled": false,
            "layout": "IPY_MODEL_ffc8054660f94ea9a6d89b1e1e8c1c23",
            "step": 1,
            "style": "IPY_MODEL_5055f6b659c3473a8694548c08954c96",
            "value": 0
          }
        },
        "ffc8054660f94ea9a6d89b1e1e8c1c23": {
          "model_module": "@jupyter-widgets/base",
          "model_name": "LayoutModel",
          "model_module_version": "1.2.0",
          "state": {
            "_model_module": "@jupyter-widgets/base",
            "_model_module_version": "1.2.0",
            "_model_name": "LayoutModel",
            "_view_count": null,
            "_view_module": "@jupyter-widgets/base",
            "_view_module_version": "1.2.0",
            "_view_name": "LayoutView",
            "align_content": null,
            "align_items": null,
            "align_self": null,
            "border": null,
            "bottom": null,
            "display": null,
            "flex": null,
            "flex_flow": null,
            "grid_area": null,
            "grid_auto_columns": null,
            "grid_auto_flow": null,
            "grid_auto_rows": null,
            "grid_column": null,
            "grid_gap": null,
            "grid_row": null,
            "grid_template_areas": null,
            "grid_template_columns": null,
            "grid_template_rows": null,
            "height": null,
            "justify_content": null,
            "justify_items": null,
            "left": null,
            "margin": null,
            "max_height": null,
            "max_width": null,
            "min_height": null,
            "min_width": null,
            "object_fit": null,
            "object_position": null,
            "order": null,
            "overflow": null,
            "overflow_x": null,
            "overflow_y": null,
            "padding": null,
            "right": null,
            "top": null,
            "visibility": null,
            "width": null
          }
        },
        "5055f6b659c3473a8694548c08954c96": {
          "model_module": "@jupyter-widgets/controls",
          "model_name": "DescriptionStyleModel",
          "model_module_version": "1.5.0",
          "state": {
            "_model_module": "@jupyter-widgets/controls",
            "_model_module_version": "1.5.0",
            "_model_name": "DescriptionStyleModel",
            "_view_count": null,
            "_view_module": "@jupyter-widgets/base",
            "_view_module_version": "1.2.0",
            "_view_name": "StyleView",
            "description_width": ""
          }
        },
        "493bf7962c7f4a6c8b183674b3d8d5f1": {
          "model_module": "@jupyter-widgets/controls",
          "model_name": "IntSliderModel",
          "model_module_version": "1.5.0",
          "state": {
            "_dom_classes": [],
            "_model_module": "@jupyter-widgets/controls",
            "_model_module_version": "1.5.0",
            "_model_name": "IntSliderModel",
            "_view_count": null,
            "_view_module": "@jupyter-widgets/controls",
            "_view_module_version": "1.5.0",
            "_view_name": "IntSliderView",
            "continuous_update": true,
            "description": "",
            "description_tooltip": null,
            "disabled": false,
            "layout": "IPY_MODEL_f565c4b9ab514597a3189d50bb6b38e7",
            "max": 100,
            "min": 0,
            "orientation": "horizontal",
            "readout": true,
            "readout_format": "d",
            "step": 1,
            "style": "IPY_MODEL_50f95e4661b04edb982d500d761a5a7a",
            "value": 0
          }
        },
        "f565c4b9ab514597a3189d50bb6b38e7": {
          "model_module": "@jupyter-widgets/base",
          "model_name": "LayoutModel",
          "model_module_version": "1.2.0",
          "state": {
            "_model_module": "@jupyter-widgets/base",
            "_model_module_version": "1.2.0",
            "_model_name": "LayoutModel",
            "_view_count": null,
            "_view_module": "@jupyter-widgets/base",
            "_view_module_version": "1.2.0",
            "_view_name": "LayoutView",
            "align_content": null,
            "align_items": null,
            "align_self": null,
            "border": null,
            "bottom": null,
            "display": null,
            "flex": null,
            "flex_flow": null,
            "grid_area": null,
            "grid_auto_columns": null,
            "grid_auto_flow": null,
            "grid_auto_rows": null,
            "grid_column": null,
            "grid_gap": null,
            "grid_row": null,
            "grid_template_areas": null,
            "grid_template_columns": null,
            "grid_template_rows": null,
            "height": null,
            "justify_content": null,
            "justify_items": null,
            "left": null,
            "margin": null,
            "max_height": null,
            "max_width": null,
            "min_height": null,
            "min_width": null,
            "object_fit": null,
            "object_position": null,
            "order": null,
            "overflow": null,
            "overflow_x": null,
            "overflow_y": null,
            "padding": null,
            "right": null,
            "top": null,
            "visibility": null,
            "width": null
          }
        },
        "50f95e4661b04edb982d500d761a5a7a": {
          "model_module": "@jupyter-widgets/controls",
          "model_name": "SliderStyleModel",
          "model_module_version": "1.5.0",
          "state": {
            "_model_module": "@jupyter-widgets/controls",
            "_model_module_version": "1.5.0",
            "_model_name": "SliderStyleModel",
            "_view_count": null,
            "_view_module": "@jupyter-widgets/base",
            "_view_module_version": "1.2.0",
            "_view_name": "StyleView",
            "description_width": "",
            "handle_color": null
          }
        },
        "caa7ff52f35d43c5b507d326f70f50ef": {
          "model_module": "@jupyter-widgets/controls",
          "model_name": "TabModel",
          "model_module_version": "1.5.0",
          "state": {
            "_dom_classes": [],
            "_model_module": "@jupyter-widgets/controls",
            "_model_module_version": "1.5.0",
            "_model_name": "TabModel",
            "_titles": {
              "0": "Tab1",
              "1": "Tab2"
            },
            "_view_count": null,
            "_view_module": "@jupyter-widgets/controls",
            "_view_module_version": "1.5.0",
            "_view_name": "TabView",
            "box_style": "",
            "children": [
              "IPY_MODEL_3bc64bb91fb74077a362910273d5d99c",
              "IPY_MODEL_29b6b5dbdb6147ea809d681a6c88783b"
            ],
            "layout": "IPY_MODEL_232dcf77133442459c6571f5b80c59ed",
            "selected_index": 0
          }
        },
        "3bc64bb91fb74077a362910273d5d99c": {
          "model_module": "@jupyter-widgets/controls",
          "model_name": "VBoxModel",
          "model_module_version": "1.5.0",
          "state": {
            "_dom_classes": [],
            "_model_module": "@jupyter-widgets/controls",
            "_model_module_version": "1.5.0",
            "_model_name": "VBoxModel",
            "_view_count": null,
            "_view_module": "@jupyter-widgets/controls",
            "_view_module_version": "1.5.0",
            "_view_name": "VBoxView",
            "box_style": "",
            "children": [
              "IPY_MODEL_a24b102cf282480db27fc91a4d6bea15",
              "IPY_MODEL_493bf7962c7f4a6c8b183674b3d8d5f1"
            ],
            "layout": "IPY_MODEL_ec5ff5a99c724955a726c70e249a26e4"
          }
        },
        "29b6b5dbdb6147ea809d681a6c88783b": {
          "model_module": "@jupyter-widgets/controls",
          "model_name": "VBoxModel",
          "model_module_version": "1.5.0",
          "state": {
            "_dom_classes": [],
            "_model_module": "@jupyter-widgets/controls",
            "_model_module_version": "1.5.0",
            "_model_name": "VBoxModel",
            "_view_count": null,
            "_view_module": "@jupyter-widgets/controls",
            "_view_module_version": "1.5.0",
            "_view_name": "VBoxView",
            "box_style": "",
            "children": [
              "IPY_MODEL_58fd6e3bf4d0441faa0e0e36d227bd5a",
              "IPY_MODEL_7fe1007c194d4c2e97b3f891212bba2c"
            ],
            "layout": "IPY_MODEL_26d9b5acc49a4b79bf868aa9e8ce6652"
          }
        },
        "232dcf77133442459c6571f5b80c59ed": {
          "model_module": "@jupyter-widgets/base",
          "model_name": "LayoutModel",
          "model_module_version": "1.2.0",
          "state": {
            "_model_module": "@jupyter-widgets/base",
            "_model_module_version": "1.2.0",
            "_model_name": "LayoutModel",
            "_view_count": null,
            "_view_module": "@jupyter-widgets/base",
            "_view_module_version": "1.2.0",
            "_view_name": "LayoutView",
            "align_content": null,
            "align_items": null,
            "align_self": null,
            "border": null,
            "bottom": null,
            "display": null,
            "flex": null,
            "flex_flow": null,
            "grid_area": null,
            "grid_auto_columns": null,
            "grid_auto_flow": null,
            "grid_auto_rows": null,
            "grid_column": null,
            "grid_gap": null,
            "grid_row": null,
            "grid_template_areas": null,
            "grid_template_columns": null,
            "grid_template_rows": null,
            "height": null,
            "justify_content": null,
            "justify_items": null,
            "left": null,
            "margin": null,
            "max_height": null,
            "max_width": null,
            "min_height": null,
            "min_width": null,
            "object_fit": null,
            "object_position": null,
            "order": null,
            "overflow": null,
            "overflow_x": null,
            "overflow_y": null,
            "padding": null,
            "right": null,
            "top": null,
            "visibility": null,
            "width": null
          }
        },
        "ec5ff5a99c724955a726c70e249a26e4": {
          "model_module": "@jupyter-widgets/base",
          "model_name": "LayoutModel",
          "model_module_version": "1.2.0",
          "state": {
            "_model_module": "@jupyter-widgets/base",
            "_model_module_version": "1.2.0",
            "_model_name": "LayoutModel",
            "_view_count": null,
            "_view_module": "@jupyter-widgets/base",
            "_view_module_version": "1.2.0",
            "_view_name": "LayoutView",
            "align_content": null,
            "align_items": null,
            "align_self": null,
            "border": null,
            "bottom": null,
            "display": null,
            "flex": null,
            "flex_flow": null,
            "grid_area": null,
            "grid_auto_columns": null,
            "grid_auto_flow": null,
            "grid_auto_rows": null,
            "grid_column": null,
            "grid_gap": null,
            "grid_row": null,
            "grid_template_areas": null,
            "grid_template_columns": null,
            "grid_template_rows": null,
            "height": null,
            "justify_content": null,
            "justify_items": null,
            "left": null,
            "margin": null,
            "max_height": null,
            "max_width": null,
            "min_height": null,
            "min_width": null,
            "object_fit": null,
            "object_position": null,
            "order": null,
            "overflow": null,
            "overflow_x": null,
            "overflow_y": null,
            "padding": null,
            "right": null,
            "top": null,
            "visibility": null,
            "width": null
          }
        },
        "58fd6e3bf4d0441faa0e0e36d227bd5a": {
          "model_module": "@jupyter-widgets/controls",
          "model_name": "ButtonModel",
          "model_module_version": "1.5.0",
          "state": {
            "_dom_classes": [],
            "_model_module": "@jupyter-widgets/controls",
            "_model_module_version": "1.5.0",
            "_model_name": "ButtonModel",
            "_view_count": null,
            "_view_module": "@jupyter-widgets/controls",
            "_view_module_version": "1.5.0",
            "_view_name": "ButtonView",
            "button_style": "",
            "description": "Press",
            "disabled": false,
            "icon": "",
            "layout": "IPY_MODEL_9fc742ee909e4045bd6176c8681de999",
            "style": "IPY_MODEL_0d1f02fbd145400e913965c935937a4f",
            "tooltip": ""
          }
        },
        "7fe1007c194d4c2e97b3f891212bba2c": {
          "model_module": "@jupyter-widgets/controls",
          "model_name": "HBoxModel",
          "model_module_version": "1.5.0",
          "state": {
            "_dom_classes": [],
            "_model_module": "@jupyter-widgets/controls",
            "_model_module_version": "1.5.0",
            "_model_name": "HBoxModel",
            "_view_count": null,
            "_view_module": "@jupyter-widgets/controls",
            "_view_module_version": "1.5.0",
            "_view_name": "HBoxView",
            "box_style": "",
            "children": [
              "IPY_MODEL_91eece031f3a4fcab2bb6065b9e982b2",
              "IPY_MODEL_dc56542d3b0e4df9a4fda4f5bc90406b",
              "IPY_MODEL_c81a4fae467743ceade7132c288a369e"
            ],
            "layout": "IPY_MODEL_feb1503523864b9e9d086b7db67d8de8"
          }
        },
        "26d9b5acc49a4b79bf868aa9e8ce6652": {
          "model_module": "@jupyter-widgets/base",
          "model_name": "LayoutModel",
          "model_module_version": "1.2.0",
          "state": {
            "_model_module": "@jupyter-widgets/base",
            "_model_module_version": "1.2.0",
            "_model_name": "LayoutModel",
            "_view_count": null,
            "_view_module": "@jupyter-widgets/base",
            "_view_module_version": "1.2.0",
            "_view_name": "LayoutView",
            "align_content": null,
            "align_items": null,
            "align_self": null,
            "border": null,
            "bottom": null,
            "display": null,
            "flex": null,
            "flex_flow": null,
            "grid_area": null,
            "grid_auto_columns": null,
            "grid_auto_flow": null,
            "grid_auto_rows": null,
            "grid_column": null,
            "grid_gap": null,
            "grid_row": null,
            "grid_template_areas": null,
            "grid_template_columns": null,
            "grid_template_rows": null,
            "height": null,
            "justify_content": null,
            "justify_items": null,
            "left": null,
            "margin": null,
            "max_height": null,
            "max_width": null,
            "min_height": null,
            "min_width": null,
            "object_fit": null,
            "object_position": null,
            "order": null,
            "overflow": null,
            "overflow_x": null,
            "overflow_y": null,
            "padding": null,
            "right": null,
            "top": null,
            "visibility": null,
            "width": null
          }
        },
        "9fc742ee909e4045bd6176c8681de999": {
          "model_module": "@jupyter-widgets/base",
          "model_name": "LayoutModel",
          "model_module_version": "1.2.0",
          "state": {
            "_model_module": "@jupyter-widgets/base",
            "_model_module_version": "1.2.0",
            "_model_name": "LayoutModel",
            "_view_count": null,
            "_view_module": "@jupyter-widgets/base",
            "_view_module_version": "1.2.0",
            "_view_name": "LayoutView",
            "align_content": null,
            "align_items": null,
            "align_self": null,
            "border": null,
            "bottom": null,
            "display": null,
            "flex": null,
            "flex_flow": null,
            "grid_area": null,
            "grid_auto_columns": null,
            "grid_auto_flow": null,
            "grid_auto_rows": null,
            "grid_column": null,
            "grid_gap": null,
            "grid_row": null,
            "grid_template_areas": null,
            "grid_template_columns": null,
            "grid_template_rows": null,
            "height": null,
            "justify_content": null,
            "justify_items": null,
            "left": null,
            "margin": null,
            "max_height": null,
            "max_width": null,
            "min_height": null,
            "min_width": null,
            "object_fit": null,
            "object_position": null,
            "order": null,
            "overflow": null,
            "overflow_x": null,
            "overflow_y": null,
            "padding": null,
            "right": null,
            "top": null,
            "visibility": null,
            "width": null
          }
        },
        "0d1f02fbd145400e913965c935937a4f": {
          "model_module": "@jupyter-widgets/controls",
          "model_name": "ButtonStyleModel",
          "model_module_version": "1.5.0",
          "state": {
            "_model_module": "@jupyter-widgets/controls",
            "_model_module_version": "1.5.0",
            "_model_name": "ButtonStyleModel",
            "_view_count": null,
            "_view_module": "@jupyter-widgets/base",
            "_view_module_version": "1.2.0",
            "_view_name": "StyleView",
            "button_color": null,
            "font_weight": ""
          }
        },
        "91eece031f3a4fcab2bb6065b9e982b2": {
          "model_module": "@jupyter-widgets/controls",
          "model_name": "TextModel",
          "model_module_version": "1.5.0",
          "state": {
            "_dom_classes": [],
            "_model_module": "@jupyter-widgets/controls",
            "_model_module_version": "1.5.0",
            "_model_name": "TextModel",
            "_view_count": null,
            "_view_module": "@jupyter-widgets/controls",
            "_view_module_version": "1.5.0",
            "_view_name": "TextView",
            "continuous_update": true,
            "description": "Title",
            "description_tooltip": null,
            "disabled": false,
            "layout": "IPY_MODEL_6f746b00ec7e46ebb92aa84152faeb09",
            "placeholder": "​",
            "style": "IPY_MODEL_3bdf46bcfc6a40179cce610624c4023c",
            "value": "Hello"
          }
        },
        "dc56542d3b0e4df9a4fda4f5bc90406b": {
          "model_module": "@jupyter-widgets/controls",
          "model_name": "ToggleButtonModel",
          "model_module_version": "1.5.0",
          "state": {
            "_dom_classes": [],
            "_model_module": "@jupyter-widgets/controls",
            "_model_module_version": "1.5.0",
            "_model_name": "ToggleButtonModel",
            "_view_count": null,
            "_view_module": "@jupyter-widgets/controls",
            "_view_module_version": "1.5.0",
            "_view_name": "ToggleButtonView",
            "button_style": "",
            "description": "Grid",
            "description_tooltip": null,
            "disabled": false,
            "icon": "",
            "layout": "IPY_MODEL_dc946cc5c0474e0aa1a4f545b5ced81d",
            "style": "IPY_MODEL_7a84eebb3cb64e20b9a513a4b03568fc",
            "tooltip": "",
            "value": false
          }
        },
        "feb1503523864b9e9d086b7db67d8de8": {
          "model_module": "@jupyter-widgets/base",
          "model_name": "LayoutModel",
          "model_module_version": "1.2.0",
          "state": {
            "_model_module": "@jupyter-widgets/base",
            "_model_module_version": "1.2.0",
            "_model_name": "LayoutModel",
            "_view_count": null,
            "_view_module": "@jupyter-widgets/base",
            "_view_module_version": "1.2.0",
            "_view_name": "LayoutView",
            "align_content": null,
            "align_items": null,
            "align_self": null,
            "border": null,
            "bottom": null,
            "display": null,
            "flex": null,
            "flex_flow": null,
            "grid_area": null,
            "grid_auto_columns": null,
            "grid_auto_flow": null,
            "grid_auto_rows": null,
            "grid_column": null,
            "grid_gap": null,
            "grid_row": null,
            "grid_template_areas": null,
            "grid_template_columns": null,
            "grid_template_rows": null,
            "height": null,
            "justify_content": null,
            "justify_items": null,
            "left": null,
            "margin": null,
            "max_height": null,
            "max_width": null,
            "min_height": null,
            "min_width": null,
            "object_fit": null,
            "object_position": null,
            "order": null,
            "overflow": null,
            "overflow_x": null,
            "overflow_y": null,
            "padding": null,
            "right": null,
            "top": null,
            "visibility": null,
            "width": null
          }
        },
        "6f746b00ec7e46ebb92aa84152faeb09": {
          "model_module": "@jupyter-widgets/base",
          "model_name": "LayoutModel",
          "model_module_version": "1.2.0",
          "state": {
            "_model_module": "@jupyter-widgets/base",
            "_model_module_version": "1.2.0",
            "_model_name": "LayoutModel",
            "_view_count": null,
            "_view_module": "@jupyter-widgets/base",
            "_view_module_version": "1.2.0",
            "_view_name": "LayoutView",
            "align_content": null,
            "align_items": null,
            "align_self": null,
            "border": null,
            "bottom": null,
            "display": null,
            "flex": null,
            "flex_flow": null,
            "grid_area": null,
            "grid_auto_columns": null,
            "grid_auto_flow": null,
            "grid_auto_rows": null,
            "grid_column": null,
            "grid_gap": null,
            "grid_row": null,
            "grid_template_areas": null,
            "grid_template_columns": null,
            "grid_template_rows": null,
            "height": null,
            "justify_content": null,
            "justify_items": null,
            "left": null,
            "margin": null,
            "max_height": null,
            "max_width": null,
            "min_height": null,
            "min_width": null,
            "object_fit": null,
            "object_position": null,
            "order": null,
            "overflow": null,
            "overflow_x": null,
            "overflow_y": null,
            "padding": null,
            "right": null,
            "top": null,
            "visibility": null,
            "width": null
          }
        },
        "3bdf46bcfc6a40179cce610624c4023c": {
          "model_module": "@jupyter-widgets/controls",
          "model_name": "DescriptionStyleModel",
          "model_module_version": "1.5.0",
          "state": {
            "_model_module": "@jupyter-widgets/controls",
            "_model_module_version": "1.5.0",
            "_model_name": "DescriptionStyleModel",
            "_view_count": null,
            "_view_module": "@jupyter-widgets/base",
            "_view_module_version": "1.2.0",
            "_view_name": "StyleView",
            "description_width": ""
          }
        },
        "dc946cc5c0474e0aa1a4f545b5ced81d": {
          "model_module": "@jupyter-widgets/base",
          "model_name": "LayoutModel",
          "model_module_version": "1.2.0",
          "state": {
            "_model_module": "@jupyter-widgets/base",
            "_model_module_version": "1.2.0",
            "_model_name": "LayoutModel",
            "_view_count": null,
            "_view_module": "@jupyter-widgets/base",
            "_view_module_version": "1.2.0",
            "_view_name": "LayoutView",
            "align_content": null,
            "align_items": null,
            "align_self": null,
            "border": null,
            "bottom": null,
            "display": null,
            "flex": null,
            "flex_flow": null,
            "grid_area": null,
            "grid_auto_columns": null,
            "grid_auto_flow": null,
            "grid_auto_rows": null,
            "grid_column": null,
            "grid_gap": null,
            "grid_row": null,
            "grid_template_areas": null,
            "grid_template_columns": null,
            "grid_template_rows": null,
            "height": null,
            "justify_content": null,
            "justify_items": null,
            "left": null,
            "margin": null,
            "max_height": null,
            "max_width": null,
            "min_height": null,
            "min_width": null,
            "object_fit": null,
            "object_position": null,
            "order": null,
            "overflow": null,
            "overflow_x": null,
            "overflow_y": null,
            "padding": null,
            "right": null,
            "top": null,
            "visibility": null,
            "width": null
          }
        },
        "7a84eebb3cb64e20b9a513a4b03568fc": {
          "model_module": "@jupyter-widgets/controls",
          "model_name": "DescriptionStyleModel",
          "model_module_version": "1.5.0",
          "state": {
            "_model_module": "@jupyter-widgets/controls",
            "_model_module_version": "1.5.0",
            "_model_name": "DescriptionStyleModel",
            "_view_count": null,
            "_view_module": "@jupyter-widgets/base",
            "_view_module_version": "1.2.0",
            "_view_name": "StyleView",
            "description_width": ""
          }
        }
      }
    }
  },
  "nbformat": 4,
  "nbformat_minor": 0
}